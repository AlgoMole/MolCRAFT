{
 "cells": [
  {
   "cell_type": "code",
   "execution_count": 1,
   "metadata": {},
   "outputs": [
    {
     "name": "stdout",
     "output_type": "stream",
     "text": [
      "File ../mols-v153-qed_docked/eval_all.pt does not exist. Skip.\n",
      "File ../mols-v154-sa_docked/eval_all.pt does not exist. Skip.\n",
      "File ../mols-v161-lipinski_docked/eval_all.pt does not exist. Skip.\n",
      "File ../mols-v159-vina_qed_docked/eval_all.pt does not exist. Skip.\n",
      "File ../mols-v160-vina_sa_docked/eval_all.pt does not exist. Skip.\n",
      "File ../mols-v163-qed_sa_docked/eval_all.pt does not exist. Skip.\n",
      "File ../mols-v155-vina_docked/eval_all.pt does not exist. Skip.\n",
      "File ../mols-v166-vina_qed_sa_docked/eval_all.pt does not exist. Skip.\n",
      "File ../mols-v167-vina_qed_sa_lipinski_docked/eval_all.pt does not exist. Skip.\n"
     ]
    }
   ],
   "source": [
    "import shutil\n",
    "import os\n",
    "import torch\n",
    "from rdkit import Chem\n",
    "\n",
    "src_dir = ['mols-v153-qed', 'mols-v154-sa', 'mols-v161-lipinski'] + \\\n",
    "    ['mols-v159-vina_qed', 'mols-v160-vina_sa', 'mols-v163-qed_sa', 'mols-v155-vina', 'mols-v166-vina_qed_sa', 'mols-v167-vina_qed_sa_lipinski']\n",
    "\n",
    "result_dir = '/sharefs/share/sbdd_data/opt_results'\n",
    "\n",
    "for src in src_dir:\n",
    "    src_path = os.path.join('..', f'{src}_docked', 'eval_all.pt')\n",
    "    if not os.path.exists(src_path):\n",
    "        print(f\"File {src_path} does not exist. Skip.\")\n",
    "        continue\n",
    "    results = torch.load(src_path)\n",
    "    for res in results:\n",
    "        ligand_filename = res['ligand_filename']\n",
    "        with Chem.SDMolSupplier(os.path.join('..', ligand_filename)) as suppl:\n",
    "            mol = suppl[0]\n",
    "            if mol is None:\n",
    "                print(f\"Error reading {ligand_filename}\")\n",
    "                continue\n",
    "            res['ligand_filename'] = mol.GetProp('_Name')\n",
    "    tgt_name = f\"bfn_{src.split('-')[-1]}_vina_docked.pt\"\n",
    "    tgt_path = os.path.join(result_dir, tgt_name)\n",
    "    torch.save(results, tgt_path)\n",
    "    # if os.path.exists(tgt_path):\n",
    "    #     print(f\"File {tgt_path} already exists. Skip.\")\n",
    "    #     continue\n",
    "    # shutil.copy(src_path, tgt_path)"
   ]
  },
  {
   "cell_type": "markdown",
   "metadata": {},
   "source": [
    "## Validity"
   ]
  },
  {
   "cell_type": "code",
   "execution_count": 18,
   "metadata": {},
   "outputs": [
    {
     "data": {
      "text/plain": [
       "(6,\n",
       " dict_keys(['mol', 'qed', 'sa', 'vina_score', 'vina_min', 'vina_dock']),\n",
       " 100,\n",
       " 16,\n",
       " 16,\n",
       " 599,\n",
       " 5,\n",
       " 20,\n",
       " 15853)"
      ]
     },
     "execution_count": 18,
     "metadata": {},
     "output_type": "execute_result"
    }
   ],
   "source": [
    "import torch\n",
    "\n",
    "decompopt_path = '/sharefs/share/sbdd_data/opt_results/decompopt-opt_prior-metrics.pt'\n",
    "results = torch.load(decompopt_path)\n",
    "min_len, max_len = 100, 0\n",
    "tot_cnt = 0\n",
    "for molist in results['mol']:\n",
    "    tot_cnt += len(molist)\n",
    "    min_len = min(min_len, len(molist))\n",
    "    max_len = max(max_len, len(molist))\n",
    "\n",
    "min_v_len, max_v_len = 100, 0\n",
    "for vina_list in results['vina_score']:\n",
    "    min_v_len = min(min_v_len, len(vina_list))\n",
    "    max_v_len = max(max_v_len, len(vina_list))\n",
    "\n",
    "len(results), results.keys(), len(results['qed']), len(results['qed'][0]), min_len, max_len, min_v_len, max_v_len, tot_cnt"
   ]
  },
  {
   "cell_type": "code",
   "execution_count": 4,
   "metadata": {},
   "outputs": [
    {
     "data": {
      "text/plain": [
       "(1304, 2500, 0.5216)"
      ]
     },
     "execution_count": 4,
     "metadata": {},
     "output_type": "execute_result"
    }
   ],
   "source": [
    "import glob\n",
    "\n",
    "pdbs = glob.glob('../../codeCodesign/reinforced-genetic-algorithm/result_*.txt')\n",
    "pdbs = [fn.split('_')[-1].replace('.txt', '') for fn in pdbs]\n",
    "\n",
    "sdf_cnt = 0\n",
    "tot_cnt = 0\n",
    "for i in range(5):\n",
    "    for pdb in pdbs:\n",
    "        tot_cnt += 50\n",
    "        sdfs = glob.glob(f'../../codeCodesign/reinforced-genetic-algorithm/results_{pdb}_{i}_SDF/*.sdf')\n",
    "        sdf_cnt += len(sdfs)\n",
    "\n",
    "sdf_cnt, tot_cnt, sdf_cnt / tot_cnt"
   ]
  },
  {
   "cell_type": "code",
   "execution_count": 53,
   "metadata": {},
   "outputs": [
    {
     "name": "stdout",
     "output_type": "stream",
     "text": [
      "-7.402380589812331 -8.280235817694368 -8.89234380697051\n"
     ]
    }
   ],
   "source": [
    "vina_scores, vina_mins, vina_docks, _ = [], [], [], []\n",
    "for i in range(100):\n",
    "    vina_scores.append(results['vina_score'][i])\n",
    "    vina_mins.append(results['vina_min'][i])\n",
    "    vina_docks.append(results['vina_dock'][i])\n",
    "\n",
    "import numpy as np\n",
    "vina_score_all = np.concatenate(vina_scores)\n",
    "vina_min_all = np.concatenate(vina_mins)\n",
    "vina_dock_all = np.concatenate(vina_docks)\n",
    "print(vina_score.mean(), vina_min.mean(), vina_dock.mean())"
   ]
  },
  {
   "cell_type": "code",
   "execution_count": 58,
   "metadata": {},
   "outputs": [
    {
     "data": {
      "text/html": [
       "<div>\n",
       "<style scoped>\n",
       "    .dataframe tbody tr th:only-of-type {\n",
       "        vertical-align: middle;\n",
       "    }\n",
       "\n",
       "    .dataframe tbody tr th {\n",
       "        vertical-align: top;\n",
       "    }\n",
       "\n",
       "    .dataframe thead th {\n",
       "        text-align: right;\n",
       "    }\n",
       "</style>\n",
       "<table border=\"1\" class=\"dataframe\">\n",
       "  <thead>\n",
       "    <tr style=\"text-align: right;\">\n",
       "      <th></th>\n",
       "      <th>Protein</th>\n",
       "      <th>Ligand</th>\n",
       "    </tr>\n",
       "  </thead>\n",
       "  <tbody>\n",
       "    <tr>\n",
       "      <th>0</th>\n",
       "      <td>BSD_ASPTE_1_130_0/2z3h_A_rec_1wn6_bst_lig_tt_d...</td>\n",
       "      <td>BSD_ASPTE_1_130_0/2z3h_A_rec_1wn6_bst_lig_tt_d...</td>\n",
       "    </tr>\n",
       "    <tr>\n",
       "      <th>1</th>\n",
       "      <td>GLMU_STRPN_2_459_0/4aaw_A_rec_4ac3_r83_lig_tt_...</td>\n",
       "      <td>GLMU_STRPN_2_459_0/4aaw_A_rec_4ac3_r83_lig_tt_...</td>\n",
       "    </tr>\n",
       "    <tr>\n",
       "      <th>2</th>\n",
       "      <td>GRK4_HUMAN_1_578_0/4yhj_A_rec_4yhj_an2_lig_tt_...</td>\n",
       "      <td>GRK4_HUMAN_1_578_0/4yhj_A_rec_4yhj_an2_lig_tt_...</td>\n",
       "    </tr>\n",
       "    <tr>\n",
       "      <th>3</th>\n",
       "      <td>GSTP1_HUMAN_2_210_0/14gs_A_rec_20gs_cbd_lig_tt...</td>\n",
       "      <td>GSTP1_HUMAN_2_210_0/14gs_A_rec_20gs_cbd_lig_tt...</td>\n",
       "    </tr>\n",
       "    <tr>\n",
       "      <th>4</th>\n",
       "      <td>GUX1_HYPJE_18_451_0/2v3r_A_rec_1dy4_snp_lig_tt...</td>\n",
       "      <td>GUX1_HYPJE_18_451_0/2v3r_A_rec_1dy4_snp_lig_tt...</td>\n",
       "    </tr>\n",
       "    <tr>\n",
       "      <th>...</th>\n",
       "      <td>...</td>\n",
       "      <td>...</td>\n",
       "    </tr>\n",
       "    <tr>\n",
       "      <th>95</th>\n",
       "      <td>DFPA_LOLVU_2_314_0/3li4_A_rec_2gvv_di9_lig_tt_...</td>\n",
       "      <td>DFPA_LOLVU_2_314_0/3li4_A_rec_2gvv_di9_lig_tt_...</td>\n",
       "    </tr>\n",
       "    <tr>\n",
       "      <th>96</th>\n",
       "      <td>DHAK_ECOLI_1_356_0/3pnm_A_rec_3pnq_2ha_lig_tt_...</td>\n",
       "      <td>DHAK_ECOLI_1_356_0/3pnm_A_rec_3pnq_2ha_lig_tt_...</td>\n",
       "    </tr>\n",
       "    <tr>\n",
       "      <th>97</th>\n",
       "      <td>DIDH_RAT_1_319_0/1afs_A_rec_1afs_tes_lig_tt_mi...</td>\n",
       "      <td>DIDH_RAT_1_319_0/1afs_A_rec_1afs_tes_lig_tt_mi...</td>\n",
       "    </tr>\n",
       "    <tr>\n",
       "      <th>98</th>\n",
       "      <td>DYRK2_HUMAN_145_550_0/4azf_A_rec_5lxc_7aa_lig_...</td>\n",
       "      <td>DYRK2_HUMAN_145_550_0/4azf_A_rec_5lxc_7aa_lig_...</td>\n",
       "    </tr>\n",
       "    <tr>\n",
       "      <th>99</th>\n",
       "      <td>EXG1_CANAL_41_438_0/2pc8_A_rec_1eqc_cts_lig_tt...</td>\n",
       "      <td>EXG1_CANAL_41_438_0/2pc8_A_rec_1eqc_cts_lig_tt...</td>\n",
       "    </tr>\n",
       "  </tbody>\n",
       "</table>\n",
       "<p>100 rows × 2 columns</p>\n",
       "</div>"
      ],
      "text/plain": [
       "                                              Protein  \\\n",
       "0   BSD_ASPTE_1_130_0/2z3h_A_rec_1wn6_bst_lig_tt_d...   \n",
       "1   GLMU_STRPN_2_459_0/4aaw_A_rec_4ac3_r83_lig_tt_...   \n",
       "2   GRK4_HUMAN_1_578_0/4yhj_A_rec_4yhj_an2_lig_tt_...   \n",
       "3   GSTP1_HUMAN_2_210_0/14gs_A_rec_20gs_cbd_lig_tt...   \n",
       "4   GUX1_HYPJE_18_451_0/2v3r_A_rec_1dy4_snp_lig_tt...   \n",
       "..                                                ...   \n",
       "95  DFPA_LOLVU_2_314_0/3li4_A_rec_2gvv_di9_lig_tt_...   \n",
       "96  DHAK_ECOLI_1_356_0/3pnm_A_rec_3pnq_2ha_lig_tt_...   \n",
       "97  DIDH_RAT_1_319_0/1afs_A_rec_1afs_tes_lig_tt_mi...   \n",
       "98  DYRK2_HUMAN_145_550_0/4azf_A_rec_5lxc_7aa_lig_...   \n",
       "99  EXG1_CANAL_41_438_0/2pc8_A_rec_1eqc_cts_lig_tt...   \n",
       "\n",
       "                                               Ligand  \n",
       "0   BSD_ASPTE_1_130_0/2z3h_A_rec_1wn6_bst_lig_tt_d...  \n",
       "1   GLMU_STRPN_2_459_0/4aaw_A_rec_4ac3_r83_lig_tt_...  \n",
       "2   GRK4_HUMAN_1_578_0/4yhj_A_rec_4yhj_an2_lig_tt_...  \n",
       "3   GSTP1_HUMAN_2_210_0/14gs_A_rec_20gs_cbd_lig_tt...  \n",
       "4   GUX1_HYPJE_18_451_0/2v3r_A_rec_1dy4_snp_lig_tt...  \n",
       "..                                                ...  \n",
       "95  DFPA_LOLVU_2_314_0/3li4_A_rec_2gvv_di9_lig_tt_...  \n",
       "96  DHAK_ECOLI_1_356_0/3pnm_A_rec_3pnq_2ha_lig_tt_...  \n",
       "97  DIDH_RAT_1_319_0/1afs_A_rec_1afs_tes_lig_tt_mi...  \n",
       "98  DYRK2_HUMAN_145_550_0/4azf_A_rec_5lxc_7aa_lig_...  \n",
       "99  EXG1_CANAL_41_438_0/2pc8_A_rec_1eqc_cts_lig_tt...  \n",
       "\n",
       "[100 rows x 2 columns]"
      ]
     },
     "execution_count": 58,
     "metadata": {},
     "output_type": "execute_result"
    }
   ],
   "source": [
    "vina_scores, vina_mins, vina_docks, mols = [], [], [], []\n",
    "len_cnt = []\n",
    "for i in range(100):\n",
    "    assert len(results['vina_score'][i]) == len(results['vina_min'][i]) == len(results['vina_dock'][i]), \\\n",
    "        f\"Length mismatch: {len(results['vina_score'][i])}, {len(results['vina_min'][i])}, {len(results['vina_dock'][i])}, {len(results['mol'][i])}\"\n",
    "    len_cnt.append(len(results['vina_score'][i]))\n",
    "    # randomly select min_len samples\n",
    "    rand_idx = np.random.choice(len(results['mol'][i]), min_len)\n",
    "    # vina_scores.append(np.array(results['vina_score'][i])[rand_idx])\n",
    "    # vina_mins.append(np.array(results['vina_min'][i])[rand_idx])\n",
    "    # vina_docks.append(np.array(results['vina_dock'][i])[rand_idx])\n",
    "    mols.append(np.array(results['mol'][i])[rand_idx])\n",
    "    # vina_scores.append(results['vina_score'][i][:min_len])\n",
    "    # vina_mins.append(results['vina_min'][i][:min_len])\n",
    "    # vina_docks.append(results['vina_dock'][i][:min_len])\n",
    "    # mols.append(results['mol'][i][:min_len])\n",
    "\n",
    "import numpy as np\n",
    "# vina_score_all = np.concatenate(vina_scores)\n",
    "# vina_min_all = np.concatenate(vina_mins)\n",
    "# vina_dock_all = np.concatenate(vina_docks)\n",
    "# print(vina_score.mean(), vina_min.mean(), vina_dock.mean())\n",
    "import pandas as pd\n",
    "\n",
    "id2ligand_fn = pd.read_csv('/sharefs/share/sbdd_data/test_list.tsv', sep='\\t')\n",
    "id2ligand_fn"
   ]
  },
  {
   "cell_type": "code",
   "execution_count": 60,
   "metadata": {},
   "outputs": [],
   "source": [
    "from rdkit import Chem\n",
    "import os\n",
    "\n",
    "if not os.path.exists('decompopt'):\n",
    "    os.makedirs('decompopt', exist_ok=True)\n",
    "\n",
    "cnt = 0\n",
    "for i, molist in enumerate(mols):\n",
    "    for mol in molist:\n",
    "        # sdfwriter\n",
    "        mol.SetProp('_Name', id2ligand_fn['Ligand'][i])\n",
    "        writer = Chem.SDWriter(f\"decompopt/{cnt}.sdf\")\n",
    "        writer.write(mol)\n",
    "        writer.close()\n",
    "        cnt += 1"
   ]
  },
  {
   "cell_type": "code",
   "execution_count": 2,
   "metadata": {},
   "outputs": [
    {
     "name": "stdout",
     "output_type": "stream",
     "text": [
      "reference loaded 100 vina docked results\n",
      "Reference loaded 100 vina docked results\n"
     ]
    },
    {
     "data": {
      "text/plain": [
       "(-6.600750803651286,\n",
       " -7.711664843475828,\n",
       " 0.565613373460902,\n",
       " 0.5485908390667587,\n",
       " 24.47966230878316,\n",
       " 3.1854807370766776,\n",
       " 2.319354860898378,\n",
       " 0.11945626439094331,\n",
       " 0.15097239126697354,\n",
       " 6.0472605080343405)"
      ]
     },
     "execution_count": 2,
     "metadata": {},
     "output_type": "execute_result"
    }
   ],
   "source": [
    "from eval_all_results import ModelResults\n",
    "import os\n",
    "import numpy as np\n",
    "import torch\n",
    "\n",
    "result_dir = '/sharefs/share/sbdd_data/opt_results'\n",
    "ref_path = os.path.join(result_dir, 'crossdocked_test_vina_docked.pt')\n",
    "# tgt_path = os.path.join(result_dir, 'targetdiff_inpainting_ref20_vina_docked.pt')\n",
    "# tgt_path = os.path.join(result_dir, 'targetdiff_inpainting_prior20_vina_docked.pt')\n",
    "tgt_path = os.path.join(result_dir, 'tagmol-metrics.pt')\n",
    "\n",
    "ref = ModelResults('Reference', ref_path)\n",
    "flat_results = torch.load(tgt_path)['all_results']\n",
    "ref.load_vina_docked()\n",
    "# targetdiff_inpainting.load_vina_docked()\n",
    "\n",
    "ref_fns = [x['ligand_filename'] for x in ref.flat_results]\n",
    "agg_results = [[] for _ in range(100)]\n",
    "for res in flat_results:\n",
    "    ligand_filename = res['ligand_filename']\n",
    "    idx = ref_fns.index(ligand_filename)\n",
    "    agg_results[idx].append(res)\n",
    "\n",
    "vina_score_avg, vina_min_avg, sa_avg, qed_avg, size_avg = [], [], [], [], []\n",
    "vina_score_std, vina_min_std, sa_std, qed_std, size_std = [], [], [], [], []\n",
    "for res in agg_results:\n",
    "    vina_score_std.append(np.std([x['vina']['score_only'][0]['affinity'] for x in res]))\n",
    "    vina_min_std.append(np.std([x['vina']['minimize'][0]['affinity'] for x in res]))\n",
    "    sa_std.append(np.std([x['chem_results']['sa'] for x in res]))\n",
    "    qed_std.append(np.std([x['chem_results']['qed'] for x in res]))\n",
    "    size_std.append(np.std([x['mol'].GetNumAtoms() for x in res]))\n",
    "    vina_score_avg.append(np.mean([x['vina']['score_only'][0]['affinity'] for x in res]))\n",
    "    vina_min_avg.append(np.mean([x['vina']['minimize'][0]['affinity'] for x in res]))\n",
    "    sa_avg.append(np.mean([x['chem_results']['sa'] for x in res]))\n",
    "    qed_avg.append(np.mean([x['chem_results']['qed'] for x in res]))\n",
    "    size_avg.append(np.mean([x['mol'].GetNumAtoms() for x in res]))\n",
    "\n",
    "vina_score_std, vina_min_std, sa_std, qed_std, size_std = np.array(vina_score_std), np.array(vina_min_std), np.array(sa_std), np.array(qed_std), np.array(size_std)\n",
    "vina_score_avg, vina_min_avg, sa_avg, qed_avg, size_avg = np.array(vina_score_avg), np.array(vina_min_avg), np.array(sa_avg), np.array(qed_avg), np.array(size_avg)\n",
    "\n",
    "vina_score_avg.mean(), vina_min_avg.mean(), sa_avg.mean(), qed_avg.mean(), size_avg.mean(), vina_score_std.mean(), vina_min_std.mean(), sa_std.mean(), qed_std.mean(), size_std.mean()\n"
   ]
  },
  {
   "cell_type": "code",
   "execution_count": 4,
   "metadata": {},
   "outputs": [
    {
     "ename": "AttributeError",
     "evalue": "'ModelResults' object has no attribute 'flat_results'",
     "output_type": "error",
     "traceback": [
      "\u001b[0;31m---------------------------------------------------------------------------\u001b[0m",
      "\u001b[0;31mAttributeError\u001b[0m                            Traceback (most recent call last)",
      "Input \u001b[0;32mIn [4]\u001b[0m, in \u001b[0;36m<cell line: 6>\u001b[0;34m()\u001b[0m\n\u001b[1;32m      2\u001b[0m diffsbdd\u001b[38;5;241m.\u001b[39mload_vina_docked()\n\u001b[1;32m      4\u001b[0m model_tbd \u001b[38;5;241m=\u001b[39m diffsbdd\n\u001b[0;32m----> 6\u001b[0m qed_list \u001b[38;5;241m=\u001b[39m [r[\u001b[38;5;124m'\u001b[39m\u001b[38;5;124mchem_results\u001b[39m\u001b[38;5;124m'\u001b[39m][\u001b[38;5;124m'\u001b[39m\u001b[38;5;124mqed\u001b[39m\u001b[38;5;124m'\u001b[39m] \u001b[38;5;28;01mfor\u001b[39;00m r \u001b[38;5;129;01min\u001b[39;00m \u001b[43mmodel_tbd\u001b[49m\u001b[38;5;241;43m.\u001b[39;49m\u001b[43mflat_results\u001b[49m]\n\u001b[1;32m      7\u001b[0m sa_list \u001b[38;5;241m=\u001b[39m [r[\u001b[38;5;124m'\u001b[39m\u001b[38;5;124mchem_results\u001b[39m\u001b[38;5;124m'\u001b[39m][\u001b[38;5;124m'\u001b[39m\u001b[38;5;124msa\u001b[39m\u001b[38;5;124m'\u001b[39m] \u001b[38;5;28;01mfor\u001b[39;00m r \u001b[38;5;129;01min\u001b[39;00m model_tbd\u001b[38;5;241m.\u001b[39mflat_results]\n\u001b[1;32m      8\u001b[0m vina_dock_list \u001b[38;5;241m=\u001b[39m [r[\u001b[38;5;124m'\u001b[39m\u001b[38;5;124mvina\u001b[39m\u001b[38;5;124m'\u001b[39m][\u001b[38;5;124m'\u001b[39m\u001b[38;5;124mdock\u001b[39m\u001b[38;5;124m'\u001b[39m][\u001b[38;5;241m0\u001b[39m][\u001b[38;5;124m'\u001b[39m\u001b[38;5;124maffinity\u001b[39m\u001b[38;5;124m'\u001b[39m] \u001b[38;5;28;01mfor\u001b[39;00m r \u001b[38;5;129;01min\u001b[39;00m model_tbd\u001b[38;5;241m.\u001b[39mflat_results]\n",
      "\u001b[0;31mAttributeError\u001b[0m: 'ModelResults' object has no attribute 'flat_results'"
     ]
    }
   ],
   "source": [
    "diffsbdd = ModelResults('DiffSBDD', '/sharefs/share/sbdd_data/sbdd_results/diffsbdd_cond_vina_docked.pt')\n",
    "diffsbdd.load_vina_docked()\n",
    "\n",
    "model_tbd = diffsbdd\n",
    "\n",
    "qed_list = [r['chem_results']['qed'] for r in model_tbd.flat_results]\n",
    "sa_list = [r['chem_results']['sa'] for r in model_tbd.flat_results]\n",
    "vina_dock_list = [r['vina']['dock'][0]['affinity'] for r in model_tbd.flat_results]\n",
    "success_rate = (np.array(qed_list) > 0.25) & (np.array(sa_list) > 0.59) & (np.array(vina_dock_list) < -8.18)\n",
    "success_rate = success_rate.sum() / len(success_rate)\n",
    "print(f\"[Success rate%]: {success_rate}\")"
   ]
  },
  {
   "cell_type": "code",
   "execution_count": 3,
   "metadata": {},
   "outputs": [
    {
     "name": "stdout",
     "output_type": "stream",
     "text": [
      "[Success rate%]: 0.11115940454199717\n"
     ]
    }
   ],
   "source": [
    "qed_list = [r['chem_results']['qed'] for r in flat_results]\n",
    "sa_list = [r['chem_results']['sa'] for r in flat_results]\n",
    "vina_dock_list = [r['vina']['dock'][0]['affinity'] for r in flat_results]\n",
    "success_rate = (np.array(qed_list) > 0.25) & (np.array(sa_list) > 0.59) & (np.array(vina_dock_list) < -8.18)\n",
    "success_rate = success_rate.sum() / len(success_rate)\n",
    "print(f\"[Success rate%]: {success_rate}\")"
   ]
  },
  {
   "attachments": {},
   "cell_type": "markdown",
   "metadata": {},
   "source": [
    "## Load Data"
   ]
  },
  {
   "cell_type": "code",
   "execution_count": 2,
   "metadata": {},
   "outputs": [
    {
     "name": "stdout",
     "output_type": "stream",
     "text": [
      "Reference loaded 100 pose checked results\n",
      "w/o Opt loaded 9667 pose checked results\n",
      "AR loaded 9295 pose checked results\n",
      "Pocket2Mol loaded 9831 pose checked results\n",
      "TargetDiff loaded 9036 pose checked results\n",
      "DecompDiff loaded 7196 pose checked results\n"
     ]
    }
   ],
   "source": [
    "from eval_all_results import ModelResults\n",
    "import os\n",
    "\n",
    "result_dir = '/sharefs/share/sbdd_data/opt_results'\n",
    "\n",
    "ref_path = os.path.join(result_dir, 'crossdocked_test_vina_docked.pt')\n",
    "bfn_ref_path = os.path.join(result_dir, 'bfn_vina_docked.pt')\n",
    "\n",
    "# opt_objectives = [\n",
    "#     'vina', 'qed', 'sa', 'lipinski', 'qed_sa', 'vina_qed', 'vina_sa', 'vina_qed_sa', 'vina_qed_sa_lipinski'\n",
    "# ]\n",
    "\n",
    "opt_objectives = [\n",
    "    'vina_qed', 'vina_sa'\n",
    "]\n",
    "\n",
    "bfn_opt_paths = [\n",
    "    os.path.join(result_dir, f'{obj}_50x100_vina_docked.pt') for obj in opt_objectives\n",
    "]\n",
    "\n",
    "bfn_ref = ModelResults('w/o Opt', bfn_ref_path)\n",
    "bfn_opts = {\n",
    "    obj: ModelResults(f'w/ Opt {obj}', path) for obj, path in zip(opt_objectives, bfn_opt_paths)\n",
    "}\n",
    "sbdd_dir = '/sharefs/share/sbdd_data/all_results'\n",
    "\n",
    "ref_path = os.path.join(sbdd_dir, 'crossdocked_test_vina_docked.pt')\n",
    "bfn_ref_path = os.path.join(sbdd_dir, 'bfn_vina_docked.pt')\n",
    "ar_path = os.path.join(sbdd_dir, 'ar_vina_docked.pt')\n",
    "tg_path = os.path.join(sbdd_dir, 'targetdiff_vina_docked.pt')\n",
    "p2m_path = os.path.join(sbdd_dir, 'pocket2mol_vina_docked.pt')\n",
    "# flag_path = os.path.join(result_dir, 'flag_vina_docked.pt')\n",
    "# molcraft_path = os.path.join(result_dir, 'molcraft_vina_docked.pt')\n",
    "# train_path = os.path.join(result_dir, 'train_vina_docked.pt')\n",
    "dcmp_path = os.path.join(sbdd_dir, 'decompdiff_vina_docked.pt')\n",
    "ref = ModelResults('Reference', ref_path)\n",
    "ar = ModelResults('AR', ar_path)\n",
    "p2m = ModelResults('Pocket2Mol', p2m_path)\n",
    "# flag = ModelResults('FLAG', flag_path)\n",
    "tg = ModelResults('TargetDiff', tg_path)\n",
    "dcmp = ModelResults('DecompDiff', dcmp_path)\n",
    "\n",
    "sbdd_models = [ref, bfn_ref, ar, p2m, tg, dcmp] + list(bfn_opts.values())\n",
    "\n",
    "models = [ref, bfn_ref] + list(bfn_opts.values())\n",
    "for model in sbdd_models:\n",
    "    model.load_pose_checked()"
   ]
  },
  {
   "cell_type": "code",
   "execution_count": 3,
   "metadata": {},
   "outputs": [
    {
     "name": "stdout",
     "output_type": "stream",
     "text": [
      "Reference loaded 100 vina docked results\n",
      "w/o Opt loaded 9667 vina docked results\n",
      "AR loaded 9295 vina docked results\n",
      "Pocket2Mol loaded 9831 vina docked results\n",
      "TargetDiff loaded 9036 vina docked results\n",
      "DecompDiff loaded 7196 vina docked results\n",
      "w/ Opt qed loaded 989 vina docked results\n"
     ]
    }
   ],
   "source": [
    "from eval_all_results import ModelResults\n",
    "import os\n",
    "\n",
    "result_dir = '/sharefs/share/sbdd_data/opt_results'\n",
    "sbdd_dir = '/sharefs/share/sbdd_data/all_results'\n",
    "\n",
    "ref_path = os.path.join(sbdd_dir, 'crossdocked_test_vina_docked.pt')\n",
    "bfn_ref_path = os.path.join(sbdd_dir, 'bfn_vina_docked.pt')\n",
    "ar_path = os.path.join(sbdd_dir, 'ar_vina_docked.pt')\n",
    "tg_path = os.path.join(sbdd_dir, 'targetdiff_vina_docked.pt')\n",
    "p2m_path = os.path.join(sbdd_dir, 'pocket2mol_vina_docked.pt')\n",
    "# flag_path = os.path.join(result_dir, 'flag_vina_docked.pt')\n",
    "# molcraft_path = os.path.join(result_dir, 'molcraft_vina_docked.pt')\n",
    "# train_path = os.path.join(result_dir, 'train_vina_docked.pt')\n",
    "dcmp_path = os.path.join(sbdd_dir, 'decompdiff_vina_docked.pt')\n",
    "\n",
    "opt_objectives = [\n",
    "    # 'vina', 'qed', 'sa', 'lipinski', 'qed_sa', 'vina_qed', 'vina_sa', 'vina_qed_sa', 'vina_qed_sa_lipinski'\n",
    "    'qed'\n",
    "]\n",
    "\n",
    "\n",
    "bfn_opt_paths = [\n",
    "    os.path.join(result_dir, f'bfn_{obj}_vina_docked.pt') for obj in opt_objectives\n",
    "]\n",
    "\n",
    "ref = ModelResults('Reference', ref_path)\n",
    "bfn_ref = ModelResults('w/o Opt', bfn_ref_path)\n",
    "ar = ModelResults('AR', ar_path)\n",
    "p2m = ModelResults('Pocket2Mol', p2m_path)\n",
    "# flag = ModelResults('FLAG', flag_path)\n",
    "tg = ModelResults('TargetDiff', tg_path)\n",
    "dcmp = ModelResults('DecompDiff', dcmp_path)\n",
    "\n",
    "bfn_opts = {\n",
    "    obj: ModelResults(f'w/ Opt {obj}', path) for obj, path in zip(opt_objectives, bfn_opt_paths)\n",
    "}\n",
    "\n",
    "sbdd_models = [ref, bfn_ref, ar, p2m, tg, dcmp] + list(bfn_opts.values())\n",
    "\n",
    "models = [ref, bfn_ref] + list(bfn_opts.values())\n",
    "for model in sbdd_models:\n",
    "    model.load_vina_docked()\n"
   ]
  },
  {
   "cell_type": "code",
   "execution_count": 21,
   "metadata": {},
   "outputs": [
    {
     "data": {
      "image/png": "[encoded data removed]",
      "text/plain": [
       "<Figure size 504x432 with 1 Axes>"
      ]
     },
     "metadata": {},
     "output_type": "display_data"
    }
   ],
   "source": [
    "import numpy as np\n",
    "import matplotlib.pyplot as plt\n",
    "import seaborn as sns\n",
    "\n",
    "# Create original data distribution (e.g., Gaussian distribution)\n",
    "data = [r['chem_results']['qed'] for r in ref.flat_results]\n",
    "guided_data = [r['chem_results']['qed'] for r in bfn_opts['qed'].flat_results]\n",
    "\n",
    "# Plotting the distributions\n",
    "plt.figure(figsize=(7, 6))\n",
    "\n",
    "# Original data distribution using KDE\n",
    "sns.kdeplot(data, label='Reference', color='tab:blue', linewidth=2)\n",
    "\n",
    "# Shifted data distribution (enhanced by gradient guidance) using KDE\n",
    "sns.kdeplot(guided_data, label='Guided', color='tab:orange', linewidth=2)\n",
    "\n",
    "# Adding titles and labels\n",
    "# plt.title('Effect of Gradient Guidance on Data Distribution (Smooth)', fontsize=14)\n",
    "plt.xlabel('')\n",
    "plt.ylabel('')\n",
    "plt.xticks([])\n",
    "plt.yticks([])\n",
    "\n",
    "# Add legend\n",
    "plt.legend(loc='upper left', fontsize=23)\n",
    "\n",
    "# Show plot\n",
    "plt.savefig('guided_distribution.svg', dpi=300)"
   ]
  },
  {
   "cell_type": "code",
   "execution_count": 1,
   "metadata": {},
   "outputs": [
    {
     "name": "stdout",
     "output_type": "stream",
     "text": [
      "IPDiff loaded 9010 vina docked results\n"
     ]
    }
   ],
   "source": [
    "# collect the results of vina_score (avg, med), vina_min (avg, med), qed, sa for bfn_opts\n",
    "import numpy as np\n",
    "import sys\n",
    "sys.path.append('..')\n",
    "from core.evaluation.utils.scoring_func import obey_lipinski\n",
    "from eval_all_results import ModelResults\n",
    "\n",
    "# An example of accessing the results\n",
    "def get_prop_list(model, prop):\n",
    "    if prop == 'lipinski':\n",
    "        return [obey_lipinski(res['mol']) for res in model.flat_results]\n",
    "    elif prop == 'vina':\n",
    "        return [res['vina']['score_only'][0]['affinity'] for res in model.flat_results]\n",
    "    elif prop in ['qed', 'sa']:\n",
    "        return [res['chem_results'][prop] for res in model.flat_results]\n",
    "    else:\n",
    "        raise ValueError(f\"Unknown property {prop}\")\n",
    "\n",
    "results = []\n",
    "# for model in sbdd_models:\n",
    "# decompopt = ModelResults('DecompOpt', '/sharefs/share/sbdd_data/opt_results/decompopt_20_vina_docked.pt')\n",
    "model = ModelResults('TAGMol', '/sharefs/share/sbdd_data/opt_results/tagmol_vina_docked.pt')\n",
    "model = ModelResults('Ours', '/sharefs/share/sbdd_data/opt_results/ours_back130_vina_sa_50x100.pt')\n",
    "model = ModelResults('IPDiff', '/sharefs/share/sbdd_data/all_results/ipdiff_vina_docked.pt')\n",
    "model.load_vina_docked()\n",
    "for model in [model]:\n",
    "    vina_score = [r['vina']['score_only'][0]['affinity'] for r in model.flat_results]\n",
    "    vina_min = [r['vina']['minimize'][0]['affinity'] for r in model.flat_results]\n",
    "    vina_dock = [r['vina']['dock'][0]['affinity'] for r in model.flat_results]\n",
    "    qed = [r['chem_results']['qed'] for r in model.flat_results]\n",
    "    sa = [r['chem_results']['sa'] for r in model.flat_results]\n",
    "    lip = [obey_lipinski(r['mol']) for r in model.flat_results]\n",
    "    vina_score = np.array(vina_score)\n",
    "    vina_min = np.array(vina_min)\n",
    "    vina_dock = np.array(vina_dock)\n",
    "    qed = np.array(qed)\n",
    "    sa = np.array(sa)\n",
    "    lip = np.array(lip)\n",
    "    results.append({\n",
    "        'vina_score_5%': np.percentile(vina_score, 5),\n",
    "        'vina_score_avg': sum(vina_score) / len(vina_score),\n",
    "        'vina_score_med': sorted(vina_score)[len(vina_score) // 2],\n",
    "        'vina_min_5%': np.percentile(vina_min, 5),\n",
    "        'vina_min_avg': sum(vina_min) / len(vina_min),\n",
    "        'vina_min_med': sorted(vina_min)[len(vina_min) // 2],\n",
    "        'vina_dock_5%': np.percentile(vina_dock, 5),\n",
    "        'vina_dock_avg': sum(vina_dock) / len(vina_dock),\n",
    "        'vina_dock_med': sorted(vina_dock)[len(vina_dock) // 2],\n",
    "        'lipinski': sum(lip) / len(lip),\n",
    "        'lip_10%': np.percentile(lip, 10),\n",
    "        'qed_avg': sum(qed) / len(qed),\n",
    "        'qed_25%': np.percentile(qed, 75),\n",
    "        'sa_avg': sum(sa) / len(sa),\n",
    "        'sa_25%': np.percentile(sa, 75),\n",
    "        'model': model.name\n",
    "    })"
   ]
  },
  {
   "cell_type": "code",
   "execution_count": 2,
   "metadata": {},
   "outputs": [
    {
     "data": {
      "text/html": [
       "<div>\n",
       "<style scoped>\n",
       "    .dataframe tbody tr th:only-of-type {\n",
       "        vertical-align: middle;\n",
       "    }\n",
       "\n",
       "    .dataframe tbody tr th {\n",
       "        vertical-align: top;\n",
       "    }\n",
       "\n",
       "    .dataframe thead th {\n",
       "        text-align: right;\n",
       "    }\n",
       "</style>\n",
       "<table border=\"1\" class=\"dataframe\">\n",
       "  <thead>\n",
       "    <tr style=\"text-align: right;\">\n",
       "      <th></th>\n",
       "      <th>vina_score_5%</th>\n",
       "      <th>vina_score_avg</th>\n",
       "      <th>vina_score_med</th>\n",
       "      <th>vina_min_5%</th>\n",
       "      <th>vina_min_avg</th>\n",
       "      <th>vina_min_med</th>\n",
       "      <th>vina_dock_5%</th>\n",
       "      <th>vina_dock_avg</th>\n",
       "      <th>vina_dock_med</th>\n",
       "      <th>lipinski</th>\n",
       "      <th>lip_10%</th>\n",
       "      <th>qed_avg</th>\n",
       "      <th>qed_25%</th>\n",
       "      <th>sa_avg</th>\n",
       "      <th>sa_25%</th>\n",
       "      <th>model</th>\n",
       "    </tr>\n",
       "  </thead>\n",
       "  <tbody>\n",
       "    <tr>\n",
       "      <th>0</th>\n",
       "      <td>-12.9833</td>\n",
       "      <td>-6.417101</td>\n",
       "      <td>-7.008</td>\n",
       "      <td>-13.40055</td>\n",
       "      <td>-7.448164</td>\n",
       "      <td>-7.483</td>\n",
       "      <td>-13.63085</td>\n",
       "      <td>-8.572005</td>\n",
       "      <td>-8.51</td>\n",
       "      <td>4.527081</td>\n",
       "      <td>4.0</td>\n",
       "      <td>0.519005</td>\n",
       "      <td>0.658754</td>\n",
       "      <td>0.594877</td>\n",
       "      <td>0.68</td>\n",
       "      <td>IPDiff</td>\n",
       "    </tr>\n",
       "  </tbody>\n",
       "</table>\n",
       "</div>"
      ],
      "text/plain": [
       "   vina_score_5%  vina_score_avg  vina_score_med  vina_min_5%  vina_min_avg  \\\n",
       "0       -12.9833       -6.417101          -7.008    -13.40055     -7.448164   \n",
       "\n",
       "   vina_min_med  vina_dock_5%  vina_dock_avg  vina_dock_med  lipinski  \\\n",
       "0        -7.483     -13.63085      -8.572005          -8.51  4.527081   \n",
       "\n",
       "   lip_10%   qed_avg   qed_25%    sa_avg  sa_25%   model  \n",
       "0      4.0  0.519005  0.658754  0.594877    0.68  IPDiff  "
      ]
     },
     "execution_count": 2,
     "metadata": {},
     "output_type": "execute_result"
    }
   ],
   "source": [
    "import pandas as pd\n",
    "\n",
    "df = pd.DataFrame(results)\n",
    "# df = pd.concat([df, df_new])\n",
    "df"
   ]
  },
  {
   "cell_type": "code",
   "execution_count": 13,
   "metadata": {},
   "outputs": [
    {
     "data": {
      "text/html": [
       "<div>\n",
       "<style scoped>\n",
       "    .dataframe tbody tr th:only-of-type {\n",
       "        vertical-align: middle;\n",
       "    }\n",
       "\n",
       "    .dataframe tbody tr th {\n",
       "        vertical-align: top;\n",
       "    }\n",
       "\n",
       "    .dataframe thead th {\n",
       "        text-align: right;\n",
       "    }\n",
       "</style>\n",
       "<table border=\"1\" class=\"dataframe\">\n",
       "  <thead>\n",
       "    <tr style=\"text-align: right;\">\n",
       "      <th></th>\n",
       "      <th>vina_score_5%</th>\n",
       "      <th>vina_score_avg</th>\n",
       "      <th>vina_score_med</th>\n",
       "      <th>vina_min_5%</th>\n",
       "      <th>vina_min_avg</th>\n",
       "      <th>vina_min_med</th>\n",
       "      <th>lipinski</th>\n",
       "      <th>lip_10%</th>\n",
       "      <th>qed_avg</th>\n",
       "      <th>qed_25%</th>\n",
       "      <th>sa_avg</th>\n",
       "      <th>sa_25%</th>\n",
       "      <th>model</th>\n",
       "    </tr>\n",
       "  </thead>\n",
       "  <tbody>\n",
       "    <tr>\n",
       "      <th>0</th>\n",
       "      <td>-9.97700</td>\n",
       "      <td>-6.361780</td>\n",
       "      <td>-6.462</td>\n",
       "      <td>-9.92790</td>\n",
       "      <td>-6.706660</td>\n",
       "      <td>-6.486</td>\n",
       "      <td>4.270000</td>\n",
       "      <td>2.0</td>\n",
       "      <td>0.475996</td>\n",
       "      <td>0.670121</td>\n",
       "      <td>0.727700</td>\n",
       "      <td>0.84</td>\n",
       "      <td>Reference</td>\n",
       "    </tr>\n",
       "    <tr>\n",
       "      <th>1</th>\n",
       "      <td>-12.13500</td>\n",
       "      <td>-6.586599</td>\n",
       "      <td>-7.044</td>\n",
       "      <td>-12.33840</td>\n",
       "      <td>-7.265450</td>\n",
       "      <td>-7.256</td>\n",
       "      <td>4.456295</td>\n",
       "      <td>3.0</td>\n",
       "      <td>0.503570</td>\n",
       "      <td>0.664086</td>\n",
       "      <td>0.685851</td>\n",
       "      <td>0.78</td>\n",
       "      <td>w/o Opt</td>\n",
       "    </tr>\n",
       "    <tr>\n",
       "      <th>2</th>\n",
       "      <td>-13.38330</td>\n",
       "      <td>-7.629457</td>\n",
       "      <td>-8.255</td>\n",
       "      <td>-13.50590</td>\n",
       "      <td>-8.263127</td>\n",
       "      <td>-8.426</td>\n",
       "      <td>4.481967</td>\n",
       "      <td>3.0</td>\n",
       "      <td>0.522670</td>\n",
       "      <td>0.673318</td>\n",
       "      <td>0.682350</td>\n",
       "      <td>0.78</td>\n",
       "      <td>w/ Opt vina</td>\n",
       "    </tr>\n",
       "    <tr>\n",
       "      <th>3</th>\n",
       "      <td>-13.03260</td>\n",
       "      <td>-6.783745</td>\n",
       "      <td>-7.297</td>\n",
       "      <td>-13.18960</td>\n",
       "      <td>-7.559224</td>\n",
       "      <td>-7.589</td>\n",
       "      <td>4.740142</td>\n",
       "      <td>4.0</td>\n",
       "      <td>0.659041</td>\n",
       "      <td>0.780116</td>\n",
       "      <td>0.669828</td>\n",
       "      <td>0.79</td>\n",
       "      <td>w/ Opt qed</td>\n",
       "    </tr>\n",
       "    <tr>\n",
       "      <th>4</th>\n",
       "      <td>-13.03900</td>\n",
       "      <td>-6.781488</td>\n",
       "      <td>-7.227</td>\n",
       "      <td>-13.37700</td>\n",
       "      <td>-7.779632</td>\n",
       "      <td>-7.645</td>\n",
       "      <td>4.568807</td>\n",
       "      <td>4.0</td>\n",
       "      <td>0.573185</td>\n",
       "      <td>0.701787</td>\n",
       "      <td>0.765953</td>\n",
       "      <td>0.88</td>\n",
       "      <td>w/ Opt sa</td>\n",
       "    </tr>\n",
       "    <tr>\n",
       "      <th>5</th>\n",
       "      <td>-12.34030</td>\n",
       "      <td>-6.594251</td>\n",
       "      <td>-7.073</td>\n",
       "      <td>-12.56030</td>\n",
       "      <td>-7.351583</td>\n",
       "      <td>-7.281</td>\n",
       "      <td>4.761026</td>\n",
       "      <td>4.0</td>\n",
       "      <td>0.574465</td>\n",
       "      <td>0.702288</td>\n",
       "      <td>0.692451</td>\n",
       "      <td>0.80</td>\n",
       "      <td>w/ Opt lipinski</td>\n",
       "    </tr>\n",
       "    <tr>\n",
       "      <th>6</th>\n",
       "      <td>-12.45500</td>\n",
       "      <td>-6.545261</td>\n",
       "      <td>-7.225</td>\n",
       "      <td>-12.73220</td>\n",
       "      <td>-7.382941</td>\n",
       "      <td>-7.518</td>\n",
       "      <td>4.752786</td>\n",
       "      <td>4.0</td>\n",
       "      <td>0.646469</td>\n",
       "      <td>0.778592</td>\n",
       "      <td>0.740253</td>\n",
       "      <td>0.86</td>\n",
       "      <td>w/ Opt qed_sa</td>\n",
       "    </tr>\n",
       "    <tr>\n",
       "      <th>7</th>\n",
       "      <td>-13.31275</td>\n",
       "      <td>-7.461769</td>\n",
       "      <td>-8.044</td>\n",
       "      <td>-13.66860</td>\n",
       "      <td>-8.177569</td>\n",
       "      <td>-8.199</td>\n",
       "      <td>4.751020</td>\n",
       "      <td>4.0</td>\n",
       "      <td>0.637131</td>\n",
       "      <td>0.766785</td>\n",
       "      <td>0.673327</td>\n",
       "      <td>0.79</td>\n",
       "      <td>w/ Opt vina_qed</td>\n",
       "    </tr>\n",
       "    <tr>\n",
       "      <th>8</th>\n",
       "      <td>-13.34270</td>\n",
       "      <td>-7.081270</td>\n",
       "      <td>-7.877</td>\n",
       "      <td>-13.54060</td>\n",
       "      <td>-8.049144</td>\n",
       "      <td>-8.205</td>\n",
       "      <td>4.600207</td>\n",
       "      <td>4.0</td>\n",
       "      <td>0.564652</td>\n",
       "      <td>0.692920</td>\n",
       "      <td>0.751219</td>\n",
       "      <td>0.86</td>\n",
       "      <td>w/ Opt vina_sa</td>\n",
       "    </tr>\n",
       "    <tr>\n",
       "      <th>9</th>\n",
       "      <td>-13.07030</td>\n",
       "      <td>-7.088814</td>\n",
       "      <td>-7.466</td>\n",
       "      <td>-13.26885</td>\n",
       "      <td>-7.787386</td>\n",
       "      <td>-7.758</td>\n",
       "      <td>4.725510</td>\n",
       "      <td>4.0</td>\n",
       "      <td>0.624882</td>\n",
       "      <td>0.751737</td>\n",
       "      <td>0.734592</td>\n",
       "      <td>0.86</td>\n",
       "      <td>w/ Opt vina_qed_sa</td>\n",
       "    </tr>\n",
       "    <tr>\n",
       "      <th>10</th>\n",
       "      <td>-12.57500</td>\n",
       "      <td>-7.060504</td>\n",
       "      <td>-7.530</td>\n",
       "      <td>-12.75300</td>\n",
       "      <td>-7.768086</td>\n",
       "      <td>-7.779</td>\n",
       "      <td>4.770010</td>\n",
       "      <td>4.0</td>\n",
       "      <td>0.627648</td>\n",
       "      <td>0.761418</td>\n",
       "      <td>0.730628</td>\n",
       "      <td>0.85</td>\n",
       "      <td>w/ Opt vina_qed_sa_lipinski</td>\n",
       "    </tr>\n",
       "  </tbody>\n",
       "</table>\n",
       "</div>"
      ],
      "text/plain": [
       "    vina_score_5%  vina_score_avg  vina_score_med  vina_min_5%  vina_min_avg  \\\n",
       "0        -9.97700       -6.361780          -6.462     -9.92790     -6.706660   \n",
       "1       -12.13500       -6.586599          -7.044    -12.33840     -7.265450   \n",
       "2       -13.38330       -7.629457          -8.255    -13.50590     -8.263127   \n",
       "3       -13.03260       -6.783745          -7.297    -13.18960     -7.559224   \n",
       "4       -13.03900       -6.781488          -7.227    -13.37700     -7.779632   \n",
       "5       -12.34030       -6.594251          -7.073    -12.56030     -7.351583   \n",
       "6       -12.45500       -6.545261          -7.225    -12.73220     -7.382941   \n",
       "7       -13.31275       -7.461769          -8.044    -13.66860     -8.177569   \n",
       "8       -13.34270       -7.081270          -7.877    -13.54060     -8.049144   \n",
       "9       -13.07030       -7.088814          -7.466    -13.26885     -7.787386   \n",
       "10      -12.57500       -7.060504          -7.530    -12.75300     -7.768086   \n",
       "\n",
       "    vina_min_med  lipinski  lip_10%   qed_avg   qed_25%    sa_avg  sa_25%  \\\n",
       "0         -6.486  4.270000      2.0  0.475996  0.670121  0.727700    0.84   \n",
       "1         -7.256  4.456295      3.0  0.503570  0.664086  0.685851    0.78   \n",
       "2         -8.426  4.481967      3.0  0.522670  0.673318  0.682350    0.78   \n",
       "3         -7.589  4.740142      4.0  0.659041  0.780116  0.669828    0.79   \n",
       "4         -7.645  4.568807      4.0  0.573185  0.701787  0.765953    0.88   \n",
       "5         -7.281  4.761026      4.0  0.574465  0.702288  0.692451    0.80   \n",
       "6         -7.518  4.752786      4.0  0.646469  0.778592  0.740253    0.86   \n",
       "7         -8.199  4.751020      4.0  0.637131  0.766785  0.673327    0.79   \n",
       "8         -8.205  4.600207      4.0  0.564652  0.692920  0.751219    0.86   \n",
       "9         -7.758  4.725510      4.0  0.624882  0.751737  0.734592    0.86   \n",
       "10        -7.779  4.770010      4.0  0.627648  0.761418  0.730628    0.85   \n",
       "\n",
       "                          model  \n",
       "0                     Reference  \n",
       "1                       w/o Opt  \n",
       "2                   w/ Opt vina  \n",
       "3                    w/ Opt qed  \n",
       "4                     w/ Opt sa  \n",
       "5               w/ Opt lipinski  \n",
       "6                 w/ Opt qed_sa  \n",
       "7               w/ Opt vina_qed  \n",
       "8                w/ Opt vina_sa  \n",
       "9            w/ Opt vina_qed_sa  \n",
       "10  w/ Opt vina_qed_sa_lipinski  "
      ]
     },
     "execution_count": 13,
     "metadata": {},
     "output_type": "execute_result"
    }
   ],
   "source": [
    "import pandas as pd\n",
    "\n",
    "df = pd.DataFrame(results)\n",
    "df"
   ]
  },
  {
   "cell_type": "code",
   "execution_count": 6,
   "metadata": {},
   "outputs": [
    {
     "data": {
      "text/plain": [
       "({'score_only': [{'affinity': -4.703, 'pose': None}],\n",
       "  'minimize': [{'affinity': -5.275,\n",
       "    'pose': 'REMARK Flexibility Score: inf\\nREMARK Active torsions [ 2 ] -> [ 2 ]\\nROOT\\nATOM      1  N1  LIG L   1     133.273  53.441  33.220  1.00  0.00    -0.212 NA\\nATOM      2  C1  LIG L   1     132.944  54.632  31.222  1.00  0.00     0.041 A \\nATOM      3  C2  LIG L   1     134.549  53.889  33.257  1.00  0.00     0.162 A \\nATOM      4  C3  LIG L   1     134.282  55.070  31.297  1.00  0.00     0.079 A \\nATOM      5  F1  LIG L   1     134.624  56.990  28.254  1.00  0.00    -0.205 F \\nATOM      6  C4  LIG L   1     132.768  55.847  29.115  1.00  0.00     0.039 A \\nATOM      7  C5  LIG L   1     134.830  55.871  30.319  1.00  0.00     0.066 A \\nATOM      8  N2  LIG L   1     135.031  54.691  32.330  1.00  0.00    -0.227 NA\\nATOM      9  C6  LIG L   1     134.076  56.238  29.232  1.00  0.00     0.125 A \\nATOM     10  C7  LIG L   1     132.206  55.047  30.103  1.00  0.00     0.016 A \\nATOM     11  C8  LIG L   1     132.461  53.775  32.252  1.00  0.00     0.133 A \\nENDROOT\\nBRANCH   11   12\\nATOM     12  N3  LIG L   1     131.200  53.192  32.301  1.00  0.00    -0.315 N \\nATOM     13  C9  LIG L   1     131.094  52.038  33.204  1.00  0.00     0.106 C \\nATOM     14 C10  LIG L   1     130.020  53.766  31.658  1.00  0.00     0.106 C \\nATOM     15 C11  LIG L   1     130.235  50.935  32.598  1.00  0.00     0.019 C \\nATOM     16 C12  LIG L   1     129.146  52.649  31.098  1.00  0.00     0.019 C \\nATOM     17 C13  LIG L   1     128.913  51.568  32.159  1.00  0.00     0.003 C \\nENDBRANCH   11   12\\nBRANCH    3   18\\nATOM     18 C14  LIG L   1     135.409  53.484  34.277  1.00  0.00     0.019 A \\nATOM     19 C15  LIG L   1     135.289  53.975  35.567  1.00  0.00     0.011 A \\nATOM     20 C16  LIG L   1     136.401  52.565  33.983  1.00  0.00     0.011 A \\nATOM     21 C17  LIG L   1     136.144  53.536  36.573  1.00  0.00     0.001 A \\nATOM     22 C18  LIG L   1     137.259  52.116  34.977  1.00  0.00     0.001 A \\nATOM     23 C19  LIG L   1     137.129  52.601  36.275  1.00  0.00     0.000 A \\nENDBRANCH    3   18\\nTORSDOF 2\\n'}],\n",
       "  'dock': [{'affinity': -6.56,\n",
       "    'pose': 'MODEL 1\\nREMARK VINA RESULT:    -6.560      0.000      0.000\\nREMARK INTER + INTRA:          -8.098\\nREMARK INTER:                  -7.326\\nREMARK INTRA:                  -0.772\\nREMARK UNBOUND:                -0.772\\nREMARK Flexibility Score: inf\\nREMARK Active torsions [ 2 ] -> [ 2 ]\\nROOT\\nATOM      1  N1  LIG L   1     133.219  55.268  31.152  1.00  0.00    -0.212 NA\\nATOM      2  C1  LIG L   1     132.020  53.529  32.181  1.00  0.00     0.041 A \\nATOM      3  C2  LIG L   1     132.199  55.431  30.278  1.00  0.00     0.162 A \\nATOM      4  C3  LIG L   1     130.984  53.729  31.245  1.00  0.00     0.079 A \\nATOM      5  F1  LIG L   1     128.639  51.128  32.142  1.00  0.00    -0.205 F \\nATOM      6  C4  LIG L   1     130.703  51.694  33.098  1.00  0.00     0.039 A \\nATOM      7  C5  LIG L   1     129.853  52.943  31.250  1.00  0.00     0.066 A \\nATOM      8  N2  LIG L   1     131.110  54.692  30.336  1.00  0.00    -0.227 NA\\nATOM      9  C6  LIG L   1     129.730  51.925  32.163  1.00  0.00     0.125 A \\nATOM     10  C7  LIG L   1     131.842  52.489  33.107  1.00  0.00     0.016 A \\nATOM     11  C8  LIG L   1     133.175  54.358  32.089  1.00  0.00     0.133 A \\nENDROOT\\nBRANCH   11   12\\nATOM     12  N3  LIG L   1     134.316  54.254  32.876  1.00  0.00    -0.315 N \\nATOM     13  C9  LIG L   1     135.434  53.544  32.242  1.00  0.00     0.106 C \\nATOM     14 C10  LIG L   1     134.477  54.937  34.158  1.00  0.00     0.106 C \\nATOM     15 C11  LIG L   1     136.153  52.638  33.234  1.00  0.00     0.019 C \\nATOM     16 C12  LIG L   1     135.239  54.039  35.126  1.00  0.00     0.019 C \\nATOM     17 C13  LIG L   1     136.504  53.483  34.460  1.00  0.00     0.003 C \\nENDBRANCH   11   12\\nBRANCH    3   18\\nATOM     18 C14  LIG L   1     132.288  56.379  29.260  1.00  0.00     0.019 A \\nATOM     19 C15  LIG L   1     132.694  56.036  27.980  1.00  0.00     0.011 A \\nATOM     20 C16  LIG L   1     131.954  57.692  29.545  1.00  0.00     0.011 A \\nATOM     21 C17  LIG L   1     132.750  56.997  26.975  1.00  0.00     0.001 A \\nATOM     22 C18  LIG L   1     132.003  58.659  28.551  1.00  0.00     0.001 A \\nATOM     23 C19  LIG L   1     132.399  58.311  27.265  1.00  0.00     0.000 A \\nENDBRANCH    3   18\\nTORSDOF 2\\nENDMDL\\n'}]},\n",
       " {'qed': 0.7012519612308362, 'sa': 0.9})"
      ]
     },
     "execution_count": 6,
     "metadata": {},
     "output_type": "execute_result"
    }
   ],
   "source": [
    "model.flat_results[0]['vina'], model.flat_results[0]['chem_results']"
   ]
  },
  {
   "cell_type": "code",
   "execution_count": 1,
   "metadata": {},
   "outputs": [
    {
     "name": "stdout",
     "output_type": "stream",
     "text": [
      "reference loaded 100 vina docked results\n",
      "Reference loaded 100 vina docked results\n"
     ]
    },
    {
     "ename": "KeyError",
     "evalue": "0",
     "output_type": "error",
     "traceback": [
      "\u001b[0;31m---------------------------------------------------------------------------\u001b[0m",
      "\u001b[0;31mKeyError\u001b[0m                                  Traceback (most recent call last)",
      "Input \u001b[0;32mIn [1]\u001b[0m, in \u001b[0;36m<cell line: 22>\u001b[0;34m()\u001b[0m\n\u001b[1;32m     20\u001b[0m bfn_ref \u001b[38;5;241m=\u001b[39m ModelResults(\u001b[38;5;124m'\u001b[39m\u001b[38;5;124mw/o Opt\u001b[39m\u001b[38;5;124m'\u001b[39m, bfn_ref_path)\n\u001b[1;32m     21\u001b[0m ref\u001b[38;5;241m.\u001b[39mload_vina_docked()\n\u001b[0;32m---> 22\u001b[0m \u001b[43mbfn_ref\u001b[49m\u001b[38;5;241;43m.\u001b[39;49m\u001b[43mload_vina_docked\u001b[49m\u001b[43m(\u001b[49m\u001b[43m)\u001b[49m\n\u001b[1;32m     24\u001b[0m bfn_opts \u001b[38;5;241m=\u001b[39m {\n\u001b[1;32m     25\u001b[0m     obj: ModelResults(\u001b[38;5;124mf\u001b[39m\u001b[38;5;124m'\u001b[39m\u001b[38;5;124mw/ Opt \u001b[39m\u001b[38;5;132;01m{\u001b[39;00mobj\u001b[38;5;132;01m}\u001b[39;00m\u001b[38;5;124m'\u001b[39m, path) \u001b[38;5;28;01mfor\u001b[39;00m obj, path \u001b[38;5;129;01min\u001b[39;00m \u001b[38;5;28mzip\u001b[39m(opt_objectives, bfn_opt_paths)\n\u001b[1;32m     26\u001b[0m }\n\u001b[1;32m     28\u001b[0m models \u001b[38;5;241m=\u001b[39m [ref, bfn_ref] \u001b[38;5;241m+\u001b[39m \u001b[38;5;28mlist\u001b[39m(bfn_opts\u001b[38;5;241m.\u001b[39mvalues())\n",
      "File \u001b[0;32m~/project/BFN4MolOpt/test/eval_all_results.py:50\u001b[0m, in \u001b[0;36mModelResults.load_vina_docked\u001b[0;34m(self)\u001b[0m\n\u001b[1;32m     48\u001b[0m \u001b[38;5;28;01mif\u001b[39;00m os\u001b[38;5;241m.\u001b[39mpath\u001b[38;5;241m.\u001b[39mexists(\u001b[38;5;28mself\u001b[39m\u001b[38;5;241m.\u001b[39mpath):\n\u001b[1;32m     49\u001b[0m     results \u001b[38;5;241m=\u001b[39m torch\u001b[38;5;241m.\u001b[39mload(\u001b[38;5;28mself\u001b[39m\u001b[38;5;241m.\u001b[39mpath)\n\u001b[0;32m---> 50\u001b[0m     \u001b[38;5;28;01mif\u001b[39;00m \u001b[38;5;28mtype\u001b[39m(\u001b[43mresults\u001b[49m\u001b[43m[\u001b[49m\u001b[38;5;241;43m0\u001b[39;49m\u001b[43m]\u001b[49m) \u001b[38;5;129;01mis\u001b[39;00m \u001b[38;5;28mlist\u001b[39m:\n\u001b[1;32m     51\u001b[0m         \u001b[38;5;28mself\u001b[39m\u001b[38;5;241m.\u001b[39mflat_results \u001b[38;5;241m=\u001b[39m [item \u001b[38;5;28;01mfor\u001b[39;00m sublist \u001b[38;5;129;01min\u001b[39;00m results \u001b[38;5;28;01mfor\u001b[39;00m item \u001b[38;5;129;01min\u001b[39;00m sublist]\n\u001b[1;32m     52\u001b[0m     \u001b[38;5;28;01melse\u001b[39;00m:\n",
      "\u001b[0;31mKeyError\u001b[0m: 0"
     ]
    }
   ],
   "source": [
    "from eval_all_results import ModelResults\n",
    "import os\n",
    "\n",
    "result_dir = '/sharefs/share/sbdd_data/opt_results'\n",
    "\n",
    "ref_path = os.path.join(result_dir, 'crossdocked_test_vina_docked.pt')\n",
    "bfn_ref_path = os.path.join(result_dir, 'bfn_vina_docked.pt')\n",
    "# bfn_ref_path = os.path.join(result_dir, 'decompopt-opt_prior-metrics.pt')\n",
    "\n",
    "opt_objectives = [\n",
    "    'vina', 'qed', 'sa', 'lipinski', # 'vina_qed', 'vina_sa', 'vina_qed_sa', 'vina_qed_sa_lipinski'\n",
    "]\n",
    "\n",
    "opt_dir = '..'\n",
    "bfn_opt_paths = [\n",
    "    os.path.join(opt_dir, f'mols-{obj}', 'temp_eval_all.pt') for obj in opt_objectives\n",
    "]\n",
    "\n",
    "ref = ModelResults('Reference', ref_path)\n",
    "bfn_ref = ModelResults('w/o Opt', bfn_ref_path)\n",
    "ref.load_vina_docked()\n",
    "bfn_ref.load_vina_docked()\n",
    "\n",
    "bfn_opts = {\n",
    "    obj: ModelResults(f'w/ Opt {obj}', path) for obj, path in zip(opt_objectives, bfn_opt_paths)\n",
    "}\n",
    "\n",
    "models = [ref, bfn_ref] + list(bfn_opts.values())\n",
    "for model in models[2:]:\n",
    "    model.load_vina_docked_sdf(os.path.dirname(model.path))"
   ]
  },
  {
   "cell_type": "code",
   "execution_count": 3,
   "metadata": {},
   "outputs": [],
   "source": [
    "import torch\n",
    "\n",
    "decompopt_results = torch.load(bfn_ref_path)"
   ]
  },
  {
   "cell_type": "code",
   "execution_count": 7,
   "metadata": {},
   "outputs": [
    {
     "data": {
      "text/plain": [
       "dict_keys(['mol', 'qed', 'sa', 'vina_score', 'vina_min', 'vina_dock'])"
      ]
     },
     "execution_count": 7,
     "metadata": {},
     "output_type": "execute_result"
    }
   ],
   "source": [
    "decompopt_results.keys()"
   ]
  },
  {
   "cell_type": "code",
   "execution_count": 5,
   "metadata": {},
   "outputs": [
    {
     "data": {
      "text/plain": [
       "(100, 55)"
      ]
     },
     "execution_count": 5,
     "metadata": {},
     "output_type": "execute_result"
    }
   ],
   "source": [
    "decomp_mols = decompopt_results['mol']\n",
    "len(decomp_mols), len(decomp_mols[0])"
   ]
  },
  {
   "cell_type": "code",
   "execution_count": 8,
   "metadata": {},
   "outputs": [
    {
     "data": {
      "text/plain": [
       "(15853,\n",
       " {7: 111,\n",
       "  9: 430,\n",
       "  14: 507,\n",
       "  20: 322,\n",
       "  26: 169,\n",
       "  27: 102,\n",
       "  36: 315,\n",
       "  37: 461,\n",
       "  38: 382,\n",
       "  41: 184,\n",
       "  42: 502,\n",
       "  47: 400,\n",
       "  50: 216,\n",
       "  52: 127,\n",
       "  53: 279,\n",
       "  54: 241,\n",
       "  55: 153,\n",
       "  57: 103,\n",
       "  58: 382,\n",
       "  59: 137,\n",
       "  61: 270,\n",
       "  63: 204,\n",
       "  64: 221,\n",
       "  67: 569,\n",
       "  70: 257,\n",
       "  71: 443,\n",
       "  73: 215,\n",
       "  74: 227,\n",
       "  75: 254,\n",
       "  76: 103,\n",
       "  78: 370,\n",
       "  79: 453,\n",
       "  82: 235,\n",
       "  85: 337,\n",
       "  86: 259,\n",
       "  87: 115,\n",
       "  88: 173,\n",
       "  90: 528,\n",
       "  92: 144,\n",
       "  94: 530,\n",
       "  96: 599,\n",
       "  97: 148,\n",
       "  98: 191})"
      ]
     },
     "execution_count": 8,
     "metadata": {},
     "output_type": "execute_result"
    }
   ],
   "source": [
    "total_num = 0\n",
    "n_cnt = {}\n",
    "for i, mols in enumerate(decomp_mols):\n",
    "    if len(mols) > 100:\n",
    "        n_cnt[i] = len(mols)\n",
    "    assert len(mols) <= 600, f\"{i}: {len(mols)}\"\n",
    "    total_num += len(mols)\n",
    "\n",
    "total_num, n_cnt"
   ]
  },
  {
   "cell_type": "code",
   "execution_count": 2,
   "metadata": {},
   "outputs": [
    {
     "name": "stdout",
     "output_type": "stream",
     "text": [
      "Reference loaded 100 vina docked results\n"
     ]
    },
    {
     "data": {
      "application/vnd.jupyter.widget-view+json": {
       "model_id": "742c8ca725da4ff0a246341e770745b6",
       "version_major": 2,
       "version_minor": 0
      },
      "text/plain": [
       "Ours:   0%|          | 0/10000 [00:00<?, ?it/s]"
      ]
     },
     "metadata": {},
     "output_type": "display_data"
    },
    {
     "name": "stdout",
     "output_type": "stream",
     "text": [
      "Ours loaded 969 dina docked results\n",
      "Ours has 969 to dump\n"
     ]
    },
    {
     "name": "stderr",
     "output_type": "stream",
     "text": [
      "pocket: 100%|██████████| 100/100 [00:27<00:00,  3.58it/s]"
     ]
    },
    {
     "name": "stdout",
     "output_type": "stream",
     "text": [
      "[Diversity] Avg: 0.7318 | Med: 0.7466 \n",
      "Ours, diversity: mean = 0.7317776270870866, median = 0.746556796584134\n"
     ]
    },
    {
     "name": "stderr",
     "output_type": "stream",
     "text": [
      "\n"
     ]
    }
   ],
   "source": [
    "import sys\n",
    "sys.path.append('..')\n",
    "from eval_all_results import ModelResults\n",
    "from core.evaluation.utils.scoring_func import compute_diversity\n",
    "import numpy as np\n",
    "\n",
    "ref = ModelResults('Reference', '/sharefs/share/sbdd_data/opt_results/crossdocked_test_vina_docked.pt')\n",
    "ref.load_vina_docked()\n",
    "ref_fns = [x['ligand_filename'] for x in ref.flat_results]\n",
    "\n",
    "timestamp = 20240908-103152 # 0.969, w=0, Avg: 0.7318 | Med: 0.7466 \n",
    "# timestamp = '20240908-011946' # 0.967, w=0, Avg: 0.7301 | Med: 0.7459 \n",
    "model = ModelResults('Ours', f'/sharefs/qiukeyue/project/logs/qiukeyue_bfn_molopt/cfg/test/test_outputs/{timestamp}/mols-self/eval_all.pt')\n",
    "model.load_vina_docked_sdf(os.path.dirname(model.path))\n",
    "agg_results = [[] for _ in range(100)]\n",
    "for res in model.flat_results:\n",
    "    ligand_filename = res['ligand_filename']\n",
    "    idx = ref_fns.index(ligand_filename)\n",
    "    agg_results[idx].append(res)\n",
    "\n",
    "diversity_list = compute_diversity(agg_results)\n",
    "mean, median = np.mean(diversity_list), np.median(diversity_list)\n",
    "print(f\"{model.name}, diversity: mean = {mean}, median = {median}\")"
   ]
  },
  {
   "cell_type": "code",
   "execution_count": 7,
   "metadata": {},
   "outputs": [
    {
     "data": {
      "application/vnd.jupyter.widget-view+json": {
       "model_id": "acc52e18868046dab28b48b46d548928",
       "version_major": 2,
       "version_minor": 0
      },
      "text/plain": [
       "Ours:   0%|          | 0/10000 [00:00<?, ?it/s]"
      ]
     },
     "metadata": {},
     "output_type": "display_data"
    },
    {
     "name": "stdout",
     "output_type": "stream",
     "text": [
      "Ours loaded 967 dina docked results\n",
      "Ours has 967 to dump\n"
     ]
    },
    {
     "name": "stderr",
     "output_type": "stream",
     "text": [
      "pocket: 100%|██████████| 100/100 [00:37<00:00,  2.67it/s]"
     ]
    },
    {
     "name": "stdout",
     "output_type": "stream",
     "text": [
      "[Diversity] Avg: 0.7301 | Med: 0.7459 \n",
      "Ours, diversity: mean = 0.7300980859640243, median = 0.7459138765622066\n"
     ]
    },
    {
     "name": "stderr",
     "output_type": "stream",
     "text": [
      "\n"
     ]
    }
   ],
   "source": [
    "timestamp = '20240908-015335' # 0.94, w=0.5, Avg: 0.7474 | Med: 0.7621 \n",
    "# timestamp = '20240908-014518' # 0.973, w=-0.2, Avg: 0.7342 | Med: 0.7498 \n",
    "# timestamp = '20240908-012009' # 0.957, w=-0.5, Avg: 0.7283 | Med: 0.7450 \n",
    "# timestamp = '20240908-012425' # 0.973, w=0.15, Avg: 0.7366 | Med: 0.7518 \n",
    "model = ModelResults('Ours', f'/sharefs/qiukeyue/project/logs/qiukeyue_bfn_molopt/cfg/test/test_outputs/{timestamp}/mols-self/eval_all.pt')\n",
    "model.load_vina_docked_sdf(os.path.dirname(model.path))\n",
    "agg_results = [[] for _ in range(100)]\n",
    "for res in model.flat_results:\n",
    "    ligand_filename = res['ligand_filename']\n",
    "    idx = ref_fns.index(ligand_filename)\n",
    "    agg_results[idx].append(res)\n",
    "\n",
    "diversity_list = compute_diversity(agg_results)\n",
    "mean, median = np.mean(diversity_list), np.median(diversity_list)\n",
    "print(f\"{model.name}, diversity: mean = {mean}, median = {median}\")"
   ]
  },
  {
   "cell_type": "code",
   "execution_count": 14,
   "metadata": {},
   "outputs": [
    {
     "data": {
      "application/vnd.jupyter.widget-view+json": {
       "model_id": "3bef8e89184f408a8d9d442b232f1641",
       "version_major": 2,
       "version_minor": 0
      },
      "text/plain": [
       "20240908-183253_vanilla_back_200:   0%|          | 0/10000 [00:00<?, ?it/s]"
      ]
     },
     "metadata": {},
     "output_type": "display_data"
    },
    {
     "name": "stdout",
     "output_type": "stream",
     "text": [
      "20240908-183253_vanilla_back_200 loaded 486 dina docked results\n",
      "20240908-183253_vanilla_back_200 has 486 to dump\n"
     ]
    },
    {
     "name": "stderr",
     "output_type": "stream",
     "text": [
      "pocket: 100%|██████████| 100/100 [00:09<00:00, 10.22it/s]"
     ]
    },
    {
     "name": "stdout",
     "output_type": "stream",
     "text": [
      "[Diversity] Avg: 0.7581 | Med: 0.7743 \n",
      "20240908-183253_vanilla_back_200, diversity: mean = 0.7581093475934596, median = 0.7743282498184458\n"
     ]
    },
    {
     "name": "stderr",
     "output_type": "stream",
     "text": [
      "\n"
     ]
    },
    {
     "data": {
      "application/vnd.jupyter.widget-view+json": {
       "model_id": "4c63872b7d4648329a61e9fd9a1b4111",
       "version_major": 2,
       "version_minor": 0
      },
      "text/plain": [
       "20240908-183617_vanilla_back_100:   0%|          | 0/10000 [00:00<?, ?it/s]"
      ]
     },
     "metadata": {},
     "output_type": "display_data"
    },
    {
     "name": "stdout",
     "output_type": "stream",
     "text": [
      "20240908-183617_vanilla_back_100 loaded 489 dina docked results\n",
      "20240908-183617_vanilla_back_100 has 489 to dump\n"
     ]
    },
    {
     "name": "stderr",
     "output_type": "stream",
     "text": [
      "pocket: 100%|██████████| 100/100 [00:09<00:00, 10.81it/s]"
     ]
    },
    {
     "name": "stdout",
     "output_type": "stream",
     "text": [
      "[Diversity] Avg: 0.7511 | Med: 0.7639 \n",
      "20240908-183617_vanilla_back_100, diversity: mean = 0.7510704347445181, median = 0.7639193491333569\n"
     ]
    },
    {
     "name": "stderr",
     "output_type": "stream",
     "text": [
      "\n"
     ]
    },
    {
     "data": {
      "application/vnd.jupyter.widget-view+json": {
       "model_id": "f7559e4f66cb4c8fbf69261b6ac01a91",
       "version_major": 2,
       "version_minor": 0
      },
      "text/plain": [
       "20240908-183802_vanilla_back_60:   0%|          | 0/10000 [00:00<?, ?it/s]"
      ]
     },
     "metadata": {},
     "output_type": "display_data"
    },
    {
     "name": "stdout",
     "output_type": "stream",
     "text": [
      "20240908-183802_vanilla_back_60 loaded 490 dina docked results\n",
      "20240908-183802_vanilla_back_60 has 490 to dump\n"
     ]
    },
    {
     "name": "stderr",
     "output_type": "stream",
     "text": [
      "pocket: 100%|██████████| 100/100 [00:12<00:00,  8.25it/s]"
     ]
    },
    {
     "name": "stdout",
     "output_type": "stream",
     "text": [
      "[Diversity] Avg: 0.7104 | Med: 0.7260 \n",
      "20240908-183802_vanilla_back_60, diversity: mean = 0.7104438682103623, median = 0.7259825327510917\n"
     ]
    },
    {
     "name": "stderr",
     "output_type": "stream",
     "text": [
      "\n"
     ]
    },
    {
     "data": {
      "application/vnd.jupyter.widget-view+json": {
       "model_id": "4106f68e532e4bbbb1df13c3fecf8068",
       "version_major": 2,
       "version_minor": 0
      },
      "text/plain": [
       "20240908-183827_vanilla_back_25:   0%|          | 0/10000 [00:00<?, ?it/s]"
      ]
     },
     "metadata": {},
     "output_type": "display_data"
    },
    {
     "name": "stdout",
     "output_type": "stream",
     "text": [
      "20240908-183827_vanilla_back_25 loaded 455 dina docked results\n",
      "20240908-183827_vanilla_back_25 has 455 to dump\n"
     ]
    },
    {
     "name": "stderr",
     "output_type": "stream",
     "text": [
      "pocket: 100%|██████████| 100/100 [00:03<00:00, 26.77it/s]"
     ]
    },
    {
     "name": "stdout",
     "output_type": "stream",
     "text": [
      "[Diversity] Avg: 0.7571 | Med: 0.7561 \n",
      "20240908-183827_vanilla_back_25, diversity: mean = 0.7571326129742494, median = 0.7561374795417348\n"
     ]
    },
    {
     "name": "stderr",
     "output_type": "stream",
     "text": [
      "\n"
     ]
    },
    {
     "data": {
      "application/vnd.jupyter.widget-view+json": {
       "model_id": "827ae38eb4ef41908527c538562eddd7",
       "version_major": 2,
       "version_minor": 0
      },
      "text/plain": [
       "20240908-183955_vanilla_back_75:   0%|          | 0/10000 [00:00<?, ?it/s]"
      ]
     },
     "metadata": {},
     "output_type": "display_data"
    },
    {
     "name": "stdout",
     "output_type": "stream",
     "text": [
      "20240908-183955_vanilla_back_75 loaded 490 dina docked results\n",
      "20240908-183955_vanilla_back_75 has 490 to dump\n"
     ]
    },
    {
     "name": "stderr",
     "output_type": "stream",
     "text": [
      "pocket: 100%|██████████| 100/100 [00:09<00:00, 10.36it/s]"
     ]
    },
    {
     "name": "stdout",
     "output_type": "stream",
     "text": [
      "[Diversity] Avg: 0.7293 | Med: 0.7554 \n",
      "20240908-183955_vanilla_back_75, diversity: mean = 0.7292696594718737, median = 0.7553606237816765\n"
     ]
    },
    {
     "name": "stderr",
     "output_type": "stream",
     "text": [
      "\n"
     ]
    },
    {
     "data": {
      "application/vnd.jupyter.widget-view+json": {
       "model_id": "e992dc38375841d5a35b1471fc043b56",
       "version_major": 2,
       "version_minor": 0
      },
      "text/plain": [
       "20240908-184007_vanilla_back_50:   0%|          | 0/10000 [00:00<?, ?it/s]"
      ]
     },
     "metadata": {},
     "output_type": "display_data"
    },
    {
     "name": "stdout",
     "output_type": "stream",
     "text": [
      "20240908-184007_vanilla_back_50 loaded 494 dina docked results\n",
      "20240908-184007_vanilla_back_50 has 494 to dump\n"
     ]
    },
    {
     "name": "stderr",
     "output_type": "stream",
     "text": [
      "pocket: 100%|██████████| 100/100 [00:07<00:00, 13.57it/s]"
     ]
    },
    {
     "name": "stdout",
     "output_type": "stream",
     "text": [
      "[Diversity] Avg: 0.7526 | Med: 0.7624 \n",
      "20240908-184007_vanilla_back_50, diversity: mean = 0.7525592914522324, median = 0.7624267505757347\n"
     ]
    },
    {
     "name": "stderr",
     "output_type": "stream",
     "text": [
      "\n"
     ]
    },
    {
     "data": {
      "application/vnd.jupyter.widget-view+json": {
       "model_id": "d4d272dbb2fd4cc39a9b30d2e64da999",
       "version_major": 2,
       "version_minor": 0
      },
      "text/plain": [
       "20240908-184008_vanilla_back_125:   0%|          | 0/10000 [00:00<?, ?it/s]"
      ]
     },
     "metadata": {},
     "output_type": "display_data"
    },
    {
     "name": "stdout",
     "output_type": "stream",
     "text": [
      "20240908-184008_vanilla_back_125 loaded 486 dina docked results\n",
      "20240908-184008_vanilla_back_125 has 486 to dump\n"
     ]
    },
    {
     "name": "stderr",
     "output_type": "stream",
     "text": [
      "pocket: 100%|██████████| 100/100 [00:07<00:00, 13.43it/s]"
     ]
    },
    {
     "name": "stdout",
     "output_type": "stream",
     "text": [
      "[Diversity] Avg: 0.7464 | Med: 0.7810 \n",
      "20240908-184008_vanilla_back_125, diversity: mean = 0.7463807617649261, median = 0.7810158012211108\n"
     ]
    },
    {
     "name": "stderr",
     "output_type": "stream",
     "text": [
      "\n"
     ]
    },
    {
     "data": {
      "application/vnd.jupyter.widget-view+json": {
       "model_id": "bbb05941c97f4d1db8df5d34a5d941de",
       "version_major": 2,
       "version_minor": 0
      },
      "text/plain": [
       "20240908-184103_vanilla_back_150:   0%|          | 0/10000 [00:00<?, ?it/s]"
      ]
     },
     "metadata": {},
     "output_type": "display_data"
    },
    {
     "name": "stdout",
     "output_type": "stream",
     "text": [
      "20240908-184103_vanilla_back_150 loaded 485 dina docked results\n",
      "20240908-184103_vanilla_back_150 has 485 to dump\n"
     ]
    },
    {
     "name": "stderr",
     "output_type": "stream",
     "text": [
      "pocket: 100%|██████████| 100/100 [00:06<00:00, 14.32it/s]"
     ]
    },
    {
     "name": "stdout",
     "output_type": "stream",
     "text": [
      "[Diversity] Avg: 0.7502 | Med: 0.7753 \n",
      "20240908-184103_vanilla_back_150, diversity: mean = 0.7501724544711944, median = 0.775330396475771\n"
     ]
    },
    {
     "name": "stderr",
     "output_type": "stream",
     "text": [
      "\n"
     ]
    },
    {
     "data": {
      "application/vnd.jupyter.widget-view+json": {
       "model_id": "d332ae1dcc9c4a8ca4068b2a9a7d8c75",
       "version_major": 2,
       "version_minor": 0
      },
      "text/plain": [
       "20240908-184151_vanilla_back_90:   0%|          | 0/10000 [00:00<?, ?it/s]"
      ]
     },
     "metadata": {},
     "output_type": "display_data"
    },
    {
     "name": "stdout",
     "output_type": "stream",
     "text": [
      "20240908-184151_vanilla_back_90 loaded 489 dina docked results\n",
      "20240908-184151_vanilla_back_90 has 489 to dump\n"
     ]
    },
    {
     "name": "stderr",
     "output_type": "stream",
     "text": [
      "pocket: 100%|██████████| 100/100 [00:09<00:00, 11.09it/s]"
     ]
    },
    {
     "name": "stdout",
     "output_type": "stream",
     "text": [
      "[Diversity] Avg: 0.7405 | Med: 0.7707 \n",
      "20240908-184151_vanilla_back_90, diversity: mean = 0.7404798482091125, median = 0.7706957691367082\n"
     ]
    },
    {
     "name": "stderr",
     "output_type": "stream",
     "text": [
      "\n"
     ]
    },
    {
     "data": {
      "application/vnd.jupyter.widget-view+json": {
       "model_id": "012b2e600eb548f7ac86cc81e1f2306f",
       "version_major": 2,
       "version_minor": 0
      },
      "text/plain": [
       "20240908-184157_vanilla_back_130:   0%|          | 0/10000 [00:00<?, ?it/s]"
      ]
     },
     "metadata": {},
     "output_type": "display_data"
    },
    {
     "name": "stdout",
     "output_type": "stream",
     "text": [
      "20240908-184157_vanilla_back_130 loaded 485 dina docked results\n",
      "20240908-184157_vanilla_back_130 has 485 to dump\n"
     ]
    },
    {
     "name": "stderr",
     "output_type": "stream",
     "text": [
      "pocket: 100%|██████████| 100/100 [00:10<00:00,  9.48it/s]"
     ]
    },
    {
     "name": "stdout",
     "output_type": "stream",
     "text": [
      "[Diversity] Avg: 0.7474 | Med: 0.7742 \n",
      "20240908-184157_vanilla_back_130, diversity: mean = 0.7474211467047295, median = 0.7741935483870968\n"
     ]
    },
    {
     "name": "stderr",
     "output_type": "stream",
     "text": [
      "\n"
     ]
    },
    {
     "data": {
      "application/vnd.jupyter.widget-view+json": {
       "model_id": "c85c7c9fcfe147789252fd03fd8fbae1",
       "version_major": 2,
       "version_minor": 0
      },
      "text/plain": [
       "20240908-184306_vanilla_back_160:   0%|          | 0/10000 [00:00<?, ?it/s]"
      ]
     },
     "metadata": {},
     "output_type": "display_data"
    },
    {
     "name": "stdout",
     "output_type": "stream",
     "text": [
      "20240908-184306_vanilla_back_160 loaded 485 dina docked results\n",
      "20240908-184306_vanilla_back_160 has 485 to dump\n"
     ]
    },
    {
     "name": "stderr",
     "output_type": "stream",
     "text": [
      "pocket: 100%|██████████| 100/100 [00:07<00:00, 12.56it/s]\n"
     ]
    },
    {
     "name": "stdout",
     "output_type": "stream",
     "text": [
      "[Diversity] Avg: 0.7420 | Med: 0.7700 \n",
      "20240908-184306_vanilla_back_160, diversity: mean = 0.7420171885390607, median = 0.7700325732899023\n"
     ]
    },
    {
     "data": {
      "application/vnd.jupyter.widget-view+json": {
       "model_id": "6aaf1bb70a314d308b06a0cfc6aba172",
       "version_major": 2,
       "version_minor": 0
      },
      "text/plain": [
       "20240908-184309_vanilla_back_190:   0%|          | 0/10000 [00:00<?, ?it/s]"
      ]
     },
     "metadata": {},
     "output_type": "display_data"
    },
    {
     "name": "stdout",
     "output_type": "stream",
     "text": [
      "20240908-184309_vanilla_back_190 loaded 489 dina docked results\n",
      "20240908-184309_vanilla_back_190 has 489 to dump\n"
     ]
    },
    {
     "name": "stderr",
     "output_type": "stream",
     "text": [
      "pocket: 100%|██████████| 100/100 [00:12<00:00,  8.04it/s]"
     ]
    },
    {
     "name": "stdout",
     "output_type": "stream",
     "text": [
      "[Diversity] Avg: 0.7473 | Med: 0.7720 \n",
      "20240908-184309_vanilla_back_190, diversity: mean = 0.7473393499631819, median = 0.7719868692730529\n"
     ]
    },
    {
     "name": "stderr",
     "output_type": "stream",
     "text": [
      "\n"
     ]
    },
    {
     "data": {
      "application/vnd.jupyter.widget-view+json": {
       "model_id": "c75a2b00e1234d4697e95dfdebf9e428",
       "version_major": 2,
       "version_minor": 0
      },
      "text/plain": [
       "20240908-184413_vanilla_back_30:   0%|          | 0/10000 [00:00<?, ?it/s]"
      ]
     },
     "metadata": {},
     "output_type": "display_data"
    },
    {
     "name": "stdout",
     "output_type": "stream",
     "text": [
      "20240908-184413_vanilla_back_30 loaded 469 dina docked results\n",
      "20240908-184413_vanilla_back_30 has 469 to dump\n"
     ]
    },
    {
     "name": "stderr",
     "output_type": "stream",
     "text": [
      "pocket: 100%|██████████| 100/100 [00:04<00:00, 20.01it/s]\n"
     ]
    },
    {
     "name": "stdout",
     "output_type": "stream",
     "text": [
      "[Diversity] Avg: 0.7666 | Med: 0.7715 \n",
      "20240908-184413_vanilla_back_30, diversity: mean = 0.7666487289835774, median = 0.7715010877447426\n"
     ]
    },
    {
     "data": {
      "application/vnd.jupyter.widget-view+json": {
       "model_id": "3371ae0b29f44bdbba21f54ff6c61d87",
       "version_major": 2,
       "version_minor": 0
      },
      "text/plain": [
       "20240908-204922_end_back_pmf:   0%|          | 0/10000 [00:00<?, ?it/s]"
      ]
     },
     "metadata": {},
     "output_type": "display_data"
    },
    {
     "name": "stdout",
     "output_type": "stream",
     "text": [
      "20240908-204922_end_back_pmf loaded 482 dina docked results\n",
      "20240908-204922_end_back_pmf has 482 to dump\n"
     ]
    },
    {
     "name": "stderr",
     "output_type": "stream",
     "text": [
      "pocket: 100%|██████████| 100/100 [00:07<00:00, 13.46it/s]"
     ]
    },
    {
     "name": "stdout",
     "output_type": "stream",
     "text": [
      "[Diversity] Avg: 0.7516 | Med: 0.7671 \n",
      "20240908-204922_end_back_pmf, diversity: mean = 0.7516068835012879, median = 0.7671464860287891\n"
     ]
    },
    {
     "name": "stderr",
     "output_type": "stream",
     "text": [
      "\n"
     ]
    }
   ],
   "source": [
    "from core.config.config import Config\n",
    "import glob\n",
    "\n",
    "timestamps = \"20240908-180819  20240908-183617  20240908-183826  20240908-183955  20240908-184007  20240908-184047  20240908-184151  20240908-184306  20240908-184413 20240908-183253  20240908-183802  20240908-183827  20240908-183958  20240908-184008  20240908-184103  20240908-184157  20240908-184309  20240908-204922\"\n",
    "timestamps = timestamps.split()\n",
    "timestamps = sorted(timestamps)\n",
    "\n",
    "for timestamp in timestamps:\n",
    "    config = f'/sharefs/qiukeyue/project/logs/qiukeyue_bfn_molopt/correction/a168dc9/test_outputs/{timestamp}/config.yaml'\n",
    "    cfg = Config(config)\n",
    "    if cfg.evaluation.num_samples != 5 or cfg.evaluation.sample_steps != 200 or cfg.evaluation.objective != 'vina_sa': continue\n",
    "    model_name = cfg.dynamics.sampling_strategy\n",
    "    model = ModelResults(f'{timestamp}_{model_name}', f'/sharefs/qiukeyue/project/logs/qiukeyue_bfn_molopt/correction/a168dc9/test_outputs/{timestamp}/mols-vina_sa/eval_all.pt')\n",
    "    if not os.path.exists(os.path.dirname(model.path)): continue\n",
    "    model.load_vina_docked_sdf(os.path.dirname(model.path))\n",
    "    if not model.flat_results: continue\n",
    "    agg_results = [[] for _ in range(100)]\n",
    "    for res in model.flat_results:\n",
    "        ligand_filename = res['ligand_filename']\n",
    "        idx = ref_fns.index(ligand_filename)\n",
    "        agg_results[idx].append(res)\n",
    "\n",
    "    diversity_list = compute_diversity(agg_results)\n",
    "    mean, median = np.mean(diversity_list), np.median(diversity_list)\n",
    "    # print(f\"{model.name}, diversity: mean = {mean}, median = {median}\")\n"
   ]
  },
  {
   "cell_type": "code",
   "execution_count": 15,
   "metadata": {},
   "outputs": [
    {
     "data": {
      "application/vnd.jupyter.widget-view+json": {
       "model_id": "1047ec0bf193442599188becc4b0cf2a",
       "version_major": 2,
       "version_minor": 0
      },
      "text/plain": [
       "Ours100:   0%|          | 0/10000 [00:00<?, ?it/s]"
      ]
     },
     "metadata": {},
     "output_type": "display_data"
    },
    {
     "name": "stdout",
     "output_type": "stream",
     "text": [
      "Ours100 loaded 9700 dina docked results\n",
      "Ours100 has 9700 to dump\n"
     ]
    },
    {
     "name": "stderr",
     "output_type": "stream",
     "text": [
      "pocket: 100%|██████████| 100/100 [50:35<00:00, 30.35s/it] "
     ]
    },
    {
     "name": "stdout",
     "output_type": "stream",
     "text": [
      "[Diversity] Avg: 0.7514 | Med: 0.7714 \n",
      "Ours100, diversity: mean = 0.7514207935698933, median = 0.7714285714285715\n"
     ]
    },
    {
     "name": "stderr",
     "output_type": "stream",
     "text": [
      "\n"
     ]
    }
   ],
   "source": [
    "model = ModelResults('Ours100', '../mols100/20240722-021041/mols-vina_sa_out_docked/eval_all.pt')\n",
    "model.load_vina_docked_sdf(os.path.dirname(model.path))\n",
    "\n",
    "agg_results = [[] for _ in range(100)]\n",
    "for res in model.flat_results:\n",
    "    ligand_filename = res['ligand_filename']\n",
    "    idx = ref_fns.index(ligand_filename)\n",
    "    agg_results[idx].append(res)\n",
    "\n",
    "# adapt the code snippit for agg_results into one line\n",
    "agg_results = [[res for res in model.flat_results if ref_fns.index(res['ligand_filename']) == idx] for idx in range(100)]\n",
    "\n",
    "diversity_list = compute_diversity(agg_results)\n",
    "mean, median = np.mean(diversity_list), np.median(diversity_list)\n",
    "print(f\"{model.name}, diversity: mean = {mean}, median = {median}\")"
   ]
  },
  {
   "cell_type": "markdown",
   "metadata": {},
   "source": [
    "## Plot Single-Optimization Boxplot"
   ]
  },
  {
   "cell_type": "code",
   "execution_count": 1,
   "metadata": {},
   "outputs": [
    {
     "name": "stdout",
     "output_type": "stream",
     "text": [
      "['20240908-184413', '20240908-184007', '20240908-183955', '20240909-033023', '20240908-183826', '20240908-184047', '20240909-041836', '20240908-183802', '20240908-184309', '20240909-012922', '20240909-033453', '20240909-033232', '20240908-184103', '20240908-183827', '20240908-184151', '20240909-041753', '20240909-033412', '20240909-033428', '20240908-183958', '20240909-013149', '20240909-005415', '20240908-183253', '20240908-183617', '20240908-180819', '20240909-032421', '20240908-204922', '20240909-005243', '20240908-184157', '20240909-012733', '20240909-033538', '20240909-033206', '20240908-184008', '20240908-184306', '20240908-235154']\n",
      "Lipinski loaded 977 vina docked results\n",
      "QED loaded 993 vina docked results\n",
      "Affinity loaded 897 vina docked results\n",
      "SA loaded 988 vina docked results\n"
     ]
    }
   ],
   "source": [
    "import sys\n",
    "sys.path.append('..')\n",
    "\n",
    "from core.config.config import Config\n",
    "import os\n",
    "from eval_all_results import ModelResults\n",
    "\n",
    "opt2name = {'vina': 'Affinity', 'qed': 'QED', 'sa': 'SA', 'lipinski': 'Lipinski', 'qed_sa': 'QED+SA', 'vina_qed': 'Affinity+QED', 'vina_sa': 'Affinity+SA', 'vina_qed_sa': 'Affinity+QED+SA', 'vina_qed_sa_lipinski': 'Affinity+QED+SA+Lipinski'}\n",
    "\n",
    "bfn_opts = {}\n",
    "\n",
    "timestamps = os.listdir('/sharefs/qiukeyue/project/logs/qiukeyue_bfn_molopt/correction/a168dc9/test_outputs')\n",
    "print(timestamps)\n",
    "for timestamp in timestamps:\n",
    "    config = f'/sharefs/qiukeyue/project/logs/qiukeyue_bfn_molopt/correction/a168dc9/test_outputs/{timestamp}/config.yaml'\n",
    "    cfg = Config(config)\n",
    "    if cfg.evaluation.num_samples != 10 or cfg.evaluation.sample_steps != 200: continue\n",
    "    if cfg.dynamics.sampling_strategy != 'vanilla_back_130' or cfg.evaluation.objective not in ['vina', 'sa', 'qed', 'lipinski']: continue\n",
    "    model_name = opt2name[cfg.evaluation.objective]\n",
    "    model = ModelResults(f'{model_name}', f'/sharefs/qiukeyue/project/logs/qiukeyue_bfn_molopt/correction/a168dc9/test_outputs/{timestamp}/mols-{cfg.evaluation.objective}/eval_all.pt')\n",
    "    if not os.path.exists(os.path.dirname(model.path)): continue\n",
    "    # model.load_vina_docked_sdf(os.path.dirname(model.path))\n",
    "    model.load_vina_docked()\n",
    "    bfn_opts[cfg.evaluation.objective] = model\n"
   ]
  },
  {
   "cell_type": "code",
   "execution_count": 15,
   "metadata": {},
   "outputs": [
    {
     "name": "stdout",
     "output_type": "stream",
     "text": [
      "['20240908-184413', '20240908-184007', '20240908-183955', '20240909-033023', '20240908-183826', '20240908-184047', '20240909-041836', '20240908-183802', '20240908-184309', '20240909-012922', '20240909-033453', '20240909-033232', '20240908-184103', '20240908-183827', '20240908-184151', '20240909-041753', '20240909-033412', '20240909-033428', '20240908-183958', '20240909-013149', '20240909-005415', '20240908-183253', '20240908-183617', '20240908-180819', '20240909-032421', '20240908-204922', '20240909-005243', '20240908-184157', '20240909-012733', '20240909-033538', '20240909-033206', '20240908-184008', '20240908-184306', '20240908-235154']\n",
      "20240909-041753 sample_mean\n"
     ]
    }
   ],
   "source": [
    "import sys\n",
    "sys.path.append('..')\n",
    "\n",
    "from core.config.config import Config\n",
    "import os\n",
    "from eval_all_results import ModelResults\n",
    "\n",
    "opt2name = {'vina': 'Affinity', 'qed': 'QED', 'sa': 'SA', 'lipinski': 'Lipinski', 'qed_sa': 'QED+SA', 'vina_qed': 'Affinity+QED', 'vina_sa': 'Affinity+SA', 'vina_qed_sa': 'Affinity+QED+SA', 'vina_qed_sa_lipinski': 'Affinity+QED+SA+Lipinski'}\n",
    "\n",
    "bfn_opts = {}\n",
    "\n",
    "timestamps = os.listdir('/sharefs/qiukeyue/project/logs/qiukeyue_bfn_molopt/correction/traj/test_outputs')\n",
    "timestamps = os.listdir('/sharefs/qiukeyue/project/logs/qiukeyue_bfn_molopt/correction/a168dc9/test_outputs')\n",
    "\n",
    "# timestamps = os.listdir('/sharefs/qiukeyue/project/logs/qiukeyue_bfn_molopt/train_tune_dloss_prob/5abbd93_8460_test/test_outputs')\n",
    "\n",
    "print(timestamps)\n",
    "for timestamp in timestamps:\n",
    "    config = f'/sharefs/qiukeyue/project/logs/qiukeyue_bfn_molopt/train_tune_dloss_prob/5abbd93_8460_test/test_outputs/{timestamp}/config.yaml'\n",
    "    config = f'/sharefs/qiukeyue/project/logs/qiukeyue_bfn_molopt/correction/traj/test_outputs/{timestamp}/config.yaml'\n",
    "    config = f'/sharefs/qiukeyue/project/logs/qiukeyue_bfn_molopt/correction/a168dc9/test_outputs/{timestamp}/config.yaml'\n",
    "    if not os.path.exists(config): continue\n",
    "    try:\n",
    "        cfg = Config(config)\n",
    "        if cfg.evaluation.num_samples != 10 or cfg.evaluation.sample_steps != 200: continue\n",
    "        # if cfg.dynamics.sampling_strategy != 'end_back_pmf': continue\n",
    "        if cfg.dynamics.sampling_strategy != 'vanilla_back_130': continue\n",
    "        if cfg.evaluation.objective != 'vina_sa': continue\n",
    "        if cfg.evaluation.pos_grad_weight != 50 or cfg.evaluation.type_grad_weight != 50: continue\n",
    "        print(timestamp, cfg.evaluation.guide_mode)\n",
    "    except:\n",
    "        continue\n",
    "\n",
    "    # model_name = opt2name[cfg.evaluation.objective]\n",
    "    # model = ModelResults(f'{model_name}', f'/sharefs/qiukeyue/project/logs/qiukeyue_bfn_molopt/correction/a168dc9/test_outputs/{timestamp}/mols-{cfg.evaluation.objective}/eval_all.pt')\n",
    "    # if not os.path.exists(os.path.dirname(model.path)): continue\n",
    "    # model.load_vina_docked_sdf(os.path.dirname(model.path))\n",
    "    # model.load_vina_docked()\n",
    "    # bfn_opts[cfg.evaluation.objective] = model\n"
   ]
  },
  {
   "cell_type": "code",
   "execution_count": 2,
   "metadata": {},
   "outputs": [
    {
     "name": "stdout",
     "output_type": "stream",
     "text": [
      "Reference loaded 100 vina docked results\n",
      "w/o Opt loaded 9667 vina docked results\n"
     ]
    }
   ],
   "source": [
    "ref = ModelResults('Reference', '/sharefs/share/sbdd_data/opt_results/crossdocked_test_vina_docked.pt')\n",
    "ref.load_vina_docked()\n",
    "\n",
    "bfn_ref = ModelResults('w/o Opt', '/sharefs/share/sbdd_data/opt_results/bfn_vina_docked.pt')\n",
    "bfn_ref.load_vina_docked()"
   ]
  },
  {
   "cell_type": "code",
   "execution_count": 3,
   "metadata": {},
   "outputs": [
    {
     "data": {
      "image/png": "[encoded data removed]",
      "text/plain": [
       "<Figure size 648x288 with 4 Axes>"
      ]
     },
     "metadata": {
      "needs_background": "light"
     },
     "output_type": "display_data"
    }
   ],
   "source": [
    "import sys\n",
    "sys.path.append('..')\n",
    "\n",
    "import matplotlib.pyplot as plt\n",
    "import numpy as np\n",
    "import seaborn as sns\n",
    "import pandas as pd\n",
    "\n",
    "from core.evaluation.utils.scoring_func import obey_lipinski\n",
    "\n",
    "# An example of accessing the results\n",
    "def get_prop_list(model, prop):\n",
    "    if prop == 'lipinski':\n",
    "        return [obey_lipinski(res['mol']) for res in model.flat_results]\n",
    "    elif prop == 'vina':\n",
    "        return [res['vina']['score_only'][0]['affinity'] for res in model.flat_results]\n",
    "    elif prop in ['qed', 'sa']:\n",
    "        return [res['chem_results'][prop] for res in model.flat_results]\n",
    "    else:\n",
    "        raise ValueError(f\"Unknown property {prop}\")\n",
    "\n",
    "\n",
    "\n",
    "# set matplotlib font size to a larger one\n",
    "plt.rcParams.update({'font.size': 12})\n",
    "# set legend font size smaller\n",
    "plt.rcParams.update({\n",
    "    'legend.fontsize': '12',\n",
    "    # 'legend.handlelength': 2\n",
    "})\n",
    "\n",
    "# colors = ['tab:blue', 'tab:orange', 'tab:green', 'tab:red', 'tab:purple', 'tab:brown', 'tab:pink', 'tab:gray', 'tab:olive']\n",
    "colors = ['#9DB4CE', # blue\n",
    "          '#EDA1A4', # red\n",
    "          '#F9C08A', # orange\n",
    "          '#A4CB9E', # green\n",
    "          '#B3D8D5'] # another green\n",
    "ref_model = ref\n",
    "\n",
    "# combine all properties into one plot\n",
    "\n",
    "plt.figure(figsize=(3*3, 4))\n",
    "plt.ylabel('Density')\n",
    "\n",
    "for idx, prop in enumerate(['qed', 'sa', 'lipinski', 'vina']):\n",
    "    plt.subplot(1, 4, idx+1)\n",
    "    model = bfn_opts[prop]\n",
    "    prop_list = get_prop_list(model, prop)\n",
    "    ref_prop_list = get_prop_list(ref_model, prop)\n",
    "    gen_prop_list = get_prop_list(bfn_ref, prop)\n",
    "    # plot binned histogram with density for each property\n",
    "    if prop in ['qed', 'sa']:\n",
    "        prop_name = prop.upper() + ' (+)'\n",
    "    elif prop == 'vina':\n",
    "        prop_list = [aff for aff in prop_list if aff < 0]\n",
    "        ref_prop_list = [aff for aff in ref_prop_list if aff < 0]\n",
    "        gen_prop_list = [aff for aff in gen_prop_list if aff < 0]\n",
    "        prop_name = 'Vina Score (-)'\n",
    "    \n",
    "    if prop in ['qed', 'sa', 'vina']:\n",
    "        ref_prop_hist = np.histogram(ref_prop_list, bins=50)\n",
    "        prop_hist = np.histogram(prop_list, bins=50)\n",
    "        # gen_prop_hist = np.histogram(gen_prop_list, bins=50)\n",
    "        # plt.hist(ref_prop_list, bins=50, label=ref_model.name, alpha=0.5, color='tab:gray', density=True)\n",
    "        # plt.hist(gen_prop_list, bins=50, label=bfn_ref.name, alpha=0.5, color=colors[0], density=True)\n",
    "        # plt.hist(prop_list, bins=50, label=model.name, alpha=0.5, color=colors[1+idx], density=True)\n",
    "        \n",
    "        sns.boxplot(data=[ref_prop_list, gen_prop_list, prop_list],width=0.5, palette=['.8', colors[0], colors[2]])\n",
    "        plt.xticks([0,1,2], ['Ref', 'Gen', 'Opt'])\n",
    "\n",
    "    elif prop == 'lipinski':\n",
    "        prop_name = prop.capitalize() + ' (+)'\n",
    "        x = np.arange(6)\n",
    "        ref_prop_arr = np.array(ref_prop_list)\n",
    "        prop_arr = np.array(prop_list)\n",
    "        ref_prop_arr = np.array([np.sum(ref_prop_arr == i) for i in range(6)]) / len(ref_prop_arr)\n",
    "        prop_arr = np.array([np.sum(prop_arr == i) for i in range(6)]) / len(prop_arr)\n",
    "        # gen_prop_arr = np.array(gen_prop_list)\n",
    "        # gen_prop_arr = np.array([np.sum(gen_prop_arr == i) for i in range(6)]) / len(gen_prop_arr)\n",
    "        ref_dict = [{'x': i, 'y': ref_prop_arr[i], 'hue': ref_model.name} for i in range(6)]\n",
    "        prop_dict = [{'x': i, 'y': prop_arr[i], 'hue': model.name} for i in range(6)]\n",
    "        # gen_dict = [{'x': i, 'y': gen_prop_arr[i], 'hue': bfn_ref.name} for i in range(6)]\n",
    "        data_all = ref_dict + prop_dict\n",
    "        data_all = pd.DataFrame(data_all)\n",
    "        # sns.barplot(data=data_all, x='x', y='y', hue='hue', palette=['tab:gray', colors[0], colors[1+idx]])\n",
    "        sns.boxplot(data=[ref_prop_list, gen_prop_list, prop_list], width=0.5, palette=['.8', colors[0], colors[1]])\n",
    "        # set x ticks\n",
    "        plt.xticks([0,1,2], ['Ref', 'Gen', 'Opt'])\n",
    " \n",
    "    else:\n",
    "        raise ValueError(f\"Unknown property {prop}\")\n",
    "    \n",
    "    # set legend\n",
    "    # plt.legend()\n",
    "    plt.ylabel('')\n",
    "    plt.xlabel('')\n",
    "    plt.title(f'{prop_name}')\n",
    "\n",
    "plt.tight_layout()\n",
    "plt.savefig('all_dist.pdf', bbox_inches='tight', dpi=300)"
   ]
  },
  {
   "cell_type": "code",
   "execution_count": 5,
   "metadata": {},
   "outputs": [
    {
     "name": "stdout",
     "output_type": "stream",
     "text": [
      "['4.6%', '1.4%', '-0.2%', '2.3%', '0.0%', '0.0%']\n",
      "['5.9%', '8.5%', '10.4%', '10.5%', '7.8%', '6.6%']\n",
      "['19.3%', '15.0%', '15.5%', '15.6%', '10.2%', '11.8%']\n",
      "['15.7%', '15.1%', '18.6%', '17.6%', '14.3%', '11.6%']\n"
     ]
    }
   ],
   "source": [
    "\"\"\" \n",
    "w/o Guide\tVanilla\t-5.23\t-5.81\t-6.3\t-6.17\t0.46\t0.62\n",
    "\tVanilla MC\t-6.25\t-6.7\t-7.01\t-7.05\t0.51\t0.61\n",
    "\tMolCRAFT\t-6.22\t-6.94\t-7.14\t-7.13\t0.49\t0.68\n",
    "\tB.C.\t-6.5\t-7\t-7.03\t-7.14\t0.49\t0.69\n",
    "Guided\tVanilla\t-5.47\t-5.89\t-6.29\t-6.31\t0.46\t0.62\n",
    "\tVanilla MC\t-6.62\t-7.27\t-7.74\t-7.79\t0.55\t0.65\n",
    "\tMolCRAFT\t-7.42\t-7.98\t-8.25\t-8.24\t0.54\t0.76\n",
    "\tB.C.\t-7.52\t-8.06\t-8.34\t-8.4\t0.56\t0.77\n",
    "\"\"\"\n",
    "\n",
    "import numpy as np\n",
    "import matplotlib.pyplot as plt\n",
    "\n",
    "# data to plot\n",
    "n_groups = 6\n",
    "means_frank = (-5.23, -5.81, -6.3, -6.17, 0.46, 0.62)\n",
    "means_guided = (-5.47, -5.89, -6.29, -6.31, 0.46, 0.62)\n",
    "means_frank_mc = (-6.25, -6.7, -7.01, -7.05, 0.51, 0.61)\n",
    "means_guided_mc = (-6.62, -7.27, -7.74, -7.79, 0.55, 0.65)\n",
    "means_frank_molcraft = (-6.22, -6.94, -7.14, -7.13, 0.49, 0.68)\n",
    "means_guided_molcraft = (-7.42, -7.98, -8.25, -8.24, 0.54, 0.76)\n",
    "means_frank_bc = (-6.5, -7, -7.03, -7.14, 0.49, 0.69)\n",
    "means_guided_bc = (-7.52, -8.06, -8.34, -8.4, 0.56, 0.77)\n",
    "\n",
    "# convert to positive values\n",
    "means_frank = [abs(x) for x in means_frank]\n",
    "means_guided = [abs(x) for x in means_guided]\n",
    "means_frank_mc = [abs(x) for x in means_frank_mc]\n",
    "means_guided_mc = [abs(x) for x in means_guided_mc]\n",
    "means_frank_molcraft = [abs(x) for x in means_frank_molcraft]\n",
    "means_guided_molcraft = [abs(x) for x in means_guided_molcraft]\n",
    "means_frank_bc = [abs(x) for x in means_frank_bc]\n",
    "means_guided_bc = [abs(x) for x in means_guided_bc]\n",
    "\n",
    "# calculate the percentage of improvement of guided over w/o guide\n",
    "improvement = np.array(means_guided) - np.array(means_frank)\n",
    "improvement = improvement / np.array(means_frank) * 100\n",
    "improvement_mc = np.array(means_guided_mc) - np.array(means_frank_mc)\n",
    "improvement_mc = improvement_mc / np.array(means_frank_mc) * 100\n",
    "improvement_molcraft = np.array(means_guided_molcraft) - np.array(means_frank_molcraft)\n",
    "improvement_molcraft = improvement_molcraft / np.array(means_frank_molcraft) * 100\n",
    "improvement_bc = np.array(means_guided_bc) - np.array(means_frank_bc)\n",
    "improvement_bc = improvement_bc / np.array(means_frank_bc) * 100\n",
    "\n",
    "# print the improvement percentage in the format of x.x%\n",
    "improvement = [f\"{x:.1f}%\" for x in improvement]\n",
    "improvement_mc = [f\"{x:.1f}%\" for x in improvement_mc]\n",
    "improvement_molcraft = [f\"{x:.1f}%\" for x in improvement_molcraft]\n",
    "improvement_bc = [f\"{x:.1f}%\" for x in improvement_bc]\n",
    "\n",
    "print(improvement)\n",
    "print(improvement_mc)\n",
    "print(improvement_molcraft)\n",
    "print(improvement_bc)\n",
    "\n",
    "# create plot\n",
    "# fig, ax = plt.subplots()\n",
    "# index = np.arange(n_groups)\n",
    "# bar_width = 0.35\n",
    "# opacity = 0.8\n",
    "\n",
    "# rects1 = plt.bar(index, means_frank, bar_width,\n",
    "# alpha=opacity,\n",
    "# color='b',\n",
    "# label='Frank')\n",
    "\n",
    "# rects2 = plt.bar(index + bar_width, means_guided, bar_width,\n",
    "# alpha=opacity,\n",
    "# color='g',\n",
    "# label='Guided')\n",
    "\n",
    "# plt.xlabel('Metrics')\n",
    "# plt.ylabel('Scores')\n",
    "# plt.title('Scores by metrics')\n",
    "# plt.xticks(index + bar_width, ('Vina Score Avg', 'Vina Score Med', 'Vina Min Avg', 'Vina Min Med', 'QED', 'SA'))\n",
    "# plt.legend()\n",
    "\n",
    "# plt.tight_layout()\n",
    "# plt.show()"
   ]
  },
  {
   "cell_type": "code",
   "execution_count": 3,
   "metadata": {},
   "outputs": [
    {
     "data": {
      "image/png": "[encoded data removed]",
      "text/plain": [
       "<Figure size 720x216 with 3 Axes>"
      ]
     },
     "metadata": {
      "needs_background": "light"
     },
     "output_type": "display_data"
    }
   ],
   "source": [
    "\"\"\" \n",
    "Objective\tMethods\tVina Score \t\tVina Min \tQED \tSA \n",
    "\t\tAvg.\tMed.\tAvg.\tMed.\t\t\n",
    "Affinity\tOurs\t-7.74\t-7.96\t-8.21\t-8.19\t0.52\t0.68\n",
    "\tw/o type\t-7.13\t-7.58\t-7.82\t-7.8\t0.5\t0.66\n",
    "\tw/o coord\t-6.61\t-7.23\t-7.42\t-7.53\t0.52\t0.71\n",
    "QED\tOurs\t-6.84\t-7.32\t-7.54\t-7.65\t0.66\t0.7\n",
    "\tw/o type\t-6.41\t-7.03\t-7.2\t-7.26\t0.52\t0.67\n",
    "\tw/o coord\t-6.5\t-7.2\t-7.44\t-7.42\t0.65\t0.7\n",
    "SA\tOurs\t-6.25\t-7.24\t-7.48\t-7.65\t0.57\t0.78\n",
    "\tw/o type\t-6.29\t-6.85\t-7.07\t-7.09\t0.51\t0.7\n",
    "\tw/o coord\t-6.71\t-7.22\t-7.6\t-7.6\t0.57\t0.77\n",
    "\"\"\"\n",
    "\n",
    "import numpy as np\n",
    "import matplotlib.pyplot as plt\n",
    "\n",
    "# data to plot\n",
    "n_groups = 6\n",
    "aff_joint = (-7.74, -7.96, -8.21, -8.19, 0.52, 0.68)\n",
    "aff_no_type = (-7.13, -7.58, -7.82, -7.8, 0.5, 0.66)\n",
    "aff_no_coord = (-6.61, -7.23, -7.42, -7.53, 0.52, 0.71)\n",
    "\n",
    "qed_joint = (-6.84, -7.32, -7.54, -7.65, 0.66, 0.7)\n",
    "qed_no_type = (-6.41, -7.03, -7.2, -7.26, 0.52, 0.67)\n",
    "qed_no_coord = (-6.5, -7.2, -7.44, -7.42, 0.65, 0.7)\n",
    "\n",
    "sa_joint = (-6.25, -7.24, -7.48, -7.65, 0.57, 0.78)\n",
    "sa_no_type = (-6.29, -6.85, -7.07, -7.09, 0.51, 0.7)\n",
    "sa_no_coord = (-6.71, -7.22, -7.6, -7.6, 0.57, 0.77)\n",
    "\n",
    "# only plot aff for aff, qed for qed, sa for sa\n",
    "\n",
    "# Creating a figure with subplots\n",
    "fig, axs = plt.subplots(1, 3, figsize=(10, 3)) # Adjust the size as needed\n",
    "\n",
    "x = np.arange(2)\n",
    "width = 0.2\n",
    "\n",
    "colors = ['#B3D8D5', '#F9C08A', '#EDA1A4', '#E7C1D7', '#AFB0D0']\n",
    "# colors = plt.rcParams['axes.prop_cycle'].by_key()['color']\n",
    "ALPHA = 1\n",
    "\n",
    "# Plotting the Vina scores\n",
    "# axs[0].xticks(x, ['w/o Correction', 'w/ Correction'])\n",
    "axs[0].bar(x - width, aff_joint[:2], width - 0.05, label='Joint', color=colors[0], alpha=ALPHA)\n",
    "axs[0].bar(x, aff_no_type[:2], width - 0.05, label='w/o Type', color=colors[1], alpha=ALPHA)\n",
    "axs[0].bar(x + width, aff_no_coord[:2], width - 0.05, label='w/o Coord', color=colors[2], alpha=ALPHA)\n",
    "axs[0].set_title('Vina Score (↓)')\n",
    "axs[0].set_xticks(x)\n",
    "axs[0].set_xticklabels(['Mean', 'Median'])\n",
    "axs[0].set_ylim(-8.4, -4)\n",
    "\n",
    "# Plotting the Vina min scores\n",
    "axs[1].bar(x - width, aff_joint[2:4], width - 0.05, label='Joint', color=colors[0], alpha=ALPHA)\n",
    "axs[1].bar(x, aff_no_type[2:4], width - 0.05, label='w/o Type', color=colors[1], alpha=ALPHA)\n",
    "axs[1].bar(x + width, aff_no_coord[2:4], width - 0.05, label='w/o Coord', color=colors[2], alpha=ALPHA)\n",
    "axs[1].set_title('Vina Min (↓)')\n",
    "axs[1].set_xticks(x)\n",
    "axs[1].set_xticklabels(['Mean', 'Median'])\n",
    "axs[1].set_ylim(-8.4, -4)\n",
    "\n",
    "# Plotting the QED & SA\n",
    "axs[2].bar(x - width, [qed_joint[4], sa_joint[5]], width - 0.05, label='Joint', color=colors[0], alpha=ALPHA)\n",
    "axs[2].bar(x, [qed_no_type[4], sa_no_type[5]], width - 0.05, label='w/o Type', color=colors[1], alpha=ALPHA)\n",
    "axs[2].bar(x + width, [qed_no_coord[4], sa_no_coord[5]], width - 0.05, label='w/o Coord', color=colors[2], alpha=ALPHA)\n",
    "axs[2].set_title('Molecular Properties (↑)')\n",
    "axs[2].set_xticks(x)\n",
    "axs[2].set_xticklabels(['QED', 'SA'])\n",
    "axs[2].set_ylim(0.4, 0.82)\n",
    "\n",
    "# Collect labels and handles\n",
    "handles, labels = [], []\n",
    "for ax in axs[:1]:\n",
    "    for h, l in zip(*ax.get_legend_handles_labels()):\n",
    "        handles.append(h)\n",
    "        labels.append(l)\n",
    "\n",
    "# Create one legend\n",
    "fig.legend(handles, labels, loc='center right', bbox_to_anchor=(1.122, 0.5)) #'upper center', bbox_to_anchor=(0.5, 0.0), ncol=len(handles))\n",
    "\n",
    "# Adjust layout to prevent overlap\n",
    "plt.tight_layout()\n",
    "\n",
    "# Show plot\n",
    "plt.savefig('ablation_joint.pdf', dpi=300, bbox_inches='tight')"
   ]
  },
  {
   "cell_type": "code",
   "execution_count": 2,
   "metadata": {},
   "outputs": [
    {
     "data": {
      "image/png": "[encoded data removed]",
      "text/plain": [
       "<Figure size 720x216 with 4 Axes>"
      ]
     },
     "metadata": {
      "needs_background": "light"
     },
     "output_type": "display_data"
    }
   ],
   "source": [
    "\"\"\" \n",
    "Joint \n",
    "Evaluate done! 999 samples in total.\n",
    "complete:     0.9720\n",
    "Number of evaluated mols: 971\n",
    "QED:   Mean: 0.558 Median: 0.573\n",
    "SA:    Mean: 0.773 Median: 0.760\n",
    "Vina Score:  Mean: -7.522 Median: -8.058\n",
    "Vina Min  :  Mean: -8.303 Median: -8.369\n",
    "Vina Dock :  Mean: -9.109 Median: -9.250\n",
    "Success rate: 0.518\n",
    "\n",
    "w/o Type\n",
    "Evaluate done! 997 samples in total.\n",
    "complete:\t0.9569\n",
    "Number of evaluated mols: 954\n",
    "QED:   Mean: 0.499 Median: 0.505\n",
    "SA:    Mean: 0.677 Median: 0.680\n",
    "Vina Score:  Mean: -6.940 Median: -7.157\n",
    "Vina Min  :  Mean: -7.350 Median: -7.303\n",
    "Vina Dock :  Mean: -8.029 Median: -7.995\n",
    "Success rate: 0.270\n",
    "\n",
    "w/o Coord\n",
    "Evaluate done! 997 samples in total.\n",
    "complete:\t0.9960\n",
    "Number of evaluated mols: 993\n",
    "QED:   Mean: 0.550 Median: 0.564\n",
    "SA:    Mean: 0.780 Median: 0.790\n",
    "Vina Score:  Mean: -7.189 Median: -7.661\n",
    "Vina Min  :  Mean: -8.097 Median: -8.003\n",
    "Vina Dock :  Mean: -8.734 Median: -9.004\n",
    "Success rate: 0.460\n",
    "\n",
    "\"\"\"\n",
    "\n",
    "import numpy as np\n",
    "import matplotlib.pyplot as plt\n",
    "\n",
    "# data to plot\n",
    "n_groups = 6\n",
    "aff_joint = (-7.522, -8.058, -8.303, -8.369, -9.109, -9.250)\n",
    "aff_no_type = (-6.940, -7.157, -7.350, -7.303, -8.029, -7.995)\n",
    "aff_no_coord = (-7.189, -7.661, -8.097, -8.003, -8.734, -9.004)\n",
    "\n",
    "qed_joint = (0.558, 0.573, 0.773, 0.760, -7.522, -8.058)\n",
    "qed_no_type = (0.499, 0.505, 0.677, 0.680, -6.940, -7.157)\n",
    "qed_no_coord = (0.550, 0.564, 0.780, 0.790, -7.189, -7.661)\n",
    "\n",
    "sa_joint = (0.773, 0.760, 0.773, 0.760, -7.522, -8.058)\n",
    "sa_no_type = (0.677, 0.680, 0.677, 0.680, -6.940, -7.157)\n",
    "sa_no_coord = (0.780, 0.790, 0.780, 0.790, -7.189, -7.661)\n",
    "\n",
    "# only plot aff for aff, qed for qed, sa for sa\n",
    "\n",
    "# Creating a figure with subplots\n",
    "fig, axs = plt.subplots(1, 4, figsize=(10, 3)) # Adjust the size as needed\n",
    "\n",
    "x = np.arange(2)\n",
    "width = 0.2\n",
    "\n",
    "colors = ['#B3D8D5', '#F9C08A', '#EDA1A4', '#E7C1D7', '#AFB0D0']\n",
    "# colors = plt.rcParams['axes.prop_cycle'].by_key()['color']\n",
    "ALPHA = 1\n",
    "\n",
    "# Plotting the Vina scores\n",
    "# axs[0].xticks(x, ['w/o Correction', 'w/ Correction'])\n",
    "axs[0].bar(x - width, aff_joint[:2], width - 0.05, label='Joint', color=colors[0], alpha=ALPHA)\n",
    "axs[0].bar(x, aff_no_type[:2], width - 0.05, label='w/o Type', color=colors[1], alpha=ALPHA)\n",
    "axs[0].bar(x + width, aff_no_coord[:2], width - 0.05, label='w/o Coord', color=colors[2], alpha=ALPHA)\n",
    "axs[0].set_title('Vina Score (↓)')\n",
    "axs[0].set_xticks(x)\n",
    "axs[0].set_xticklabels(['Mean', 'Median'])\n",
    "axs[0].set_ylim(-9.5, -4)\n",
    "\n",
    "# Plotting the Vina min scores\n",
    "axs[1].bar(x - width, aff_joint[2:4], width - 0.05, label='Joint', color=colors[0], alpha=ALPHA)\n",
    "axs[1].bar(x, aff_no_type[2:4], width - 0.05, label='w/o Type', color=colors[1], alpha=ALPHA)\n",
    "axs[1].bar(x + width, aff_no_coord[2:4], width - 0.05, label='w/o Coord', color=colors[2], alpha=ALPHA)\n",
    "axs[1].set_title('Vina Min (↓)')\n",
    "axs[1].set_xticks(x)\n",
    "axs[1].set_xticklabels(['Mean', 'Median'])\n",
    "axs[1].set_ylim(-9.5, -4)\n",
    "\n",
    "# Plotting the Vina Dock scores\n",
    "axs[2].bar(x - width, aff_joint[4:], width - 0.05, label='Joint', color=colors[0], alpha=ALPHA)\n",
    "axs[2].bar(x, aff_no_type[4:], width - 0.05, label='w/o Type', color=colors[1], alpha=ALPHA)\n",
    "axs[2].bar(x + width, aff_no_coord[4:], width - 0.05, label='w/o Coord', color=colors[2], alpha=ALPHA)\n",
    "axs[2].set_title('Vina Dock (↓)')\n",
    "axs[2].set_xticks(x)\n",
    "axs[2].set_xticklabels(['Mean', 'Median'])\n",
    "axs[2].set_ylim(-9.5, -4)\n",
    "\n",
    "# Plotting the QED & SA\n",
    "axs[3].bar(x - width, [qed_joint[0], sa_joint[0]], width - 0.05, label='Joint', color=colors[0], alpha=ALPHA)\n",
    "axs[3].bar(x, [qed_no_type[0], sa_no_type[0]], width - 0.05, label='w/o Type', color=colors[1], alpha=ALPHA)\n",
    "axs[3].bar(x + width, [qed_no_coord[0], sa_no_coord[0]], width - 0.05, label='w/o Coord', color=colors[2], alpha=ALPHA)\n",
    "axs[3].set_title('Molecular Properties (↑)')\n",
    "axs[3].set_xticks(x)\n",
    "axs[3].set_xticklabels(['QED', 'SA'])\n",
    "axs[3].set_ylim(0.4, 0.82)\n",
    "\n",
    "# Collect labels and handles\n",
    "handles, labels = [], []\n",
    "for ax in axs[:1]:\n",
    "    for h, l in zip(*ax.get_legend_handles_labels()):\n",
    "        handles.append(h)\n",
    "        labels.append(l)\n",
    "\n",
    "# Create one legend\n",
    "fig.legend(handles, labels, loc='center right', bbox_to_anchor=(1.122, 0.5)) #'upper center', bbox_to_anchor=(0.5, 0.0), ncol=len(handles))\n",
    "\n",
    "# Adjust layout to prevent overlap\n",
    "plt.tight_layout()\n",
    "\n",
    "# Show plot\n",
    "plt.savefig('ablation_joint2.pdf', dpi=300, bbox_inches='tight')"
   ]
  },
  {
   "cell_type": "markdown",
   "metadata": {},
   "source": [
    "## Calculate diversity, similarity & so on"
   ]
  },
  {
   "cell_type": "code",
   "execution_count": 25,
   "metadata": {},
   "outputs": [
    {
     "name": "stdout",
     "output_type": "stream",
     "text": [
      "Reference loaded 100 vina docked results\n"
     ]
    },
    {
     "name": "stderr",
     "output_type": "stream",
     "text": [
      "\n",
      "KeyboardInterrupt\n",
      "\n"
     ]
    }
   ],
   "source": [
    "import numpy as np\n",
    "import sys\n",
    "sys.path.append('..')\n",
    "from eval_all_results import ModelResults\n",
    "import os\n",
    "import torch\n",
    "\n",
    "result_dir = '/sharefs/share/sbdd_data/opt_results'\n",
    "\n",
    "ref_path = os.path.join(result_dir, 'crossdocked_test_vina_docked.pt')\n",
    "# bfn_ref_path = os.path.join(result_dir, 'bfn_vina_docked.pt')\n",
    "ref = ModelResults('Reference', ref_path)\n",
    "# bfn_ref = ModelResults('w/o Opt', bfn_ref_path)\n",
    "ref.load_vina_docked()\n",
    "# bfn_ref.load_pose_checked()\n",
    "\n",
    "\n",
    "affinity = 'dock'\n",
    "\n",
    "def compute_high_affinity(vina_ref, results):\n",
    "    percentage_good = []\n",
    "    num_docked = []\n",
    "    qed_good, sa_good = [], []\n",
    "    for i in range(100):\n",
    "        score_ref = vina_ref[i]\n",
    "        pocket_results = [r for r in results[i] if r['vina'] is not None]\n",
    "        # if len(pocket_results) < 50:\n",
    "        #     continue\n",
    "        num_docked.append(len(pocket_results))\n",
    "\n",
    "        scores_gen = []\n",
    "        for docked in pocket_results:\n",
    "            aff = docked['vina'][affinity][0]['affinity']\n",
    "            scores_gen.append(aff)\n",
    "            if aff <= score_ref:\n",
    "                qed_good.append(docked['chem_results']['qed'])\n",
    "                sa_good.append(docked['chem_results']['sa'])\n",
    "        scores_gen = np.array(scores_gen)\n",
    "        if len(scores_gen) == 0:\n",
    "            continue\n",
    "        percentage_good.append((scores_gen <= score_ref).mean())\n",
    "\n",
    "    percentage_good = np.array(percentage_good)\n",
    "    num_docked = np.array(num_docked)\n",
    "\n",
    "    print('[HF%%]  Avg: %.2f%% | Med: %.2f%% ' % (np.mean(percentage_good)*100, np.median(percentage_good)*100))\n",
    "    print('[HF-QED]  Avg: %.4f | Med: %.4f ' % (np.mean(qed_good)*100, np.median(qed_good)*100))\n",
    "    print('[HF-SA]   Avg: %.4f | Med: %.4f ' % (np.mean(sa_good)*100, np.median(sa_good)*100))\n",
    "    print('[Success%%] %.2f%% ' % (np.mean(percentage_good > 0)*100, ))\n",
    "    return percentage_good, qed_good, sa_good\n",
    "\n",
    "ref_fns = [x['ligand_filename'] for x in ref.flat_results]\n",
    "vina_ref = [r['vina'][affinity][0]['affinity'] for r in ref.flat_results]\n",
    "# model_tbd = bfn_opts['vina_qed_sa']\n",
    "\n",
    "# model_tbd = bfn_ref\n",
    "# model_tbd = ModelResults('w/ Inpaint ref', '../mols-inpaint/mols_ref20/temp_eval_all.pt')\n",
    "# model_tbd = ModelResults('w/ Inpaint vina_sa ref', '../mols-inpaint/mols-vina_sa_ref20/temp_eval_all.pt')\n",
    "# model_tbd = ModelResults('w/ scaffold vina_qed_sa ref', '../mols-scaffold/mols-vina_qed_sa_ref20_scaffold/temp_eval_all.pt')\n",
    "# model_tbd = ModelResults('w/ scaffold ref', '../mols-scaffold/mols_ref20_scaffold/temp_eval_all.pt')\n",
    "# model_tbd = ModelResults('Ours-O', os.path.join(result_dir, 'bfn_dcmp_vina_sa_50_vina_docked.pt'))\n",
    "# model_tbd = ModelResults('FLAG', os.path.join('/sharefs/share/sbdd_data/all_results', 'flag_vina_docked.pt'))\n",
    "# model_tbd = ModelResults('MolCRAFT', os.path.join(result_dir, 'molcraft_inpainting_ref20_vina_docked.pt'))\n",
    "# flat_results = model_tbd.flat_results\n",
    "flat_results = torch.load(os.path.join(result_dir, 'molcraft_inpainting_ref20_vina_docked.pt'), map_location='cpu')\n",
    "\n",
    "agg_results = [[] for _ in range(100)]\n",
    "for res in flat_results:\n",
    "    ligand_filename = res['ligand_filename']\n",
    "    idx = ref_fns.index(ligand_filename)\n",
    "    agg_results[idx].append(res)\n",
    "\n",
    "percentage_good, qed_good, sa_good = compute_high_affinity(vina_ref, agg_results)\n",
    "\n",
    "qed_list = [r['chem_results']['qed'] for r in flat_results]\n",
    "sa_list = [r['chem_results']['sa'] for r in flat_results]\n",
    "vina_dock_list = [r['vina']['dock'][0]['affinity'] for r in model_tbd.flat_results]\n",
    "success_rate = (np.array(qed_list) > 0.25) & (np.array(sa_list) > 0.59) & (np.array(vina_dock_list) < -8.18)\n",
    "success_rate = success_rate.sum() / len(success_rate)\n",
    "print(f\"[Success rate%]: {success_rate}\")\n"
   ]
  },
  {
   "cell_type": "code",
   "execution_count": 7,
   "metadata": {},
   "outputs": [
    {
     "ename": "RuntimeError",
     "evalue": "Bad pickle format: ENDMOL tag not found.",
     "output_type": "error",
     "traceback": [
      "\u001b[0;31m---------------------------------------------------------------------------\u001b[0m",
      "\u001b[0;31mRuntimeError\u001b[0m                              Traceback (most recent call last)",
      "Input \u001b[0;32mIn [7]\u001b[0m, in \u001b[0;36m<cell line: 2>\u001b[0;34m()\u001b[0m\n\u001b[1;32m      2\u001b[0m \u001b[38;5;28;01mwith\u001b[39;00m \u001b[38;5;28mopen\u001b[39m(os\u001b[38;5;241m.\u001b[39mpath\u001b[38;5;241m.\u001b[39mjoin(result_dir, \u001b[38;5;124m'\u001b[39m\u001b[38;5;124mmolcraft_inpainting_ref20_vina_docked.pt\u001b[39m\u001b[38;5;124m'\u001b[39m), \u001b[38;5;124m'\u001b[39m\u001b[38;5;124mrb\u001b[39m\u001b[38;5;124m'\u001b[39m) \u001b[38;5;28;01mas\u001b[39;00m f:\n\u001b[1;32m      3\u001b[0m     buf \u001b[38;5;241m=\u001b[39m io\u001b[38;5;241m.\u001b[39mBytesIO(f\u001b[38;5;241m.\u001b[39mread())\n\u001b[0;32m----> 4\u001b[0m     flat_results \u001b[38;5;241m=\u001b[39m \u001b[43mtorch\u001b[49m\u001b[38;5;241;43m.\u001b[39;49m\u001b[43mload\u001b[49m\u001b[43m(\u001b[49m\u001b[43mbuf\u001b[49m\u001b[43m,\u001b[49m\u001b[43m \u001b[49m\u001b[43mmap_location\u001b[49m\u001b[38;5;241;43m=\u001b[39;49m\u001b[38;5;124;43m'\u001b[39;49m\u001b[38;5;124;43mcpu\u001b[39;49m\u001b[38;5;124;43m'\u001b[39;49m\u001b[43m)\u001b[49m[\u001b[38;5;124m'\u001b[39m\u001b[38;5;124mall_results\u001b[39m\u001b[38;5;124m'\u001b[39m]\n",
      "File \u001b[0;32m~/.miniconda/envs/edm-dock/lib/python3.9/site-packages/torch/serialization.py:712\u001b[0m, in \u001b[0;36mload\u001b[0;34m(f, map_location, pickle_module, **pickle_load_args)\u001b[0m\n\u001b[1;32m    710\u001b[0m             opened_file\u001b[38;5;241m.\u001b[39mseek(orig_position)\n\u001b[1;32m    711\u001b[0m             \u001b[38;5;28;01mreturn\u001b[39;00m torch\u001b[38;5;241m.\u001b[39mjit\u001b[38;5;241m.\u001b[39mload(opened_file)\n\u001b[0;32m--> 712\u001b[0m         \u001b[38;5;28;01mreturn\u001b[39;00m \u001b[43m_load\u001b[49m\u001b[43m(\u001b[49m\u001b[43mopened_zipfile\u001b[49m\u001b[43m,\u001b[49m\u001b[43m \u001b[49m\u001b[43mmap_location\u001b[49m\u001b[43m,\u001b[49m\u001b[43m \u001b[49m\u001b[43mpickle_module\u001b[49m\u001b[43m,\u001b[49m\u001b[43m \u001b[49m\u001b[38;5;241;43m*\u001b[39;49m\u001b[38;5;241;43m*\u001b[39;49m\u001b[43mpickle_load_args\u001b[49m\u001b[43m)\u001b[49m\n\u001b[1;32m    713\u001b[0m \u001b[38;5;28;01mreturn\u001b[39;00m _legacy_load(opened_file, map_location, pickle_module, \u001b[38;5;241m*\u001b[39m\u001b[38;5;241m*\u001b[39mpickle_load_args)\n",
      "File \u001b[0;32m~/.miniconda/envs/edm-dock/lib/python3.9/site-packages/torch/serialization.py:1049\u001b[0m, in \u001b[0;36m_load\u001b[0;34m(zip_file, map_location, pickle_module, pickle_file, **pickle_load_args)\u001b[0m\n\u001b[1;32m   1047\u001b[0m unpickler \u001b[38;5;241m=\u001b[39m UnpicklerWrapper(data_file, \u001b[38;5;241m*\u001b[39m\u001b[38;5;241m*\u001b[39mpickle_load_args)\n\u001b[1;32m   1048\u001b[0m unpickler\u001b[38;5;241m.\u001b[39mpersistent_load \u001b[38;5;241m=\u001b[39m persistent_load\n\u001b[0;32m-> 1049\u001b[0m result \u001b[38;5;241m=\u001b[39m \u001b[43munpickler\u001b[49m\u001b[38;5;241;43m.\u001b[39;49m\u001b[43mload\u001b[49m\u001b[43m(\u001b[49m\u001b[43m)\u001b[49m\n\u001b[1;32m   1051\u001b[0m torch\u001b[38;5;241m.\u001b[39m_utils\u001b[38;5;241m.\u001b[39m_validate_loaded_sparse_tensors()\n\u001b[1;32m   1053\u001b[0m \u001b[38;5;28;01mreturn\u001b[39;00m result\n",
      "\u001b[0;31mRuntimeError\u001b[0m: Bad pickle format: ENDMOL tag not found."
     ]
    }
   ],
   "source": [
    "import io\n",
    "with open(os.path.join(result_dir, 'molcraft_inpainting_ref20_vina_docked.pt'), 'rb') as f:\n",
    "    buf = io.BytesIO(f.read())\n",
    "    flat_results = torch.load(buf, map_location='cpu')['all_results']"
   ]
  },
  {
   "cell_type": "code",
   "execution_count": null,
   "metadata": {},
   "outputs": [],
   "source": [
    "from core.evaluation.utils.scoring_func import compute_similarity, compute_novelty, compute_uniqueness, compute_scaffold_similarity, compute_diversity\n",
    "\n",
    "nov = compute_novelty(agg_results)\n",
    "uniq = compute_uniqueness(agg_results)\n",
    "sim = compute_similarity(agg_results)\n",
    "div = compute_diversity(agg_results)"
   ]
  },
  {
   "cell_type": "code",
   "execution_count": 3,
   "metadata": {},
   "outputs": [],
   "source": [
    "from collections import Counter\n",
    "from copy import deepcopy\n",
    "\n",
    "import numpy as np\n",
    "from scipy.spatial.distance import cosine as cos_distance\n",
    "\n",
    "from rdkit import Chem, DataStructs\n",
    "from rdkit.Chem import AllChem, Descriptors, Crippen, Lipinski\n",
    "from rdkit.Chem.FilterCatalog import *\n",
    "from rdkit.Chem.QED import qed\n",
    "from rdkit.Chem.Scaffolds import MurckoScaffold\n",
    "\n",
    "\n",
    "from tqdm import tqdm\n",
    "from core.evaluation.utils.sascorer import compute_sa_score\n",
    "\n",
    "\n",
    "\n",
    "def compute_scaffold_similarity(results, refs, min_rings=2):\n",
    "    scaffold_similarity = []\n",
    "    for i, res in tqdm(enumerate(results), total=len(results), desc='pocket scaffold sim'):\n",
    "        pocket_results = [r for r in res if r['mol'] is not None]\n",
    "\n",
    "        mols = [r['mol'] for r in pocket_results]\n",
    "        scaffold_mol = compute_scaffolds(mols, min_rings=min_rings)\n",
    "        scaffold_ref = compute_scaffolds([refs[i]], min_rings=min_rings)\n",
    "        if len(scaffold_mol) == 0 or len(scaffold_ref) == 0:\n",
    "            if len(scaffold_ref) == 0:\n",
    "                print('No scaffold found for mols', i, pocket_results[0]['ligand_filename'])\n",
    "            continue\n",
    "        scaffold_similarity.append(cos_similarity(scaffold_ref, scaffold_mol))\n",
    "    scaffold_similarity = np.array(scaffold_similarity)\n",
    "    print('[Scaffold Similarity] Avg: %.4f | Med: %.4f ' % (np.mean(scaffold_similarity), np.median(scaffold_similarity)))\n",
    "    return scaffold_similarity\n",
    "\n",
    "\n",
    "def compute_scaffolds(mol_list, n_jobs=1, min_rings=2):\n",
    "    \"\"\"\n",
    "    Extracts a scafold from a molecule in a form of a canonic SMILES\n",
    "    \"\"\"\n",
    "    def compute_scaffold(mol, min_rings=2):\n",
    "        try:\n",
    "            scaffold = MurckoScaffold.GetScaffoldForMol(mol)\n",
    "        except (ValueError, RuntimeError):\n",
    "            # print('Failed to compute scaffold for mol', mol)\n",
    "            return None\n",
    "        n_rings = scaffold.GetRingInfo().NumRings()\n",
    "        scaffold_smiles = Chem.MolToSmiles(scaffold)\n",
    "        if scaffold_smiles == '' or n_rings < min_rings:\n",
    "            # print('Failed to compute scaffold for scaffold smi', scaffold_smiles, n_rings, min_rings)\n",
    "            return None\n",
    "        return scaffold_smiles\n",
    "\n",
    "    scaffolds = Counter(\n",
    "        [compute_scaffold(mol, min_rings=min_rings) for mol in mol_list])\n",
    "    if None in scaffolds:\n",
    "        scaffolds.pop(None)\n",
    "    return scaffolds\n",
    "\n",
    "\n",
    "def cos_similarity(ref_counts, gen_counts):\n",
    "    \"\"\"\n",
    "    Computes cosine similarity between\n",
    "     dictionaries of form {name: count}. Non-present\n",
    "     elements are considered zero:\n",
    "\n",
    "     sim = <r, g> / ||r|| / ||g||\n",
    "    \"\"\"\n",
    "    if len(ref_counts) == 0 or len(gen_counts) == 0:\n",
    "        return np.nan\n",
    "    keys = np.unique(list(ref_counts.keys()) + list(gen_counts.keys()))\n",
    "    ref_vec = np.array([ref_counts.get(k, 0) for k in keys])\n",
    "    gen_vec = np.array([gen_counts.get(k, 0) for k in keys])\n",
    "    return 1 - cos_distance(ref_vec, gen_vec)\n",
    "\n"
   ]
  },
  {
   "cell_type": "code",
   "execution_count": 29,
   "metadata": {},
   "outputs": [
    {
     "name": "stderr",
     "output_type": "stream",
     "text": [
      "pocket uniq: 100%|██████████| 100/100 [00:00<00:00, 759.66it/s]"
     ]
    },
    {
     "name": "stdout",
     "output_type": "stream",
     "text": [
      "[Uniqueness] Avg: 0.7116 \n"
     ]
    },
    {
     "name": "stderr",
     "output_type": "stream",
     "text": [
      "\n"
     ]
    }
   ],
   "source": [
    "from core.evaluation.utils.scoring_func import compute_similarity, compute_novelty, compute_uniqueness, compute_scaffold_similarity, compute_diversity\n",
    "\n",
    "def compute_uniqueness(results):\n",
    "    unique = []\n",
    "    smis = []\n",
    "    for res in tqdm(results, desc='pocket uniq'):\n",
    "        pocket_results = [r for r in res if r['mol'] is not None]\n",
    "\n",
    "        mols = [r['mol'] for r in pocket_results]\n",
    "        if len(mols) == 0: continue\n",
    "        smis.extend([Chem.MolToSmiles(m) for m in mols])\n",
    "    unique = len(set(smis)) / len(smis)\n",
    "    print('[Uniqueness] Avg: %.4f ' % (np.mean(unique)))\n",
    "    return unique\n",
    "\n",
    "\n",
    "ref_mols = [r['mol'] for r in ref.flat_results]\n",
    "# scasim = compute_scaffold_similarity(agg_results, ref_mols, min_rings=0)\n",
    "# sim = compute_similarity(agg_results, ref_mols)\n",
    "# nov = compute_novelty(agg_results, ref_mols)\n",
    "uni = compute_uniqueness(agg_results)\n",
    "# div = compute_diversity(agg_results)"
   ]
  },
  {
   "cell_type": "code",
   "execution_count": 5,
   "metadata": {},
   "outputs": [
    {
     "name": "stderr",
     "output_type": "stream",
     "text": [
      "pocket sim: 100%|██████████| 100/100 [00:00<00:00, 717.91it/s]"
     ]
    },
    {
     "name": "stdout",
     "output_type": "stream",
     "text": [
      "[Similarity] Avg: 0.3655 | Med: 0.2099 \n"
     ]
    },
    {
     "name": "stderr",
     "output_type": "stream",
     "text": [
      "\n"
     ]
    }
   ],
   "source": [
    "from rdkit.Chem import MACCSkeys\n",
    "from rdkit.Chem.AllChem import GetMorganFingerprintAsBitVect as Morgan\n",
    "\n",
    "def fingerprint(mol, fp_type='morgan', dtype=None, morgan__r=2,\n",
    "                morgan__n=1024, *args, **kwargs):\n",
    "    \"\"\"\n",
    "    Generates fingerprint for SMILES\n",
    "    If smiles is invalid, returns None\n",
    "    Returns numpy array of fingerprint bits\n",
    "\n",
    "    Parameters:\n",
    "        smiles: SMILES string\n",
    "        type: type of fingerprint: [MACCS|morgan]\n",
    "        dtype: if not None, specifies the dtype of returned array\n",
    "    \"\"\"\n",
    "    fp_type = fp_type.lower()\n",
    "    molecule = mol\n",
    "    fingerprint = Morgan(molecule, morgan__r, nBits=morgan__n)\n",
    "    # if molecule is None:\n",
    "    #     return None\n",
    "    # if fp_type == 'maccs':\n",
    "    #     keys = MACCSkeys.GenMACCSKeys(molecule)\n",
    "    #     keys = np.array(keys.GetOnBits())\n",
    "    #     fingerprint = np.zeros(166, dtype='uint8')\n",
    "    #     if len(keys) != 0:\n",
    "    #         fingerprint[keys - 1] = 1  # We drop 0-th key that is always zero\n",
    "    # elif fp_type == 'morgan':\n",
    "    #     fingerprint = np.asarray(Morgan(molecule, morgan__r, nBits=morgan__n),\n",
    "    #                              dtype='uint8')\n",
    "    # else:\n",
    "    #     raise ValueError(\"Unknown fingerprint type {}\".format(fp_type))\n",
    "    # if dtype is not None:\n",
    "    #     fingerprint = fingerprint.astype(dtype)\n",
    "    return fingerprint\n",
    "\n",
    "def tanimoto_sim(mol, ref):\n",
    "    # fp1 = Chem.RDKFingerprint(ref)\n",
    "    # fp2 = Chem.RDKFingerprint(mol)\n",
    "    fp1 = fingerprint(ref, fp_type='morgan')\n",
    "    fp2 = fingerprint(mol, fp_type='morgan')\n",
    "    return DataStructs.TanimotoSimilarity(fp1,fp2)\n",
    "\n",
    "\n",
    "def compute_similarity(results, refs):\n",
    "    similarity = []\n",
    "    for i, res in tqdm(enumerate(results), total=len(results), desc='pocket sim'):\n",
    "        pocket_results = [r for r in res if r['mol'] is not None]\n",
    "\n",
    "        mols = [r['mol'] for r in pocket_results]\n",
    "        for j in range(len(mols)):\n",
    "            tmp = tanimoto_sim(mols[j], refs[i])\n",
    "            similarity.append(tmp)\n",
    "    similarity = np.array(similarity)\n",
    "    print('[Similarity] Avg: %.4f | Med: %.4f ' % (np.mean(similarity), np.median(similarity)))\n",
    "    return similarity\n",
    "\n",
    "ref_mols = [r['mol'] for r in ref.flat_results]\n",
    "similarity = compute_similarity(agg_results, ref_mols)"
   ]
  },
  {
   "cell_type": "code",
   "execution_count": 21,
   "metadata": {},
   "outputs": [
    {
     "name": "stderr",
     "output_type": "stream",
     "text": [
      "pocket sim: 100%|██████████| 100/100 [00:00<00:00, 395.85it/s]"
     ]
    },
    {
     "name": "stdout",
     "output_type": "stream",
     "text": [
      "[Similarity] Avg: 0.2587 | Med: 0.2128 \n"
     ]
    },
    {
     "name": "stderr",
     "output_type": "stream",
     "text": [
      "\n"
     ]
    }
   ],
   "source": [
    "similarity = compute_similarity(agg_results, ref_mols)"
   ]
  },
  {
   "cell_type": "code",
   "execution_count": 14,
   "metadata": {},
   "outputs": [
    {
     "name": "stdout",
     "output_type": "stream",
     "text": [
      "Scaffold similarity: 0.13021221258589155\n"
     ]
    }
   ],
   "source": [
    "flat_molist = [r['mol'] for r in model_tbd.flat_results if r['mol'] is not None]\n",
    "scaffold_mols = compute_scaffolds(flat_molist, min_rings=2)\n",
    "scaffold_ref = compute_scaffolds(ref_mols, min_rings=2)\n",
    "scaffold_sim = cos_similarity(scaffold_ref, scaffold_mols)\n",
    "print(f\"Scaffold similarity: {scaffold_sim}\")"
   ]
  },
  {
   "cell_type": "code",
   "execution_count": 13,
   "metadata": {},
   "outputs": [
    {
     "name": "stdout",
     "output_type": "stream",
     "text": [
      "Scaffold similarity: 0.3860690253124064\n"
     ]
    }
   ],
   "source": [
    "flat_molist = [r['mol'] for r in model_tbd.flat_results if r['mol'] is not None]\n",
    "scaffold_mols = compute_scaffolds(flat_molist, min_rings=0)\n",
    "scaffold_ref = compute_scaffolds(ref_mols, min_rings=0)\n",
    "scaffold_sim = cos_similarity(scaffold_ref, scaffold_mols)\n",
    "print(f\"Scaffold similarity: {scaffold_sim}\")"
   ]
  },
  {
   "cell_type": "code",
   "execution_count": 10,
   "metadata": {},
   "outputs": [
    {
     "name": "stdout",
     "output_type": "stream",
     "text": [
      "Scaffold similarity: 0.36387067586000743\n"
     ]
    }
   ],
   "source": [
    "# molcraft\n",
    "flat_molist = [r['mol'] for r in model_tbd.flat_results if r['mol'] is not None]\n",
    "scaffold_mols = compute_scaffolds(flat_molist, min_rings=0)\n",
    "scaffold_ref = compute_scaffolds(ref_mols, min_rings=0)\n",
    "scaffold_sim = cos_similarity(scaffold_ref, scaffold_mols)\n",
    "print(f\"Scaffold similarity: {scaffold_sim}\")"
   ]
  },
  {
   "cell_type": "code",
   "execution_count": 11,
   "metadata": {},
   "outputs": [
    {
     "name": "stdout",
     "output_type": "stream",
     "text": [
      "Scaffold similarity: 0.03181896284954011\n"
     ]
    }
   ],
   "source": [
    "# molcraft\n",
    "flat_molist = [r['mol'] for r in model_tbd.flat_results if r['mol'] is not None]\n",
    "scaffold_mols = compute_scaffolds(flat_molist, min_rings=2)\n",
    "scaffold_ref = compute_scaffolds(ref_mols, min_rings=2)\n",
    "scaffold_sim = cos_similarity(scaffold_ref, scaffold_mols)\n",
    "print(f\"Scaffold similarity: {scaffold_sim}\")"
   ]
  },
  {
   "cell_type": "code",
   "execution_count": 3,
   "metadata": {},
   "outputs": [
    {
     "name": "stdout",
     "output_type": "stream",
     "text": [
      "[Similarity] Avg: 0.44 | Med: 0.36\n",
      "[Novelty] Avg: 0.86 | Med: 1.00\n",
      "[Uniqueness] Avg: 0.74 | Med: 0.97\n",
      "[Scaffold Similarity] Avg: nan | Med: nan\n"
     ]
    }
   ],
   "source": [
    "print(f\"[Similarity] Avg: {np.mean(sim):.2f} | Med: {np.median(sim):.2f}\")\n",
    "print(f\"[Novelty] Avg: {np.mean(nov):.2f} | Med: {np.median(nov):.2f}\")\n",
    "print(f\"[Uniqueness] Avg: {np.mean(uni):.2f} | Med: {np.median(uni):.2f}\")\n",
    "print(f\"[Scaffold Similarity] Avg: {np.mean(scasim):.2f} | Med: {np.median(scasim):.2f}\")"
   ]
  },
  {
   "cell_type": "code",
   "execution_count": 13,
   "metadata": {},
   "outputs": [
    {
     "name": "stdout",
     "output_type": "stream",
     "text": [
      "BFN Large loaded 7042 pose checked results\n"
     ]
    },
    {
     "name": "stderr",
     "output_type": "stream",
     "text": [
      "pocket sim: 100%|██████████| 100/100 [00:38<00:00,  2.62it/s]"
     ]
    },
    {
     "name": "stdout",
     "output_type": "stream",
     "text": [
      "[Similarity] Avg: 0.2693 | Med: 0.2477 \n",
      "[Similarity] Avg: 0.27 | Med: 0.25\n"
     ]
    },
    {
     "name": "stderr",
     "output_type": "stream",
     "text": [
      "\n"
     ]
    }
   ],
   "source": [
    "from core.evaluation.utils.scoring_func import compute_similarity\n",
    "\n",
    "ref_mols = [r['mol'] for r in ref.flat_results]\n",
    "\n",
    "bfn_large = ModelResults('BFN Large', os.path.join('/sharefs/share/sbdd_data/all_results', 'bfn_dcmpo_vina_docked.pt'))\n",
    "bfn_large.load_pose_checked()\n",
    "bfn_agg_results = [[] for _ in range(100)]\n",
    "# for res in bfn_ref.flat_results:\n",
    "for res in bfn_large.flat_results:\n",
    "    ligand_filename = res['ligand_filename']\n",
    "    idx = ref_fns.index(ligand_filename)\n",
    "    bfn_agg_results[idx].append(res)\n",
    "\n",
    "sim = compute_similarity(bfn_agg_results, ref_mols)\n",
    "print(f\"[Similarity] Avg: {np.mean(sim):.2f} | Med: {np.median(sim):.2f}\")"
   ]
  },
  {
   "cell_type": "code",
   "execution_count": 26,
   "metadata": {},
   "outputs": [
    {
     "name": "stderr",
     "output_type": "stream",
     "text": [
      "pocket sim: 100%|██████████| 100/100 [00:01<00:00, 91.95it/s]"
     ]
    },
    {
     "name": "stdout",
     "output_type": "stream",
     "text": [
      "[Similarity] Avg: 0.1247 | Med: 0.1148 \n",
      "[Similarity] Avg: 0.12 | Med: 0.11\n"
     ]
    },
    {
     "name": "stderr",
     "output_type": "stream",
     "text": [
      "\n"
     ]
    }
   ],
   "source": [
    "sim = compute_similarity(agg_results, ref_mols)\n",
    "print(f\"[Similarity] Avg: {np.mean(sim):.2f} | Med: {np.median(sim):.2f}\")"
   ]
  },
  {
   "cell_type": "code",
   "execution_count": 9,
   "metadata": {},
   "outputs": [
    {
     "name": "stdout",
     "output_type": "stream",
     "text": [
      "[Div]  Avg: 0.67 | Med: 0.67\n",
      "[HF%]  Avg: 68.70% | Med: 70.00% \n",
      "[HF-QED]  Avg: 62.5954 | Med: 64.5087 \n",
      "[HF-SA]   Avg: 69.7626 | Med: 69.0000 \n",
      "[Success rate%]: 0.3846938775510204\n"
     ]
    }
   ],
   "source": [
    "print(f\"[Div]  Avg: {mean:.2f} | Med: {median:.2f}\")\n",
    "print('[HF%%]  Avg: %.2f%% | Med: %.2f%% ' % (np.mean(percentage_good)*100, np.median(percentage_good)*100))\n",
    "print('[HF-QED]  Avg: %.4f | Med: %.4f ' % (np.mean(qed_good)*100, np.median(qed_good)*100))\n",
    "print('[HF-SA]   Avg: %.4f | Med: %.4f ' % (np.mean(sa_good)*100, np.median(sa_good)*100))\n",
    "# print('[Success%%] %.2f%% ' % (np.mean(percentage_good > 0)*100, ))\n",
    "print(f\"[Success rate%]: {success_rate}\")"
   ]
  },
  {
   "attachments": {},
   "cell_type": "markdown",
   "metadata": {},
   "source": [
    "## Plot the shift of property distribution w/ opt"
   ]
  },
  {
   "cell_type": "code",
   "execution_count": null,
   "metadata": {},
   "outputs": [],
   "source": [
    "import sys\n",
    "sys.path.append('..')\n",
    "from core.evaluation.utils.scoring_func import obey_lipinski\n",
    "\n",
    "# An example of accessing the results\n",
    "def get_prop_list(model, prop):\n",
    "    if prop == 'lipinski':\n",
    "        return [obey_lipinski(res['mol']) for res in model.flat_results]\n",
    "    elif prop == 'vina':\n",
    "        return [res['vina']['score_only'][0]['affinity'] for res in model.flat_results]\n",
    "    elif prop in ['qed', 'sa']:\n",
    "        return [res['chem_results'][prop] for res in model.flat_results]\n",
    "    else:\n",
    "        raise ValueError(f\"Unknown property {prop}\")\n",
    "\n",
    "import matplotlib.pyplot as plt\n",
    "import numpy as np\n",
    "import seaborn as sns\n",
    "\n",
    "# only plot those properties that are optimized\n",
    "# TODO: plot for more models\n",
    "# each property has two models: w/o and w/ opt\n",
    "colors = ['tab:blue', 'tab:orange', 'tab:green', 'tab:red', 'tab:purple', 'tab:brown', 'tab:pink', 'tab:gray', 'tab:olive']\n",
    "for prop in ['qed', 'sa']:\n",
    "    plt.figure()\n",
    "    for idx, model in enumerate([bfn_opts['vina_qed_sa']]):\n",
    "        prop_list = get_prop_list(model, prop)\n",
    "        ref_prop_list = get_prop_list(bfn_ref, prop)\n",
    "    fig, axs = plt.subplots(1, 2, figsize=(6, 4))\n",
    "    # change colspan of axs\n",
    "    axs[0] = plt.subplot2grid((1, 4), (0, 0), colspan=3)\n",
    "    axs[1] = plt.subplot2grid((1, 4), (0, 3), colspan=1)\n",
    "    # plot binned histogram with density for each property\n",
    "    sns.histplot(ref_prop_list, bins=50, label='w/o Opt', alpha=0.5, color='tab:gray', ax=axs[0], kde=True, common_norm=False, stat='density')\n",
    "    sns.histplot(prop_list, bins=50, label=model.name, alpha=0.5, color=colors[idx], ax=axs[0], kde=True, common_norm=False, stat='density')\n",
    "    # plot boxplot for each property\n",
    "    sns.boxplot(data=[ref_prop_list, prop_list], ax=axs[1], palette=['tab:gray', colors[idx]], width=0.5)\n",
    "    fig.suptitle(f'{prop.upper()} distribution')\n",
    "    fig.tight_layout()\n",
    "    # set legend\n",
    "    axs[0].legend()\n",
    "\n",
    "# plot vina affinity\n",
    "plt.figure()\n",
    "for idx, model in enumerate([bfn_opts['vina_qed_sa']]):\n",
    "    prop_list = get_prop_list(model, 'vina')\n",
    "    ref_prop_list = get_prop_list(bfn_ref, 'vina')\n",
    "    # threshold set to 0\n",
    "    prop_list = [aff for aff in prop_list if aff < 0]\n",
    "    ref_prop_list = [aff for aff in ref_prop_list if aff < 0]\n",
    "    fig, axs = plt.subplots(1, 2, figsize=(6, 4))\n",
    "    # change colspan of axs\n",
    "    axs[0] = plt.subplot2grid((1, 4), (0, 0), colspan=3)\n",
    "    axs[1] = plt.subplot2grid((1, 4), (0, 3), colspan=1)\n",
    "    # plot binned histogram with density for each property\n",
    "    sns.histplot(ref_prop_list, bins=50, label='w/o Opt', alpha=0.5, color='tab:gray', ax=axs[0], kde=True, common_norm=False, stat='density')\n",
    "    sns.histplot(prop_list, bins=50, label=model.name, alpha=0.5, color=colors[idx], ax=axs[0], kde=True, common_norm=False, stat='density')\n",
    "    # plot boxplot for each property\n",
    "    sns.boxplot(data=[ref_prop_list, prop_list], ax=axs[1], palette=['tab:gray', colors[idx]], width=0.5)\n",
    "    fig.suptitle('Vina Score distribution')\n",
    "    fig.tight_layout()\n",
    "    # set legend\n",
    "    axs[0].legend()\n",
    "\n",
    "# plot lipinski box plot\n",
    "import pandas as pd\n",
    "\n",
    "plt.figure()\n",
    "for idx, model in enumerate([bfn_opts['vina_qed_sa']]):\n",
    "    prop_list = get_prop_list(model, 'lipinski')\n",
    "    ref_prop_list = get_prop_list(bfn_ref, 'lipinski')\n",
    "    fig, axs = plt.subplots(1, 2, figsize=(6, 4))\n",
    "    # change colspan of axs\n",
    "    axs[0] = plt.subplot2grid((1, 4), (0, 0), colspan=3)\n",
    "    axs[1] = plt.subplot2grid((1, 4), (0, 3), colspan=1)\n",
    "    # plot binned histogram with density for each property\n",
    "    sns.boxplot(data=[ref_prop_list, prop_list], ax=axs[1], palette=['tab:gray', colors[idx]], width=0.5)\n",
    "    # lipinski is a discrete property, so we use barplot instead of histogram\n",
    "    # x = 0, 1, 2, 3, 4, 5\n",
    "    # y = density\n",
    "    x = np.arange(6)\n",
    "    ref_prop_list = np.array(ref_prop_list)\n",
    "    prop_list = np.array(prop_list)\n",
    "    ref_prop_list = np.array([np.sum(ref_prop_list == i) for i in range(6)]) / len(ref_prop_list)\n",
    "    prop_list = np.array([np.sum(prop_list == i) for i in range(6)]) / len(prop_list)\n",
    "    prop_dict = [{'x': i, 'y': prop_list[i], 'hue': model.name} for i in range(6)]\n",
    "    ref_dict = [{'x': i, 'y': ref_prop_list[i], 'hue': 'w/o Opt'} for i in range(6)]\n",
    "    data_all = ref_dict + prop_dict\n",
    "    data_all = pd.DataFrame(data_all)\n",
    "    sns.barplot(data=data_all, ax=axs[0], x='x', y='y', hue='hue', palette=['tab:gray', colors[idx]])\n",
    "\n",
    "    # sns.violinplot(data=[ref_prop_list, prop_list], ax=axs[0], palette=['tab:gray', colors[idx]], hue=['w/o Opt', model.name], split=True, inner='quartile')\n",
    "    fig.suptitle('Lipinski distribution')\n",
    "    fig.tight_layout()\n",
    "\n",
    "plt.show()"
   ]
  },
  {
   "cell_type": "code",
   "execution_count": 84,
   "metadata": {},
   "outputs": [
    {
     "data": {
      "text/plain": [
       "<Figure size 432x288 with 0 Axes>"
      ]
     },
     "metadata": {},
     "output_type": "display_data"
    },
    {
     "data": {
      "image/png": "[encoded data removed]",
      "text/plain": [
       "<Figure size 576x288 with 2 Axes>"
      ]
     },
     "metadata": {
      "needs_background": "light"
     },
     "output_type": "display_data"
    },
    {
     "data": {
      "text/plain": [
       "<Figure size 432x288 with 0 Axes>"
      ]
     },
     "metadata": {},
     "output_type": "display_data"
    },
    {
     "data": {
      "image/png": "[encoded data removed]",
      "text/plain": [
       "<Figure size 576x288 with 2 Axes>"
      ]
     },
     "metadata": {
      "needs_background": "light"
     },
     "output_type": "display_data"
    },
    {
     "data": {
      "text/plain": [
       "<Figure size 432x288 with 0 Axes>"
      ]
     },
     "metadata": {},
     "output_type": "display_data"
    },
    {
     "data": {
      "image/png": "[encoded data removed]",
      "text/plain": [
       "<Figure size 576x288 with 2 Axes>"
      ]
     },
     "metadata": {
      "needs_background": "light"
     },
     "output_type": "display_data"
    },
    {
     "data": {
      "text/plain": [
       "<Figure size 432x288 with 0 Axes>"
      ]
     },
     "metadata": {},
     "output_type": "display_data"
    },
    {
     "data": {
      "image/png": "[encoded data removed]",
      "text/plain": [
       "<Figure size 576x288 with 2 Axes>"
      ]
     },
     "metadata": {
      "needs_background": "light"
     },
     "output_type": "display_data"
    }
   ],
   "source": [
    "# set matplotlib font size to a larger one\n",
    "plt.rcParams.update({'font.size': 14})\n",
    "# set legend font size smaller\n",
    "plt.rcParams.update({\n",
    "    'legend.fontsize': '12',\n",
    "    # 'legend.handlelength': 2\n",
    "})\n",
    "\n",
    "colors = ['tab:blue', 'tab:orange', 'tab:green', 'tab:red', 'tab:purple', 'tab:brown', 'tab:pink', 'tab:gray', 'tab:olive']\n",
    "ref_model = ref\n",
    "\n",
    "for prop in ['qed', 'sa', 'vina', 'lipinski']:\n",
    "    plt.figure()\n",
    "    model = bfn_opts[prop]\n",
    "    prop_list = get_prop_list(model, prop)\n",
    "    ref_prop_list = get_prop_list(ref_model, prop)\n",
    "    gen_prop_list = get_prop_list(bfn_ref, prop)\n",
    "    fig, axs = plt.subplots(1, 2, figsize=(8, 4))\n",
    "    # change colspan of axs\n",
    "    axs[0] = plt.subplot2grid((1, 4), (0, 0), colspan=3)\n",
    "    axs[1] = plt.subplot2grid((1, 4), (0, 3), colspan=1)\n",
    "    # plot binned histogram with density for each property\n",
    "    if prop in ['qed', 'sa']:\n",
    "        prop_name = prop.upper()\n",
    "    elif prop == 'vina':\n",
    "        prop_list = [aff for aff in prop_list if aff < 0]\n",
    "        ref_prop_list = [aff for aff in ref_prop_list if aff < 0]\n",
    "        gen_prop_list = [aff for aff in gen_prop_list if aff < 0]\n",
    "        prop_name = 'Vina Score'\n",
    "    \n",
    "    if prop in ['qed', 'sa', 'vina']:\n",
    "        ref_prop_hist = np.histogram(ref_prop_list, bins=50)\n",
    "        prop_hist = np.histogram(prop_list, bins=50)\n",
    "        gen_prop_hist = np.histogram(gen_prop_list, bins=50)\n",
    "        axs[0].hist(ref_prop_list, bins=50, label=ref_model.name, alpha=0.5, color='tab:gray', density=True)\n",
    "        axs[0].hist(gen_prop_list, bins=50, label=bfn_ref.name, alpha=0.5, color=colors[0], density=True)\n",
    "        axs[0].hist(prop_list, bins=50, label=model.name, alpha=0.5, color=colors[1], density=True)\n",
    "    elif prop == 'lipinski':\n",
    "        prop_name = prop.capitalize()\n",
    "        x = np.arange(6)\n",
    "        ref_prop_arr = np.array(ref_prop_list)\n",
    "        prop_arr = np.array(prop_list)\n",
    "        ref_prop_arr = np.array([np.sum(ref_prop_arr == i) for i in range(6)]) / len(ref_prop_arr)\n",
    "        prop_arr = np.array([np.sum(prop_arr == i) for i in range(6)]) / len(prop_arr)\n",
    "        gen_prop_arr = np.array(gen_prop_list)\n",
    "        gen_prop_arr = np.array([np.sum(gen_prop_arr == i) for i in range(6)]) / len(gen_prop_arr)\n",
    "        ref_dict = [{'x': i, 'y': ref_prop_arr[i], 'hue': ref_model.name} for i in range(6)]\n",
    "        prop_dict = [{'x': i, 'y': prop_arr[i], 'hue': model.name} for i in range(6)]\n",
    "        gen_dict = [{'x': i, 'y': gen_prop_arr[i], 'hue': bfn_ref.name} for i in range(6)]\n",
    "        data_all = ref_dict + gen_dict + prop_dict \n",
    "        data_all = pd.DataFrame(data_all)\n",
    "        sns.barplot(data=data_all, ax=axs[0], x='x', y='y', hue='hue', palette=['tab:gray', colors[0], colors[1]])\n",
    "    else:\n",
    "        raise ValueError(f\"Unknown property {prop}\")\n",
    "\n",
    "    # plot boxplot for each property\n",
    "    # TODO: change the boxplot x axis labels to model names\n",
    "    sns.boxplot(data=[ref_prop_list, gen_prop_list, prop_list], ax=axs[1], width=0.5, palette=['tab:gray', colors[0], colors[1]])\n",
    " \n",
    "    fig.suptitle(f'{prop_name} distribution')\n",
    "    # set legend\n",
    "    axs[0].legend()\n",
    "    # remove x label for the first plot\n",
    "    axs[0].set_xlabel('')\n",
    "    axs[0].set_ylabel('Density')\n",
    "    # set ax1 y label to appear on the right side of the plot\n",
    "    axs[1].yaxis.tick_right()\n",
    "    axs[1].yaxis.set_label_position('right')\n",
    "    axs[1].set_ylabel(prop_name)\n",
    "    axs[1].set_xticklabels(['Ref', 'Gen', 'Opt'])\n",
    "    plt.savefig(f'{prop}_dist.pdf', bbox_inches='tight', dpi=300)\n"
   ]
  },
  {
   "cell_type": "code",
   "execution_count": 22,
   "metadata": {},
   "outputs": [
    {
     "data": {
      "image/png": "[encoded data removed]",
      "text/plain": [
       "<Figure size 1296x288 with 4 Axes>"
      ]
     },
     "metadata": {
      "needs_background": "light"
     },
     "output_type": "display_data"
    }
   ],
   "source": [
    "import sys\n",
    "sys.path.append('..')\n",
    "\n",
    "import matplotlib.pyplot as plt\n",
    "import numpy as np\n",
    "import seaborn as sns\n",
    "import pandas as pd\n",
    "\n",
    "from core.evaluation.utils.scoring_func import obey_lipinski\n",
    "\n",
    "# An example of accessing the results\n",
    "def get_prop_list(model, prop):\n",
    "    if prop == 'lipinski':\n",
    "        return [obey_lipinski(res['mol']) for res in model.flat_results]\n",
    "    elif prop == 'vina':\n",
    "        return [res['vina']['score_only'][0]['affinity'] for res in model.flat_results]\n",
    "    elif prop in ['qed', 'sa']:\n",
    "        return [res['chem_results'][prop] for res in model.flat_results]\n",
    "    else:\n",
    "        raise ValueError(f\"Unknown property {prop}\")\n",
    "\n",
    "\n",
    "\n",
    "# set matplotlib font size to a larger one\n",
    "plt.rcParams.update({'font.size': 14})\n",
    "# set legend font size smaller\n",
    "plt.rcParams.update({\n",
    "    'legend.fontsize': '12',\n",
    "    # 'legend.handlelength': 2\n",
    "})\n",
    "\n",
    "colors = ['tab:blue', 'tab:orange', 'tab:green', 'tab:red', 'tab:purple', 'tab:brown', 'tab:pink', 'tab:gray', 'tab:olive']\n",
    "ref_model = ref\n",
    "\n",
    "# combine all properties into one plot\n",
    "\n",
    "plt.figure(figsize=(6*3, 4))\n",
    "plt.ylabel('Density')\n",
    "\n",
    "for idx, prop in enumerate(['qed', 'sa', 'lipinski', 'vina']):\n",
    "    plt.subplot(1, 4, idx+1)\n",
    "    model = bfn_opts[prop]\n",
    "    prop_list = get_prop_list(model, prop)\n",
    "    ref_prop_list = get_prop_list(ref_model, prop)\n",
    "    gen_prop_list = get_prop_list(bfn_ref, prop)\n",
    "    # plot binned histogram with density for each property\n",
    "    if prop in ['qed', 'sa']:\n",
    "        prop_name = prop.upper() + ' (+)'\n",
    "    elif prop == 'vina':\n",
    "        prop_list = [aff for aff in prop_list if aff < 0]\n",
    "        ref_prop_list = [aff for aff in ref_prop_list if aff < 0]\n",
    "        gen_prop_list = [aff for aff in gen_prop_list if aff < 0]\n",
    "        prop_name = 'Vina Score (-)'\n",
    "    \n",
    "    if prop in ['qed', 'sa', 'vina']:\n",
    "        ref_prop_hist = np.histogram(ref_prop_list, bins=50)\n",
    "        prop_hist = np.histogram(prop_list, bins=50)\n",
    "        gen_prop_hist = np.histogram(gen_prop_list, bins=50)\n",
    "        plt.hist(ref_prop_list, bins=50, label=ref_model.name, alpha=0.5, color='tab:gray', density=True)\n",
    "        plt.hist(gen_prop_list, bins=50, label=bfn_ref.name, alpha=0.5, color=colors[0], density=True)\n",
    "        plt.hist(prop_list, bins=50, label=model.name, alpha=0.5, color=colors[1+idx], density=True)\n",
    "    elif prop == 'lipinski':\n",
    "        prop_name = prop.capitalize() + ' (+)'\n",
    "        x = np.arange(6)\n",
    "        ref_prop_arr = np.array(ref_prop_list)\n",
    "        prop_arr = np.array(prop_list)\n",
    "        ref_prop_arr = np.array([np.sum(ref_prop_arr == i) for i in range(6)]) / len(ref_prop_arr)\n",
    "        prop_arr = np.array([np.sum(prop_arr == i) for i in range(6)]) / len(prop_arr)\n",
    "        gen_prop_arr = np.array(gen_prop_list)\n",
    "        gen_prop_arr = np.array([np.sum(gen_prop_arr == i) for i in range(6)]) / len(gen_prop_arr)\n",
    "        ref_dict = [{'x': i, 'y': ref_prop_arr[i], 'hue': ref_model.name} for i in range(6)]\n",
    "        prop_dict = [{'x': i, 'y': prop_arr[i], 'hue': model.name} for i in range(6)]\n",
    "        gen_dict = [{'x': i, 'y': gen_prop_arr[i], 'hue': bfn_ref.name} for i in range(6)]\n",
    "        data_all = ref_dict + gen_dict + prop_dict\n",
    "        data_all = pd.DataFrame(data_all)\n",
    "        sns.barplot(data=data_all, x='x', y='y', hue='hue', palette=['tab:gray', colors[0], colors[1+idx]])\n",
    "    else:\n",
    "        raise ValueError(f\"Unknown property {prop}\")\n",
    "    \n",
    "    # set legend\n",
    "    plt.legend()\n",
    "    if idx != 0: \n",
    "        plt.ylabel('')\n",
    "        plt.xlabel('')\n",
    "    else: plt.ylabel('Density')\n",
    "    plt.title(f'{prop_name}')\n",
    "\n",
    "plt.tight_layout()\n",
    "plt.savefig('all_dist.pdf', bbox_inches='tight', dpi=300)"
   ]
  },
  {
   "cell_type": "code",
   "execution_count": 2,
   "metadata": {},
   "outputs": [],
   "source": [
    "import sys\n",
    "import glob\n",
    "import os\n",
    "from rdkit import Chem\n",
    "sys.path.append('..')\n",
    "\n",
    "import matplotlib.pyplot as plt\n",
    "import numpy as np\n",
    "import seaborn as sns\n",
    "import pandas as pd\n",
    "from core.evaluation.utils.scoring_func import obey_lipinski\n",
    "\n",
    "from eval_all_results import ModelResults\n",
    "import os\n",
    "\n",
    "opt_dir = '/sharefs/share/sbdd_data/opt_results'\n",
    "\n",
    "ref_path = os.path.join(opt_dir, 'crossdocked_test_vina_docked.pt')\n",
    "bfn_ref_path = os.path.join(opt_dir, 'bfn_vina_docked.pt')\n",
    "\n",
    "opt_objectives = [\n",
    "    'vina', 'sa', 'lipinski', 'vina_qed', 'vina_sa', 'vina_qed_sa', \n",
    "    'vina_qed_sa_lipinski',\n",
    "    'qed'\n",
    "]\n",
    "\n",
    "result_dir = '/sharefs/qiukeyue/project/BFN4MolOpt'\n",
    "\n",
    "bfn_opts = {}\n",
    "for label in opt_objectives:\n",
    "    sdf_path = os.path.join(result_dir, f'mols-{label}')\n",
    "    bfn_opts[label] = ModelResults(f'w/ Opt {label}', os.path.join(sdf_path, 'temp_all.pt'))\n",
    "    bfn_opts[label].load_pose_checked_sdf(sdf_path)\n",
    "\n",
    "ref = ModelResults('Reference', ref_path)\n",
    "bfn_ref = ModelResults('w/o Opt', bfn_ref_path)\n",
    "ref.load_vina_docked()\n",
    "bfn_ref.load_vina_docked()\n",
    "\n",
    "models = [ref, bfn_ref] + list(bfn_opts.values())\n",
    "\n",
    "colors = ['tab:blue', 'tab:orange', 'tab:green', 'tab:red', 'tab:purple', 'tab:brown', 'tab:pink', 'tab:gray', 'tab:olive']\n",
    "ref_model = ref\n",
    "\n",
    "# An example of accessing the results\n",
    "def get_prop_list(model, prop):\n",
    "    if prop == 'lipinski':\n",
    "        return [obey_lipinski(res['mol']) for res in model.flat_results]\n",
    "    elif prop == 'vina':\n",
    "        return [res['vina']['score_only'][0]['affinity'] for res in model.flat_results]\n",
    "    elif prop in ['qed', 'sa']:\n",
    "        return [res['chem_results'][prop] for res in model.flat_results]\n",
    "    else:\n",
    "        raise ValueError(f\"Unknown property {prop}\")\n",
    "\n",
    "# combine all properties into one plot\n",
    "# set matplotlib font size to a larger one\n",
    "plt.rcParams.update({'font.size': 14})\n",
    "# set legend font size smaller\n",
    "plt.rcParams.update({\n",
    "    'legend.fontsize': '12',\n",
    "    # 'legend.handlelength': 2\n",
    "})\n",
    "\n",
    "plt.figure(figsize=(6*3, 4))\n",
    "plt.ylabel('Density')\n",
    "\n",
    "for idx, prop in enumerate(['qed', 'sa', 'lipinski', 'vina']):\n",
    "    plt.subplot(1, 4, idx+1)\n",
    "    model = bfn_opts[prop]\n",
    "    prop_list = get_prop_list(model, prop)\n",
    "    ref_prop_list = get_prop_list(ref_model, prop)\n",
    "    gen_prop_list = get_prop_list(bfn_ref, prop)\n",
    "    # plot binned histogram with density for each property\n",
    "    if prop in ['qed', 'sa']:\n",
    "        prop_name = prop.upper() + ' (+)'\n",
    "    elif prop == 'vina':\n",
    "        prop_list = [aff for aff in prop_list if aff < 0]\n",
    "        ref_prop_list = [aff for aff in ref_prop_list if aff < 0]\n",
    "        gen_prop_list = [aff for aff in gen_prop_list if aff < 0]\n",
    "        prop_name = 'Vina Score (-)'\n",
    "    \n",
    "    if prop in ['qed', 'sa', 'vina']:\n",
    "        ref_prop_hist = np.histogram(ref_prop_list, bins=50)\n",
    "        prop_hist = np.histogram(prop_list, bins=50)\n",
    "        gen_prop_hist = np.histogram(gen_prop_list, bins=50)\n",
    "        plt.hist(ref_prop_list, bins=50, label=ref_model.name, alpha=0.5, color='tab:gray', density=True)\n",
    "        plt.hist(gen_prop_list, bins=50, label=bfn_ref.name, alpha=0.5, color=colors[0], density=True)\n",
    "        plt.hist(prop_list, bins=50, label=model.name, alpha=0.5, color=colors[1+idx], density=True)\n",
    "    elif prop == 'lipinski':\n",
    "        prop_name = prop.capitalize() + ' (+)'\n",
    "        x = np.arange(6)\n",
    "        ref_prop_arr = np.array(ref_prop_list)\n",
    "        prop_arr = np.array(prop_list)\n",
    "        ref_prop_arr = np.array([np.sum(ref_prop_arr == i) for i in range(6)]) / len(ref_prop_arr)\n",
    "        prop_arr = np.array([np.sum(prop_arr == i) for i in range(6)]) / len(prop_arr)\n",
    "        gen_prop_arr = np.array(gen_prop_list)\n",
    "        gen_prop_arr = np.array([np.sum(gen_prop_arr == i) for i in range(6)]) / len(gen_prop_arr)\n",
    "        ref_dict = [{'x': i, 'y': ref_prop_arr[i], 'hue': ref_model.name} for i in range(6)]\n",
    "        prop_dict = [{'x': i, 'y': prop_arr[i], 'hue': model.name} for i in range(6)]\n",
    "        gen_dict = [{'x': i, 'y': gen_prop_arr[i], 'hue': bfn_ref.name} for i in range(6)]\n",
    "        data_all = ref_dict + gen_dict + prop_dict\n",
    "        data_all = pd.DataFrame(data_all)\n",
    "        sns.barplot(data=data_all, x='x', y='y', hue='hue', palette=['tab:gray', colors[0], colors[1+idx]])\n",
    "    else:\n",
    "        raise ValueError(f\"Unknown property {prop}\")\n",
    "    \n",
    "    # set legend\n",
    "    plt.legend()\n",
    "    if idx != 0: plt.ylabel('')\n",
    "    else: plt.ylabel('Density')\n",
    "    plt.title(f'{prop_name}')\n",
    "\n",
    "plt.tight_layout()\n",
    "plt.savefig('all_dist.pdf', bbox_inches='tight', dpi=300)"
   ]
  },
  {
   "attachments": {},
   "cell_type": "markdown",
   "metadata": {},
   "source": [
    "# Ablation"
   ]
  },
  {
   "cell_type": "code",
   "execution_count": 37,
   "metadata": {},
   "outputs": [
    {
     "data": {
      "text/html": [
       "<div>\n",
       "<style scoped>\n",
       "    .dataframe tbody tr th:only-of-type {\n",
       "        vertical-align: middle;\n",
       "    }\n",
       "\n",
       "    .dataframe tbody tr th {\n",
       "        vertical-align: top;\n",
       "    }\n",
       "\n",
       "    .dataframe thead th {\n",
       "        text-align: right;\n",
       "    }\n",
       "</style>\n",
       "<table border=\"1\" class=\"dataframe\">\n",
       "  <thead>\n",
       "    <tr style=\"text-align: right;\">\n",
       "      <th></th>\n",
       "      <th>objective</th>\n",
       "      <th>w_pos</th>\n",
       "      <th>w_type</th>\n",
       "      <th>vina_score_mean</th>\n",
       "      <th>vina_score_median</th>\n",
       "      <th>vina_min_mean</th>\n",
       "      <th>vina_min_median</th>\n",
       "      <th>qed_mean</th>\n",
       "      <th>sa_mean</th>\n",
       "      <th>completeness</th>\n",
       "    </tr>\n",
       "  </thead>\n",
       "  <tbody>\n",
       "    <tr>\n",
       "      <th>0</th>\n",
       "      <td>qed</td>\n",
       "      <td>0.1</td>\n",
       "      <td>0.1</td>\n",
       "      <td>-6.03</td>\n",
       "      <td>-6.92</td>\n",
       "      <td>-7.10</td>\n",
       "      <td>-7.19</td>\n",
       "      <td>0.51</td>\n",
       "      <td>0.70</td>\n",
       "      <td>0.97</td>\n",
       "    </tr>\n",
       "    <tr>\n",
       "      <th>1</th>\n",
       "      <td>qed</td>\n",
       "      <td>1.0</td>\n",
       "      <td>1.0</td>\n",
       "      <td>-6.24</td>\n",
       "      <td>-7.09</td>\n",
       "      <td>-7.31</td>\n",
       "      <td>-7.31</td>\n",
       "      <td>0.56</td>\n",
       "      <td>0.71</td>\n",
       "      <td>0.96</td>\n",
       "    </tr>\n",
       "    <tr>\n",
       "      <th>2</th>\n",
       "      <td>qed</td>\n",
       "      <td>10.0</td>\n",
       "      <td>10.0</td>\n",
       "      <td>-6.12</td>\n",
       "      <td>-7.07</td>\n",
       "      <td>-7.29</td>\n",
       "      <td>-7.41</td>\n",
       "      <td>0.66</td>\n",
       "      <td>0.71</td>\n",
       "      <td>0.98</td>\n",
       "    </tr>\n",
       "    <tr>\n",
       "      <th>3</th>\n",
       "      <td>qed</td>\n",
       "      <td>20.0</td>\n",
       "      <td>20.0</td>\n",
       "      <td>-6.33</td>\n",
       "      <td>-7.23</td>\n",
       "      <td>-7.34</td>\n",
       "      <td>-7.64</td>\n",
       "      <td>0.66</td>\n",
       "      <td>0.69</td>\n",
       "      <td>0.98</td>\n",
       "    </tr>\n",
       "    <tr>\n",
       "      <th>4</th>\n",
       "      <td>qed</td>\n",
       "      <td>50.0</td>\n",
       "      <td>50.0</td>\n",
       "      <td>-6.34</td>\n",
       "      <td>-6.96</td>\n",
       "      <td>-7.18</td>\n",
       "      <td>-7.24</td>\n",
       "      <td>0.64</td>\n",
       "      <td>0.65</td>\n",
       "      <td>0.96</td>\n",
       "    </tr>\n",
       "    <tr>\n",
       "      <th>5</th>\n",
       "      <td>qed</td>\n",
       "      <td>100.0</td>\n",
       "      <td>100.0</td>\n",
       "      <td>-6.25</td>\n",
       "      <td>-6.83</td>\n",
       "      <td>-7.02</td>\n",
       "      <td>-7.10</td>\n",
       "      <td>0.62</td>\n",
       "      <td>0.60</td>\n",
       "      <td>0.95</td>\n",
       "    </tr>\n",
       "    <tr>\n",
       "      <th>6</th>\n",
       "      <td>sa</td>\n",
       "      <td>0.1</td>\n",
       "      <td>0.1</td>\n",
       "      <td>-6.30</td>\n",
       "      <td>-7.11</td>\n",
       "      <td>-7.19</td>\n",
       "      <td>-7.29</td>\n",
       "      <td>0.50</td>\n",
       "      <td>0.70</td>\n",
       "      <td>0.96</td>\n",
       "    </tr>\n",
       "    <tr>\n",
       "      <th>7</th>\n",
       "      <td>sa</td>\n",
       "      <td>1.0</td>\n",
       "      <td>1.0</td>\n",
       "      <td>-6.17</td>\n",
       "      <td>-7.16</td>\n",
       "      <td>-7.36</td>\n",
       "      <td>-7.37</td>\n",
       "      <td>0.52</td>\n",
       "      <td>0.73</td>\n",
       "      <td>0.97</td>\n",
       "    </tr>\n",
       "    <tr>\n",
       "      <th>8</th>\n",
       "      <td>sa</td>\n",
       "      <td>10.0</td>\n",
       "      <td>10.0</td>\n",
       "      <td>-5.87</td>\n",
       "      <td>-7.23</td>\n",
       "      <td>-7.39</td>\n",
       "      <td>-7.72</td>\n",
       "      <td>0.57</td>\n",
       "      <td>0.78</td>\n",
       "      <td>0.98</td>\n",
       "    </tr>\n",
       "    <tr>\n",
       "      <th>9</th>\n",
       "      <td>sa</td>\n",
       "      <td>20.0</td>\n",
       "      <td>20.0</td>\n",
       "      <td>-6.14</td>\n",
       "      <td>-7.24</td>\n",
       "      <td>-7.49</td>\n",
       "      <td>-7.72</td>\n",
       "      <td>0.56</td>\n",
       "      <td>0.79</td>\n",
       "      <td>0.98</td>\n",
       "    </tr>\n",
       "    <tr>\n",
       "      <th>10</th>\n",
       "      <td>sa</td>\n",
       "      <td>50.0</td>\n",
       "      <td>50.0</td>\n",
       "      <td>-6.38</td>\n",
       "      <td>-7.29</td>\n",
       "      <td>-7.86</td>\n",
       "      <td>-7.77</td>\n",
       "      <td>0.54</td>\n",
       "      <td>0.79</td>\n",
       "      <td>0.99</td>\n",
       "    </tr>\n",
       "    <tr>\n",
       "      <th>11</th>\n",
       "      <td>sa</td>\n",
       "      <td>100.0</td>\n",
       "      <td>100.0</td>\n",
       "      <td>-6.08</td>\n",
       "      <td>-7.36</td>\n",
       "      <td>-7.51</td>\n",
       "      <td>-7.85</td>\n",
       "      <td>0.54</td>\n",
       "      <td>0.78</td>\n",
       "      <td>0.98</td>\n",
       "    </tr>\n",
       "    <tr>\n",
       "      <th>12</th>\n",
       "      <td>vina</td>\n",
       "      <td>0.1</td>\n",
       "      <td>0.1</td>\n",
       "      <td>-6.28</td>\n",
       "      <td>-6.98</td>\n",
       "      <td>-7.17</td>\n",
       "      <td>-7.25</td>\n",
       "      <td>0.50</td>\n",
       "      <td>0.70</td>\n",
       "      <td>0.96</td>\n",
       "    </tr>\n",
       "    <tr>\n",
       "      <th>13</th>\n",
       "      <td>vina</td>\n",
       "      <td>1.0</td>\n",
       "      <td>1.0</td>\n",
       "      <td>-6.24</td>\n",
       "      <td>-7.01</td>\n",
       "      <td>-7.27</td>\n",
       "      <td>-7.29</td>\n",
       "      <td>0.50</td>\n",
       "      <td>0.69</td>\n",
       "      <td>0.96</td>\n",
       "    </tr>\n",
       "    <tr>\n",
       "      <th>14</th>\n",
       "      <td>vina</td>\n",
       "      <td>10.0</td>\n",
       "      <td>10.0</td>\n",
       "      <td>-6.69</td>\n",
       "      <td>-7.46</td>\n",
       "      <td>-7.46</td>\n",
       "      <td>-7.67</td>\n",
       "      <td>0.51</td>\n",
       "      <td>0.70</td>\n",
       "      <td>0.97</td>\n",
       "    </tr>\n",
       "    <tr>\n",
       "      <th>15</th>\n",
       "      <td>vina</td>\n",
       "      <td>20.0</td>\n",
       "      <td>20.0</td>\n",
       "      <td>-7.03</td>\n",
       "      <td>-7.87</td>\n",
       "      <td>-7.84</td>\n",
       "      <td>-8.08</td>\n",
       "      <td>0.51</td>\n",
       "      <td>0.70</td>\n",
       "      <td>0.98</td>\n",
       "    </tr>\n",
       "    <tr>\n",
       "      <th>16</th>\n",
       "      <td>vina</td>\n",
       "      <td>50.0</td>\n",
       "      <td>50.0</td>\n",
       "      <td>-7.64</td>\n",
       "      <td>-8.38</td>\n",
       "      <td>-8.39</td>\n",
       "      <td>-8.64</td>\n",
       "      <td>0.53</td>\n",
       "      <td>0.68</td>\n",
       "      <td>0.90</td>\n",
       "    </tr>\n",
       "    <tr>\n",
       "      <th>17</th>\n",
       "      <td>vina</td>\n",
       "      <td>100.0</td>\n",
       "      <td>100.0</td>\n",
       "      <td>-9.33</td>\n",
       "      <td>-9.55</td>\n",
       "      <td>-9.87</td>\n",
       "      <td>-9.85</td>\n",
       "      <td>0.55</td>\n",
       "      <td>0.63</td>\n",
       "      <td>0.55</td>\n",
       "    </tr>\n",
       "  </tbody>\n",
       "</table>\n",
       "</div>"
      ],
      "text/plain": [
       "   objective  w_pos  w_type  vina_score_mean  vina_score_median  \\\n",
       "0        qed    0.1     0.1            -6.03              -6.92   \n",
       "1        qed    1.0     1.0            -6.24              -7.09   \n",
       "2        qed   10.0    10.0            -6.12              -7.07   \n",
       "3        qed   20.0    20.0            -6.33              -7.23   \n",
       "4        qed   50.0    50.0            -6.34              -6.96   \n",
       "5        qed  100.0   100.0            -6.25              -6.83   \n",
       "6         sa    0.1     0.1            -6.30              -7.11   \n",
       "7         sa    1.0     1.0            -6.17              -7.16   \n",
       "8         sa   10.0    10.0            -5.87              -7.23   \n",
       "9         sa   20.0    20.0            -6.14              -7.24   \n",
       "10        sa   50.0    50.0            -6.38              -7.29   \n",
       "11        sa  100.0   100.0            -6.08              -7.36   \n",
       "12      vina    0.1     0.1            -6.28              -6.98   \n",
       "13      vina    1.0     1.0            -6.24              -7.01   \n",
       "14      vina   10.0    10.0            -6.69              -7.46   \n",
       "15      vina   20.0    20.0            -7.03              -7.87   \n",
       "16      vina   50.0    50.0            -7.64              -8.38   \n",
       "17      vina  100.0   100.0            -9.33              -9.55   \n",
       "\n",
       "    vina_min_mean  vina_min_median  qed_mean  sa_mean  completeness  \n",
       "0           -7.10            -7.19      0.51     0.70          0.97  \n",
       "1           -7.31            -7.31      0.56     0.71          0.96  \n",
       "2           -7.29            -7.41      0.66     0.71          0.98  \n",
       "3           -7.34            -7.64      0.66     0.69          0.98  \n",
       "4           -7.18            -7.24      0.64     0.65          0.96  \n",
       "5           -7.02            -7.10      0.62     0.60          0.95  \n",
       "6           -7.19            -7.29      0.50     0.70          0.96  \n",
       "7           -7.36            -7.37      0.52     0.73          0.97  \n",
       "8           -7.39            -7.72      0.57     0.78          0.98  \n",
       "9           -7.49            -7.72      0.56     0.79          0.98  \n",
       "10          -7.86            -7.77      0.54     0.79          0.99  \n",
       "11          -7.51            -7.85      0.54     0.78          0.98  \n",
       "12          -7.17            -7.25      0.50     0.70          0.96  \n",
       "13          -7.27            -7.29      0.50     0.69          0.96  \n",
       "14          -7.46            -7.67      0.51     0.70          0.97  \n",
       "15          -7.84            -8.08      0.51     0.70          0.98  \n",
       "16          -8.39            -8.64      0.53     0.68          0.90  \n",
       "17          -9.87            -9.85      0.55     0.63          0.55  "
      ]
     },
     "execution_count": 37,
     "metadata": {},
     "output_type": "execute_result"
    }
   ],
   "source": [
    "import pandas as pd\n",
    "\n",
    "df = pd.read_csv('../ablation-strength.csv')\n",
    "# drop the first column\n",
    "df = df.drop(df.columns[0], axis=1)\n",
    "# keep only the columns we need\n",
    "df = df[['objective', 'w_pos', 'w_type', 'vina_score_mean', 'vina_score_median', 'vina_min_mean', 'vina_min_median', 'qed_mean', 'sa_mean', 'completeness']]\n",
    "# set the precision to .2f\n",
    "df = df.round(2)\n",
    "# hide the index\n",
    "# df.to_latex('project_table.tex', index=False)\n",
    "df"
   ]
  },
  {
   "cell_type": "code",
   "execution_count": 42,
   "metadata": {},
   "outputs": [
    {
     "data": {
      "text/html": [
       "<div>\n",
       "<style scoped>\n",
       "    .dataframe tbody tr th:only-of-type {\n",
       "        vertical-align: middle;\n",
       "    }\n",
       "\n",
       "    .dataframe tbody tr th {\n",
       "        vertical-align: top;\n",
       "    }\n",
       "\n",
       "    .dataframe thead th {\n",
       "        text-align: right;\n",
       "    }\n",
       "</style>\n",
       "<table border=\"1\" class=\"dataframe\">\n",
       "  <thead>\n",
       "    <tr style=\"text-align: right;\">\n",
       "      <th></th>\n",
       "      <th>objective</th>\n",
       "      <th>vina_score_mean</th>\n",
       "      <th>vina_score_median</th>\n",
       "      <th>vina_min_mean</th>\n",
       "      <th>vina_min_median</th>\n",
       "      <th>qed_mean</th>\n",
       "      <th>sa_mean</th>\n",
       "      <th>completeness</th>\n",
       "    </tr>\n",
       "  </thead>\n",
       "  <tbody>\n",
       "    <tr>\n",
       "      <th>0</th>\n",
       "      <td>lipinski</td>\n",
       "      <td>-6.30</td>\n",
       "      <td>-7.06</td>\n",
       "      <td>-7.14</td>\n",
       "      <td>-7.37</td>\n",
       "      <td>0.58</td>\n",
       "      <td>0.70</td>\n",
       "      <td>0.98</td>\n",
       "    </tr>\n",
       "    <tr>\n",
       "      <th>1</th>\n",
       "      <td>qed</td>\n",
       "      <td>-6.33</td>\n",
       "      <td>-7.23</td>\n",
       "      <td>-7.34</td>\n",
       "      <td>-7.64</td>\n",
       "      <td>0.66</td>\n",
       "      <td>0.69</td>\n",
       "      <td>0.98</td>\n",
       "    </tr>\n",
       "    <tr>\n",
       "      <th>2</th>\n",
       "      <td>qed</td>\n",
       "      <td>-6.42</td>\n",
       "      <td>-7.02</td>\n",
       "      <td>-7.32</td>\n",
       "      <td>-7.38</td>\n",
       "      <td>0.65</td>\n",
       "      <td>0.69</td>\n",
       "      <td>0.99</td>\n",
       "    </tr>\n",
       "    <tr>\n",
       "      <th>3</th>\n",
       "      <td>qed</td>\n",
       "      <td>-6.56</td>\n",
       "      <td>-7.07</td>\n",
       "      <td>-7.31</td>\n",
       "      <td>-7.40</td>\n",
       "      <td>0.66</td>\n",
       "      <td>0.70</td>\n",
       "      <td>0.99</td>\n",
       "    </tr>\n",
       "    <tr>\n",
       "      <th>4</th>\n",
       "      <td>qed_sa</td>\n",
       "      <td>-5.98</td>\n",
       "      <td>-6.93</td>\n",
       "      <td>-7.12</td>\n",
       "      <td>-7.33</td>\n",
       "      <td>0.65</td>\n",
       "      <td>0.75</td>\n",
       "      <td>0.98</td>\n",
       "    </tr>\n",
       "    <tr>\n",
       "      <th>5</th>\n",
       "      <td>sa</td>\n",
       "      <td>-6.14</td>\n",
       "      <td>-7.24</td>\n",
       "      <td>-7.49</td>\n",
       "      <td>-7.72</td>\n",
       "      <td>0.56</td>\n",
       "      <td>0.79</td>\n",
       "      <td>0.98</td>\n",
       "    </tr>\n",
       "    <tr>\n",
       "      <th>6</th>\n",
       "      <td>sa</td>\n",
       "      <td>-5.99</td>\n",
       "      <td>-7.34</td>\n",
       "      <td>-7.55</td>\n",
       "      <td>-7.76</td>\n",
       "      <td>0.56</td>\n",
       "      <td>0.79</td>\n",
       "      <td>0.98</td>\n",
       "    </tr>\n",
       "    <tr>\n",
       "      <th>7</th>\n",
       "      <td>vina</td>\n",
       "      <td>-7.03</td>\n",
       "      <td>-7.87</td>\n",
       "      <td>-7.84</td>\n",
       "      <td>-8.08</td>\n",
       "      <td>0.51</td>\n",
       "      <td>0.70</td>\n",
       "      <td>0.98</td>\n",
       "    </tr>\n",
       "    <tr>\n",
       "      <th>8</th>\n",
       "      <td>vina</td>\n",
       "      <td>-7.01</td>\n",
       "      <td>-7.85</td>\n",
       "      <td>-7.81</td>\n",
       "      <td>-8.15</td>\n",
       "      <td>0.53</td>\n",
       "      <td>0.70</td>\n",
       "      <td>0.97</td>\n",
       "    </tr>\n",
       "    <tr>\n",
       "      <th>9</th>\n",
       "      <td>vina</td>\n",
       "      <td>-6.98</td>\n",
       "      <td>-7.79</td>\n",
       "      <td>-7.78</td>\n",
       "      <td>-7.97</td>\n",
       "      <td>0.51</td>\n",
       "      <td>0.70</td>\n",
       "      <td>0.97</td>\n",
       "    </tr>\n",
       "    <tr>\n",
       "      <th>10</th>\n",
       "      <td>vina_qed</td>\n",
       "      <td>-7.05</td>\n",
       "      <td>-7.86</td>\n",
       "      <td>-7.85</td>\n",
       "      <td>-8.11</td>\n",
       "      <td>0.63</td>\n",
       "      <td>0.69</td>\n",
       "      <td>0.98</td>\n",
       "    </tr>\n",
       "    <tr>\n",
       "      <th>11</th>\n",
       "      <td>vina_qed</td>\n",
       "      <td>-7.15</td>\n",
       "      <td>-7.77</td>\n",
       "      <td>-7.99</td>\n",
       "      <td>-8.05</td>\n",
       "      <td>0.63</td>\n",
       "      <td>0.69</td>\n",
       "      <td>0.99</td>\n",
       "    </tr>\n",
       "    <tr>\n",
       "      <th>12</th>\n",
       "      <td>vina_qed_sa</td>\n",
       "      <td>-6.52</td>\n",
       "      <td>-7.43</td>\n",
       "      <td>-7.52</td>\n",
       "      <td>-7.82</td>\n",
       "      <td>0.63</td>\n",
       "      <td>0.75</td>\n",
       "      <td>0.98</td>\n",
       "    </tr>\n",
       "    <tr>\n",
       "      <th>13</th>\n",
       "      <td>vina_qed_sa_lipinski</td>\n",
       "      <td>-6.70</td>\n",
       "      <td>-7.40</td>\n",
       "      <td>-7.63</td>\n",
       "      <td>-7.66</td>\n",
       "      <td>0.63</td>\n",
       "      <td>0.75</td>\n",
       "      <td>0.99</td>\n",
       "    </tr>\n",
       "    <tr>\n",
       "      <th>14</th>\n",
       "      <td>vina_sa</td>\n",
       "      <td>-6.72</td>\n",
       "      <td>-7.78</td>\n",
       "      <td>-7.84</td>\n",
       "      <td>-8.11</td>\n",
       "      <td>0.54</td>\n",
       "      <td>0.77</td>\n",
       "      <td>0.98</td>\n",
       "    </tr>\n",
       "  </tbody>\n",
       "</table>\n",
       "</div>"
      ],
      "text/plain": [
       "               objective  vina_score_mean  vina_score_median  vina_min_mean  \\\n",
       "0               lipinski            -6.30              -7.06          -7.14   \n",
       "1                    qed            -6.33              -7.23          -7.34   \n",
       "2                    qed            -6.42              -7.02          -7.32   \n",
       "3                    qed            -6.56              -7.07          -7.31   \n",
       "4                 qed_sa            -5.98              -6.93          -7.12   \n",
       "5                     sa            -6.14              -7.24          -7.49   \n",
       "6                     sa            -5.99              -7.34          -7.55   \n",
       "7                   vina            -7.03              -7.87          -7.84   \n",
       "8                   vina            -7.01              -7.85          -7.81   \n",
       "9                   vina            -6.98              -7.79          -7.78   \n",
       "10              vina_qed            -7.05              -7.86          -7.85   \n",
       "11              vina_qed            -7.15              -7.77          -7.99   \n",
       "12           vina_qed_sa            -6.52              -7.43          -7.52   \n",
       "13  vina_qed_sa_lipinski            -6.70              -7.40          -7.63   \n",
       "14               vina_sa            -6.72              -7.78          -7.84   \n",
       "\n",
       "    vina_min_median  qed_mean  sa_mean  completeness  \n",
       "0             -7.37      0.58     0.70          0.98  \n",
       "1             -7.64      0.66     0.69          0.98  \n",
       "2             -7.38      0.65     0.69          0.99  \n",
       "3             -7.40      0.66     0.70          0.99  \n",
       "4             -7.33      0.65     0.75          0.98  \n",
       "5             -7.72      0.56     0.79          0.98  \n",
       "6             -7.76      0.56     0.79          0.98  \n",
       "7             -8.08      0.51     0.70          0.98  \n",
       "8             -8.15      0.53     0.70          0.97  \n",
       "9             -7.97      0.51     0.70          0.97  \n",
       "10            -8.11      0.63     0.69          0.98  \n",
       "11            -8.05      0.63     0.69          0.99  \n",
       "12            -7.82      0.63     0.75          0.98  \n",
       "13            -7.66      0.63     0.75          0.99  \n",
       "14            -8.11      0.54     0.77          0.98  "
      ]
     },
     "execution_count": 42,
     "metadata": {},
     "output_type": "execute_result"
    }
   ],
   "source": [
    "import pandas as pd\n",
    "\n",
    "df = pd.read_csv('../project.csv')\n",
    "# drop the first column\n",
    "df = df.drop(df.columns[-2:], axis=1)\n",
    "# keep only the columns we need\n",
    "# df = df[['objective', 'w_pos', 'w_type', 'vina_score_mean', 'vina_score_median', 'vina_min_mean', 'vina_min_median', 'qed_mean', 'sa_mean', 'completeness']]\n",
    "# set the precision to .2f\n",
    "df = df.round(2)\n",
    "# hide the index\n",
    "# df.to_latex('project_table.tex', index=False)\n",
    "df"
   ]
  },
  {
   "attachments": {},
   "cell_type": "markdown",
   "metadata": {},
   "source": [
    "# Case study: interaction visualization for R-group design & Scaffold Hopping"
   ]
  },
  {
   "attachments": {},
   "cell_type": "markdown",
   "metadata": {},
   "source": [
    "## R-group"
   ]
  },
  {
   "cell_type": "code",
   "execution_count": 22,
   "metadata": {},
   "outputs": [
    {
     "data": {
      "image/png": "[encoded data removed]",
      "text/html": [
       "<table><tr><td colspan=\"2\" style=\"text-align: center;\"><image src=\"data:image/png;base64,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\"></td></tr>\n",
       "<tr><th style=\"text-align: right\">vina_score</th><td style=\"text-align: left\">-7.579</td></tr>\n",
       "<tr><th style=\"text-align: right\">vina_minimize</th><td style=\"text-align: left\">-7.777</td></tr></table>"
      ],
      "text/plain": [
       "<rdkit.Chem.rdchem.Mol at 0x7fe57b2cdc80>"
      ]
     },
     "execution_count": 22,
     "metadata": {},
     "output_type": "execute_result"
    }
   ],
   "source": [
    "compare_mol = Chem.SDMolSupplier('../mols-inpaint/mols-vina_sa_prior20/360.sdf')[0]\n",
    "compare_mol"
   ]
  },
  {
   "cell_type": "code",
   "execution_count": 23,
   "metadata": {},
   "outputs": [
    {
     "data": {
      "text/plain": [
       "(0.5289888968616422, 0.83, -7.579)"
      ]
     },
     "execution_count": 23,
     "metadata": {},
     "output_type": "execute_result"
    }
   ],
   "source": [
    "from core.evaluation.utils.sascorer import compute_sa_score\n",
    "comp_qed = Chem.QED.qed(compare_mol)\n",
    "comp_sa = compute_sa_score(compare_mol)\n",
    "comp_qed, comp_sa, float(compare_mol.GetProp('vina_score'))"
   ]
  },
  {
   "cell_type": "code",
   "execution_count": 10,
   "metadata": {},
   "outputs": [
    {
     "data": {
      "image/png": "[encoded data removed]",
      "text/plain": [
       "<rdkit.Chem.rdchem.Mol at 0x7fe57cc15450>"
      ]
     },
     "execution_count": 10,
     "metadata": {},
     "output_type": "execute_result"
    }
   ],
   "source": [
    "ligand_imp = compare_mol.GetProp('_Name')\n",
    "ref_fns = [r['ligand_filename'] for r in ref.flat_results]\n",
    "ref_mol_imp = ref.flat_results[ref_fns.index(ligand_imp)]['mol']\n",
    "ref_mol_imp"
   ]
  },
  {
   "cell_type": "code",
   "execution_count": 12,
   "metadata": {},
   "outputs": [
    {
     "data": {
      "text/plain": [
       "(0.33891445297146083, 0.66, -5.452)"
      ]
     },
     "execution_count": 12,
     "metadata": {},
     "output_type": "execute_result"
    }
   ],
   "source": [
    "ref_mol_vina = ref.flat_results[ref_fns.index(ligand_imp)]['vina']\n",
    "ref_mol_qed = ref.flat_results[ref_fns.index(ligand_imp)]['chem_results']['qed']\n",
    "ref_mol_sa = ref.flat_results[ref_fns.index(ligand_imp)]['chem_results']['sa']\n",
    "ref_mol_qed, ref_mol_sa, ref_mol_vina['score_only'][0]['affinity']"
   ]
  },
  {
   "cell_type": "code",
   "execution_count": 32,
   "metadata": {},
   "outputs": [
    {
     "data": {
      "image/png": "[encoded data removed]",
      "text/html": [
       "<table><tr><td colspan=\"2\" style=\"text-align: center;\"><image src=\"data:image/png;base64,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\"></td></tr>\n",
       "<tr><th style=\"text-align: right\">vina_score</th><td style=\"text-align: left\">-11.282</td></tr>\n",
       "<tr><th style=\"text-align: right\">vina_minimize</th><td style=\"text-align: left\">-11.261</td></tr></table>"
      ],
      "text/plain": [
       "<rdkit.Chem.rdchem.Mol at 0x7fe57b294190>"
      ]
     },
     "execution_count": 32,
     "metadata": {},
     "output_type": "execute_result"
    }
   ],
   "source": [
    "compare_mol = Chem.SDMolSupplier('../mols-inpaint/mols-vina_sa_prior20/204.sdf')[0]\n",
    "compare_mol"
   ]
  },
  {
   "cell_type": "code",
   "execution_count": 33,
   "metadata": {},
   "outputs": [
    {
     "data": {
      "text/plain": [
       "(0.6361676908785369, 0.68, -11.282)"
      ]
     },
     "execution_count": 33,
     "metadata": {},
     "output_type": "execute_result"
    }
   ],
   "source": [
    "comp_qed = Chem.QED.qed(compare_mol)\n",
    "comp_sa = compute_sa_score(compare_mol)\n",
    "comp_qed, comp_sa, float(compare_mol.GetProp('vina_score'))"
   ]
  },
  {
   "cell_type": "code",
   "execution_count": 34,
   "metadata": {},
   "outputs": [
    {
     "data": {
      "image/png": "[encoded data removed]",
      "text/plain": [
       "<rdkit.Chem.rdchem.Mol at 0x7fe57cc1fe00>"
      ]
     },
     "execution_count": 34,
     "metadata": {},
     "output_type": "execute_result"
    }
   ],
   "source": [
    "ligand_imp = compare_mol.GetProp('_Name')\n",
    "ref_fns = [r['ligand_filename'] for r in ref.flat_results]\n",
    "ref_mol_imp = ref.flat_results[ref_fns.index(ligand_imp)]['mol']\n",
    "ref_mol_imp"
   ]
  },
  {
   "cell_type": "code",
   "execution_count": 35,
   "metadata": {},
   "outputs": [
    {
     "data": {
      "text/plain": [
       "(0.5396325132302963, 0.58, -9.929)"
      ]
     },
     "execution_count": 35,
     "metadata": {},
     "output_type": "execute_result"
    }
   ],
   "source": [
    "ref_mol_vina = ref.flat_results[ref_fns.index(ligand_imp)]['vina']\n",
    "ref_mol_qed = ref.flat_results[ref_fns.index(ligand_imp)]['chem_results']['qed']\n",
    "ref_mol_sa = ref.flat_results[ref_fns.index(ligand_imp)]['chem_results']['sa']\n",
    "ref_mol_qed, ref_mol_sa, ref_mol_vina['score_only'][0]['affinity']"
   ]
  },
  {
   "attachments": {},
   "cell_type": "markdown",
   "metadata": {},
   "source": [
    "## Scaffold Hopping"
   ]
  },
  {
   "cell_type": "code",
   "execution_count": 24,
   "metadata": {},
   "outputs": [
    {
     "data": {
      "image/png": "[encoded data removed]",
      "text/html": [
       "<table><tr><td colspan=\"2\" style=\"text-align: center;\"><image src=\"data:image/png;base64,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\"></td></tr>\n",
       "<tr><th style=\"text-align: right\">vina_score</th><td style=\"text-align: left\">-5.333</td></tr>\n",
       "<tr><th style=\"text-align: right\">vina_minimize</th><td style=\"text-align: left\">-5.349</td></tr></table>"
      ],
      "text/plain": [
       "<rdkit.Chem.rdchem.Mol at 0x7fe57b2cdac0>"
      ]
     },
     "execution_count": 24,
     "metadata": {},
     "output_type": "execute_result"
    }
   ],
   "source": [
    "sca_mol = Chem.SDMolSupplier('../mols-scaffold/mols-vina_qed_sa_prior20_scaffold/173.sdf')[0]\n",
    "sca_mol"
   ]
  },
  {
   "cell_type": "code",
   "execution_count": 25,
   "metadata": {},
   "outputs": [
    {
     "data": {
      "text/plain": [
       "(0.6763840517918872, 0.94, -5.333)"
      ]
     },
     "execution_count": 25,
     "metadata": {},
     "output_type": "execute_result"
    }
   ],
   "source": [
    "sca_qed = Chem.QED.qed(sca_mol)\n",
    "sca_sa = compute_sa_score(sca_mol)\n",
    "sca_qed, sca_sa, float(sca_mol.GetProp('vina_score'))"
   ]
  },
  {
   "cell_type": "code",
   "execution_count": 26,
   "metadata": {},
   "outputs": [
    {
     "data": {
      "image/png": "[encoded data removed]",
      "text/plain": [
       "<rdkit.Chem.rdchem.Mol at 0x7fe57cc1f310>"
      ]
     },
     "execution_count": 26,
     "metadata": {},
     "output_type": "execute_result"
    }
   ],
   "source": [
    "ligand_fn = sca_mol.GetProp('_Name')\n",
    "ref_mol_sca = ref.flat_results[ref_fns.index(ligand_fn)]['mol']\n",
    "ref_mol_sca"
   ]
  },
  {
   "cell_type": "code",
   "execution_count": 27,
   "metadata": {},
   "outputs": [
    {
     "name": "stdout",
     "output_type": "stream",
     "text": [
      "-4.401 0.5802327471587276 0.83\n"
     ]
    }
   ],
   "source": [
    "ref_mol_vina = ref.flat_results[ref_fns.index(ligand_fn)]['vina']\n",
    "ref_mol_qed = ref.flat_results[ref_fns.index(ligand_fn)]['chem_results']['qed']\n",
    "ref_mol_sa = ref.flat_results[ref_fns.index(ligand_fn)]['chem_results']['sa']\n",
    "assert ref_mol_qed == Chem.QED.qed(ref_mol_sca) and ref_mol_sa == compute_sa_score(ref_mol_sca)\n",
    "print( \n",
    "ref_mol_vina['score_only'][0]['affinity'], ref_mol_qed, ref_mol_sa\n",
    ")"
   ]
  },
  {
   "cell_type": "code",
   "execution_count": 28,
   "metadata": {},
   "outputs": [
    {
     "data": {
      "image/png": "[encoded data removed]",
      "text/html": [
       "<table><tr><td colspan=\"2\" style=\"text-align: center;\"><image src=\"data:image/png;base64,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\"></td></tr>\n",
       "<tr><th style=\"text-align: right\">vina_score</th><td style=\"text-align: left\">-5.984</td></tr>\n",
       "<tr><th style=\"text-align: right\">vina_minimize</th><td style=\"text-align: left\">-6.121</td></tr></table>"
      ],
      "text/plain": [
       "<rdkit.Chem.rdchem.Mol at 0x7fe57b2cddd0>"
      ]
     },
     "execution_count": 28,
     "metadata": {},
     "output_type": "execute_result"
    }
   ],
   "source": [
    "sca_mol = Chem.SDMolSupplier('../mols-scaffold/mols-vina_qed_sa_prior20_scaffold/960.sdf')[0]\n",
    "sca_mol"
   ]
  },
  {
   "cell_type": "code",
   "execution_count": 29,
   "metadata": {},
   "outputs": [
    {
     "data": {
      "text/plain": [
       "(0.5966514566935309, 0.74, -5.984)"
      ]
     },
     "execution_count": 29,
     "metadata": {},
     "output_type": "execute_result"
    }
   ],
   "source": [
    "sca_qed = Chem.QED.qed(sca_mol)\n",
    "sca_sa = compute_sa_score(sca_mol)\n",
    "sca_qed, sca_sa, float(sca_mol.GetProp('vina_score'))"
   ]
  },
  {
   "cell_type": "code",
   "execution_count": 30,
   "metadata": {},
   "outputs": [
    {
     "data": {
      "image/png": "[encoded data removed]",
      "text/plain": [
       "<rdkit.Chem.rdchem.Mol at 0x7fe57cbe4e50>"
      ]
     },
     "execution_count": 30,
     "metadata": {},
     "output_type": "execute_result"
    }
   ],
   "source": [
    "ligand_fn = sca_mol.GetProp('_Name')\n",
    "ref_mol_sca = ref.flat_results[ref_fns.index(ligand_fn)]['mol']\n",
    "ref_mol_sca"
   ]
  },
  {
   "cell_type": "code",
   "execution_count": 31,
   "metadata": {},
   "outputs": [
    {
     "name": "stdout",
     "output_type": "stream",
     "text": [
      "-5.393 0.4070282264144997 0.62\n"
     ]
    }
   ],
   "source": [
    "ref_mol_vina = ref.flat_results[ref_fns.index(ligand_fn)]['vina']\n",
    "ref_mol_qed = ref.flat_results[ref_fns.index(ligand_fn)]['chem_results']['qed']\n",
    "ref_mol_sa = ref.flat_results[ref_fns.index(ligand_fn)]['chem_results']['sa']\n",
    "assert ref_mol_qed == Chem.QED.qed(ref_mol_sca) and ref_mol_sa == compute_sa_score(ref_mol_sca)\n",
    "print( \n",
    "ref_mol_vina['score_only'][0]['affinity'], ref_mol_qed, ref_mol_sa\n",
    ")"
   ]
  },
  {
   "cell_type": "code",
   "execution_count": 79,
   "metadata": {},
   "outputs": [
    {
     "data": {
      "text/plain": [
       "96"
      ]
     },
     "execution_count": 79,
     "metadata": {},
     "output_type": "execute_result"
    }
   ],
   "source": [
    "import glob\n",
    "\n",
    "model_inpainting = ModelResults('Inpainting', '../mols-inpaint/mols-vina_sa_prior20/temp_all.pt')\n",
    "model_fns = glob.glob('../mols-inpaint/mols-vina_sa_prior20/*.sdf')\n",
    "model_results = [Chem.SDMolSupplier(fn)[0] for fn in model_fns]\n",
    "model_fns = [fn for fn in model_fns if model_results[model_fns.index(fn)] is not None]\n",
    "model_results = [mol for mol in model_results if mol is not None]\n",
    "model_inpainting.flat_results = [{'mol': mol, 'ligand_filename': mol.GetProp('_Name')} for mol in model_results]\n",
    "\n",
    "molist = [r['mol'] for r in model_inpainting.flat_results]\n",
    "qed_list = [Chem.QED.qed(mol) for mol in molist]\n",
    "sa_list = [compute_sa_score(mol) for mol in molist]\n",
    "vina_list = [float(r['mol'].GetProp('vina_score')) if r['mol'].HasProp('vina_score') else 0 for r in model_inpainting.flat_results]\n",
    "\n",
    "ref_list = [ref.flat_results[ref_fns.index(mol.GetProp('_Name'))]['mol'] for mol in molist]\n",
    "ref_qed_list = [Chem.QED.qed(mol) for mol in ref_list]\n",
    "ref_sa_list = [compute_sa_score(mol) for mol in ref_list]\n",
    "ref_vina_list = [float(ref.flat_results[ref_fns.index(mol.GetProp('_Name'))]['vina']['score_only'][0]['affinity']) for mol in molist]\n",
    "\n",
    "import numpy as np\n",
    "all_improved = np.array([q >= rq - 0.005 and s >= rs - 0.005 and v < rv for q, rq, s, rs, v, rv in zip(qed_list, ref_qed_list, sa_list, ref_sa_list, vina_list, ref_vina_list)])\n",
    "fn_improved = sorted([fn for fn, imp in zip(model_fns, all_improved) if imp], key=lambda x: int(x.split('/')[-1].split('.')[0]))\n",
    "len(fn_improved)"
   ]
  },
  {
   "cell_type": "code",
   "execution_count": 80,
   "metadata": {},
   "outputs": [],
   "source": [
    "with open('improved_inpainting.txt', 'w') as f:\n",
    "    f.write('\\n'.join(fn_improved))"
   ]
  },
  {
   "cell_type": "code",
   "execution_count": 75,
   "metadata": {},
   "outputs": [
    {
     "data": {
      "text/plain": [
       "125"
      ]
     },
     "execution_count": 75,
     "metadata": {},
     "output_type": "execute_result"
    }
   ],
   "source": [
    "import glob\n",
    "\n",
    "model_inpainting = ModelResults('Scaffold', '../mols-scaffold/mols-vina_qed_sa_prior20_scaffold/temp_all.pt')\n",
    "model_fns = glob.glob('../mols-scaffold/mols-vina_qed_sa_prior20_scaffold/*.sdf')\n",
    "model_results = [Chem.SDMolSupplier(fn)[0] for fn in model_fns]\n",
    "model_fns = [fn for fn in model_fns if model_results[model_fns.index(fn)] is not None]\n",
    "model_results = [mol for mol in model_results if mol is not None]\n",
    "model_inpainting.flat_results = [{'mol': mol, 'ligand_filename': mol.GetProp('_Name')} for mol in model_results]\n",
    "\n",
    "molist = [r['mol'] for r in model_inpainting.flat_results]\n",
    "qed_list = [Chem.QED.qed(mol) for mol in molist]\n",
    "sa_list = [compute_sa_score(mol) for mol in molist]\n",
    "vina_list = [float(r['mol'].GetProp('vina_score')) if r['mol'].HasProp('vina_score') else 0 for r in model_inpainting.flat_results]\n",
    "\n",
    "ref_list = [ref.flat_results[ref_fns.index(mol.GetProp('_Name'))]['mol'] for mol in molist]\n",
    "ref_qed_list = [Chem.QED.qed(mol) for mol in ref_list]\n",
    "ref_sa_list = [compute_sa_score(mol) for mol in ref_list]\n",
    "ref_vina_list = [float(ref.flat_results[ref_fns.index(mol.GetProp('_Name'))]['vina']['score_only'][0]['affinity']) for mol in molist]\n",
    "\n",
    "import numpy as np\n",
    "all_improved = np.array([q >= rq - 0.005 and s >= rs - 0.005 and v < rv for q, rq, s, rs, v, rv in zip(qed_list, ref_qed_list, sa_list, ref_sa_list, vina_list, ref_vina_list)])\n",
    "fn_improved = sorted([fn for fn, imp in zip(model_fns, all_improved) if imp])\n",
    "len(fn_improved)"
   ]
  },
  {
   "cell_type": "code",
   "execution_count": 77,
   "metadata": {},
   "outputs": [],
   "source": [
    "fn_improved = sorted([fn for fn, imp in zip(model_fns, all_improved) if imp], key=lambda x: int(x.split('/')[-1].split('.')[0]))\n",
    "with open('improved_scaffold.txt', 'w') as f:\n",
    "    f.write('\\n'.join(fn_improved))"
   ]
  },
  {
   "attachments": {},
   "cell_type": "markdown",
   "metadata": {},
   "source": [
    "## Visualize classifier loss"
   ]
  },
  {
   "attachments": {},
   "cell_type": "markdown",
   "metadata": {},
   "source": [
    "### Affinity (un-normalize from 1 to 16x)"
   ]
  },
  {
   "cell_type": "code",
   "execution_count": 23,
   "metadata": {},
   "outputs": [
    {
     "data": {
      "image/png": "[encoded data removed]",
      "text/plain": [
       "<Figure size 432x288 with 1 Axes>"
      ]
     },
     "metadata": {
      "needs_background": "light"
     },
     "output_type": "display_data"
    }
   ],
   "source": [
    "import numpy as np\n",
    "import torch\n",
    "import matplotlib.pyplot as plt\n",
    "\n",
    "classifier_dict = {\n",
    "    'parameter': 'train_prop/train_prop_affinity_28c0876_5352',\n",
    "    # 'sample': 'train_prop_noisy/train_prop_noisy_affinity_f9ad1cb_24434',\n",
    "    'sample': 'train_prop_noisy/train_prop_noisy_affinity_6141c36_18919',\n",
    "    'data': 'train_prop_x0/affinity_7ec42d8_17211',\n",
    "}\n",
    "\n",
    "classifier_results = {}\n",
    "for key, value in classifier_dict.items():\n",
    "    classifier_results[key] = torch.load(f'/sharefs/qiukeyue/project/logs/qiukeyue_bfn_molopt/{value}/checkpoints/loss_traj.pt')\n",
    "    # plot the loss trajectory\n",
    "    plt.plot(np.linspace(0, 1, 100), classifier_results[key], label=key)\n",
    "\n",
    "plt.xlabel('Generative Process')\n",
    "plt.ylabel('MSE')\n",
    "plt.legend()\n",
    "plt.show()"
   ]
  },
  {
   "cell_type": "code",
   "execution_count": 22,
   "metadata": {},
   "outputs": [
    {
     "data": {
      "image/png": "[encoded data removed]",
      "text/plain": [
       "<Figure size 432x288 with 1 Axes>"
      ]
     },
     "metadata": {
      "needs_background": "light"
     },
     "output_type": "display_data"
    }
   ],
   "source": [
    "import numpy as np\n",
    "import torch\n",
    "import matplotlib.pyplot as plt\n",
    "\n",
    "classifier_dict = {\n",
    "    # 'parameter': 'train_prop/train_prop_affinity_28c0876_5352',\n",
    "    'sample (4 layers)': 'train_prop_noisy/train_prop_noisy_affinity_f9ad1cb_24434',\n",
    "    'sample (9 layers)': 'train_prop_noisy/train_prop_noisy_affinity_6141c36_18919',\n",
    "    # 'data': 'train_prop_x0/affinity_7ec42d8_17211',\n",
    "}\n",
    "\n",
    "plt.figure()\n",
    "classifier_results = {}\n",
    "for key, value in classifier_dict.items():\n",
    "    classifier_results[key] = torch.load(f'/sharefs/qiukeyue/project/logs/qiukeyue_bfn_molopt/{value}/checkpoints/loss_traj.pt')\n",
    "    # plot the loss trajectory\n",
    "    plt.plot(np.linspace(0, 1, 100), classifier_results[key], label=key)\n",
    "\n",
    "plt.xlabel('Generative Process')\n",
    "plt.ylabel('MSE')\n",
    "plt.legend()\n",
    "plt.show()"
   ]
  },
  {
   "cell_type": "code",
   "execution_count": 17,
   "metadata": {},
   "outputs": [
    {
     "data": {
      "image/png": "[encoded data removed]",
      "text/plain": [
       "<Figure size 432x288 with 1 Axes>"
      ]
     },
     "metadata": {
      "needs_background": "light"
     },
     "output_type": "display_data"
    }
   ],
   "source": [
    "import numpy as np\n",
    "import torch\n",
    "import matplotlib.pyplot as plt\n",
    "\n",
    "classifier_dict = {\n",
    "    'parameter': 'train_prop/train_prop_affinity_28c0876_5352',\n",
    "    # 'sample (4)': 'train_prop_noisy/train_prop_noisy_affinity_f9ad1cb_24434',\n",
    "    'sample': 'train_prop_noisy/train_prop_noisy_affinity_6141c36_18919',\n",
    "    'data': 'train_prop_x0/affinity_7ec42d8_17211',\n",
    "}\n",
    "\n",
    "classifier_results = {}\n",
    "for key, value in classifier_dict.items():\n",
    "    classifier_results[key] = torch.load(f'/sharefs/qiukeyue/project/logs/qiukeyue_bfn_molopt/{value}/checkpoints/loss_traj.pt')\n",
    "    # plot the loss trajectory\n",
    "    plt.plot(classifier_results[key], label=key)\n",
    "\n",
    "# plt.hlines(2.3, 0, 1, colors='gray', linestyles='dashed')\n",
    "\n",
    "plt.title('Affinity Prediction')\n",
    "plt.xlabel('Generative Process')\n",
    "plt.ylabel('MAE (kcal/mol)')\n",
    "plt.legend()\n",
    "plt.show()"
   ]
  },
  {
   "attachments": {},
   "cell_type": "markdown",
   "metadata": {},
   "source": [
    "### QED, SA"
   ]
  },
  {
   "cell_type": "code",
   "execution_count": 20,
   "metadata": {},
   "outputs": [
    {
     "data": {
      "image/png": "[encoded data removed]",
      "text/plain": [
       "<Figure size 432x288 with 1 Axes>"
      ]
     },
     "metadata": {
      "needs_background": "light"
     },
     "output_type": "display_data"
    }
   ],
   "source": [
    "import numpy as np\n",
    "import torch\n",
    "import matplotlib.pyplot as plt\n",
    "import os\n",
    "\n",
    "classifier_dict = {\n",
    "    'parameter': 'train_prop/train_prop_qed_28c0876_9549',\n",
    "    # 'sample (4)': 'train_prop_noisy/train_prop_noisy_qed_f9ad1cb_28735',\n",
    "    'sample (norm)': 'train_prop_noisy/train_prop_noisy_qed_norm_6141c36_30294',\n",
    "    'data': 'train_prop_x0/qed_7ec42d8_27269',\n",
    "    'parameter (norm)': 'train_prop/train_prop_qed_norm_b4418d7_30976',\n",
    "}\n",
    "\n",
    "classifier_results = {}\n",
    "for key, value in classifier_dict.items():\n",
    "    if not os.path.exists(f'/sharefs/qiukeyue/project/logs/qiukeyue_bfn_molopt/{value}/checkpoints/loss_traj.pt'):\n",
    "        print(f\"File {value} does not exist. Skip.\")\n",
    "        continue\n",
    "    classifier_results[key] = torch.load(f'/sharefs/qiukeyue/project/logs/qiukeyue_bfn_molopt/{value}/checkpoints/loss_traj.pt')\n",
    "    # plot the loss trajectory\n",
    "    if len(classifier_results[key]) == 1000:\n",
    "        classifier_results[key] = classifier_results[key][::10]\n",
    "    plt.plot(classifier_results[key], label=key)\n",
    "\n",
    "# plt.hlines(2.3, 0, 1, colors='gray', linestyles='dashed')\n",
    "\n",
    "plt.title('QED Prediction')\n",
    "plt.xlabel('Generative Process')\n",
    "plt.ylabel('MAE')\n",
    "plt.legend()\n",
    "plt.show()"
   ]
  },
  {
   "cell_type": "code",
   "execution_count": 21,
   "metadata": {},
   "outputs": [
    {
     "data": {
      "image/png": "[encoded data removed]",
      "text/plain": [
       "<Figure size 432x288 with 1 Axes>"
      ]
     },
     "metadata": {
      "needs_background": "light"
     },
     "output_type": "display_data"
    }
   ],
   "source": [
    "import numpy as np\n",
    "import torch\n",
    "import matplotlib.pyplot as plt\n",
    "\n",
    "classifier_dict = {\n",
    "    'parameter': 'train_prop/train_prop_sa_28c0876_5874',\n",
    "    # 'sample (4)': 'train_prop_noisy/train_prop_noisy_sa_f9ad1cb_28066',\n",
    "    'sample (norm)': 'train_prop_noisy/train_prop_noisy_sa_norm_6141c36_8501',\n",
    "    'data': 'train_prop_x0/sa_7ec42d8_329',\n",
    "    'parameter (norm)': 'train_prop/train_prop_sa_norm_b4418d7_8911',\n",
    "}\n",
    "\n",
    "classifier_results = {}\n",
    "for key, value in classifier_dict.items():\n",
    "    if not os.path.exists(f'/sharefs/qiukeyue/project/logs/qiukeyue_bfn_molopt/{value}/checkpoints/loss_traj.pt'):\n",
    "        print(f\"File {value} does not exist. Skip.\")\n",
    "        continue\n",
    "    classifier_results[key] = torch.load(f'/sharefs/qiukeyue/project/logs/qiukeyue_bfn_molopt/{value}/checkpoints/loss_traj.pt')\n",
    "    # plot the loss trajectory\n",
    "    if len(classifier_results[key]) == 1000:\n",
    "        classifier_results[key] = classifier_results[key][::10]\n",
    "    plt.plot(classifier_results[key], label=key)\n",
    "\n",
    "# plt.hlines(2.3, 0, 1, colors='gray', linestyles='dashed')\n",
    "\n",
    "plt.title('SA Prediction')\n",
    "plt.xlabel('Generative Process')\n",
    "plt.ylabel('MAE')\n",
    "plt.legend()\n",
    "plt.show()"
   ]
  }
 ],
 "metadata": {
  "kernelspec": {
   "display_name": "edm-dock",
   "language": "python",
   "name": "python3"
  },
  "language_info": {
   "codemirror_mode": {
    "name": "ipython",
    "version": 3
   },
   "file_extension": ".py",
   "mimetype": "text/x-python",
   "name": "python",
   "nbconvert_exporter": "python",
   "pygments_lexer": "ipython3",
   "version": "3.9.13"
  }
 },
 "nbformat": 4,
 "nbformat_minor": 2
}
